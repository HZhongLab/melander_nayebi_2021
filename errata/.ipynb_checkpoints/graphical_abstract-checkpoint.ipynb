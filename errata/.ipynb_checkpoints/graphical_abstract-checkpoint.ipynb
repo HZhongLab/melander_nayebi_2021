{
 "cells": [
  {
   "cell_type": "code",
   "execution_count": 6,
   "id": "moderate-village",
   "metadata": {},
   "outputs": [],
   "source": [
    "import csv\n",
    "import statsmodels.api as sm\n",
    "import copy\n",
    "import os\n",
    "import sys\n",
    "\n",
    "import matplotlib.pyplot as plt\n",
    "import numpy as np\n",
    "import scipy.io\n",
    "import scipy.stats\n",
    "import pandas as pd\n",
    "\n",
    "# matplotlib Paramaters\n",
    "from matplotlib import rc\n",
    "\n",
    "sys.path.append('./src/')\n",
    "\n",
    "from file_io import load_ephys_data, load_synfile, get_synfiles\n",
    "from weight import extract, construct_weight_matrix\n",
    "from binary import get_distances, get_presence, calc_norm_dens, calc_true_dens\n",
    "from preproc import get_hq_data, split_unsure_synapses"
   ]
  },
  {
   "cell_type": "code",
   "execution_count": 7,
   "id": "outer-edward",
   "metadata": {},
   "outputs": [],
   "source": [
    "rc(\"lines\", linewidth=2)\n",
    "rc(\"axes\", lw=1)\n",
    "rc(\"axes.spines\", top=False)\n",
    "rc(\"axes.spines\", right=False)\n",
    "rc(\"xtick.major\", pad=5, width=1, size=5)\n",
    "rc(\"ytick.major\", pad=5, width=1, size=5)\n",
    "rc(\"font\", size=20)"
   ]
  },
  {
   "cell_type": "code",
   "execution_count": 8,
   "id": "hybrid-corporation",
   "metadata": {},
   "outputs": [],
   "source": [
    "# Path to raw data\n",
    "DATAPATH = \"/mnt/c/Users/Joshua Melander/OHSU/lesoin_data/\"\n"
   ]
  },
  {
   "cell_type": "code",
   "execution_count": 15,
   "id": "comfortable-processor",
   "metadata": {},
   "outputs": [],
   "source": [
    "def fit_distribution(data, bins=1000,dist='lognorm'):\n",
    "    if dist=='lognorm':\n",
    "        print('Fitting LogNorm')\n",
    "        dist=scipy.stats.lognorm\n",
    "    elif dist=='norm':\n",
    "        print('Fitting Norm')\n",
    "        dist=scipy.stats.norm\n",
    "\n",
    "\n",
    "    y, x = np.histogram(data, bins=bins, density=True)\n",
    "    x = (x + np.roll(x, -1))[:-1] / 2.0\n",
    "\n",
    "    # Estimate distribution parameters from data\n",
    "    params = dist.fit(data)\n",
    "    \n",
    "    # Separate parts of parameters\n",
    "    arg = params[:-2]\n",
    "    loc = params[-2]\n",
    "    scale = params[-1] # STD\n",
    "\n",
    "    # Calculate fitted PDF and error with fit in distribution\n",
    "    pdf = dist.pdf(x, loc=loc, scale=scale, *arg)\n",
    "    \n",
    "    res = y - pdf\n",
    "    sq_res = np.power(y - pdf, 2.0)\n",
    "    ssr = np.sum(np.power(y - pdf, 2.0))\n",
    "\n",
    "    pdf, x_axis = make_pdf(dist, params, x=None)\n",
    "\n",
    "    return res,pdf,x,params\n",
    "\n",
    "\n",
    "def flatten(weights, day=None):\n",
    "    if day is None:\n",
    "        flattened = np.ravel(weights)\n",
    "    else:\n",
    "        flattened = weights[:, day]\n",
    "\n",
    "    nonzero = flattened[flattened > 0]\n",
    "\n",
    "    return nonzero\n",
    "\n",
    "def make_pdf(dist, params, size=10000, x=None):\n",
    "    \"\"\"Generate distributions's Probability Distribution Function \"\"\"\n",
    "    print('Generating {} with params {} of size {}'.format(dist,params,size))\n",
    "    # Separate parts of parameters\n",
    "    arg = params[:-2]\n",
    "    loc = params[-2]\n",
    "    scale = params[-1]\n",
    "\n",
    "    # Get sane start and end points of distribution\n",
    "    start = (\n",
    "        dist.ppf(0.000001, *arg, loc=loc, scale=scale)\n",
    "        if arg\n",
    "        else dist.ppf(0.000001, loc=loc, scale=scale)\n",
    "    )\n",
    "    end = (\n",
    "        dist.ppf(0.999999, *arg, loc=loc, scale=scale)\n",
    "        if arg\n",
    "        else dist.ppf(0.999999, loc=loc, scale=scale)\n",
    "    )\n",
    "\n",
    "    # Build PDF and turn into pandas Series\n",
    "    if x is None:\n",
    "        x = np.linspace(start, end, size)\n",
    "    else:\n",
    "        x = x\n",
    "\n",
    "    y = dist.pdf(x, loc=loc, scale=scale, *arg)\n",
    "    pdf = pd.Series(y, x)\n",
    "    \n",
    "\n",
    "    return pdf,x"
   ]
  },
  {
   "cell_type": "code",
   "execution_count": 16,
   "id": "complicated-wilson",
   "metadata": {},
   "outputs": [
    {
     "name": "stdout",
     "output_type": "stream",
     "text": [
      "35\n",
      "N=452\n",
      "Fitting LogNorm\n",
      "Generating <scipy.stats._continuous_distns.lognorm_gen object at 0x7f421539ad60> with params (1.0271564066784724, 0.04702315250502724, 0.9632509962601059) of size 10000\n",
      "Fitting Norm\n",
      "Generating <scipy.stats._continuous_distns.norm_gen object at 0x7f4215433520> with params (1.61296167190822, 1.6219647462709943) of size 10000\n",
      "Fitting Norm\n",
      "Generating <scipy.stats._continuous_distns.norm_gen object at 0x7f4215433520> with params (0.038293248829629846, 0.9561949465960756) of size 10000\n"
     ]
    },
    {
     "data": {
      "image/png": "[encoded data removed]",
      "text/plain": [
       "<Figure size 864x280.8 with 1 Axes>"
      ]
     },
     "metadata": {
      "needs_background": "light"
     },
     "output_type": "display_data"
    }
   ],
   "source": [
    "day_to_plot = 5\n",
    "DATAPATH = \"/mnt/c/Users/Joshua Melander/OHSU/lesoin_data/longitudinal/weights/norm_weights/\"\n",
    "files = os.listdir(DATAPATH)\n",
    "print(len(files))\n",
    "weights = []\n",
    "for f in files:\n",
    "    if \"pyr\" in f:\n",
    "        with open(os.path.join(DATAPATH, f), \"rb\") as rf:\n",
    "            w = np.load(rf)\n",
    "            # print(w.shape)\n",
    "            weights.append(w)\n",
    "\n",
    "weights = np.concatenate(weights, axis=0)\n",
    "w = weights[:, day_to_plot]\n",
    "w = np.squeeze(w[w > 0])\n",
    "n_syn = w.shape[0]\n",
    "\n",
    "binfactor = 7\n",
    "n_bins = int(n_syn / binfactor)\n",
    "\n",
    "\n",
    "# Fitting\n",
    "n_syn = w.shape[0]\n",
    "print('N={}'.format(n_syn))\n",
    "binfactor = 7\n",
    "n_bins = int(n_syn / binfactor)\n",
    "# n_bins=10\n",
    "log_fit = fit_distribution(w, n_bins, \"lognorm\")\n",
    "norm_fit = fit_distribution(w, n_bins, \"norm\")\n",
    "logscale_fit = fit_distribution(np.log(w), n_bins, \"norm\")\n",
    "\n",
    "\n",
    "f, a = plt.subplots(1)\n",
    "f.set_size_inches(12,3.9)\n",
    "hist_info = a.hist(np.log(w), n_bins, color=\"blue\", density=True)\n",
    "a.plot(logscale_fit[1], \"c\")\n",
    "\n",
    "pyr_ls = logscale_fit[1]"
   ]
  },
  {
   "cell_type": "code",
   "execution_count": 17,
   "id": "quantitative-committee",
   "metadata": {},
   "outputs": [
    {
     "name": "stdout",
     "output_type": "stream",
     "text": [
      "35\n",
      "N=409\n",
      "Fitting LogNorm\n",
      "Generating <scipy.stats._continuous_distns.lognorm_gen object at 0x7f421539ad60> with params (0.38662604056819927, -0.1344971875428136, 1.1437400712407344) of size 10000\n",
      "Fitting Norm\n",
      "Generating <scipy.stats._continuous_distns.norm_gen object at 0x7f4215433520> with params (1.0989599669818506, 0.5097814092041232) of size 10000\n",
      "Fitting Norm\n",
      "Generating <scipy.stats._continuous_distns.norm_gen object at 0x7f4215433520> with params (-0.0030141711930817684, 0.44502430407515264) of size 10000\n"
     ]
    },
    {
     "data": {
      "image/png": "[encoded data removed]",
      "text/plain": [
       "<Figure size 864x280.8 with 1 Axes>"
      ]
     },
     "metadata": {
      "needs_background": "light"
     },
     "output_type": "display_data"
    }
   ],
   "source": [
    "day_to_plot = 3\n",
    "DATAPATH = \"/mnt/c/Users/Joshua Melander/OHSU/lesoin_data/longitudinal/weights/norm_weights/\"\n",
    "files = os.listdir(DATAPATH)\n",
    "print(len(files))\n",
    "weights = []\n",
    "for f in files:\n",
    "    if \"pv\" in f:\n",
    "        with open(os.path.join(DATAPATH, f), \"rb\") as rf:\n",
    "            w = np.load(rf)\n",
    "            # print(w.shape)\n",
    "            weights.append(w[:, :7])\n",
    "\n",
    "weights = np.concatenate(weights, axis=0)\n",
    "w = weights[:, day_to_plot]\n",
    "w = np.squeeze(w[w > 0])\n",
    "n_syn = w.shape[0]\n",
    "print('N={}'.format(n_syn))\n",
    "binfactor = 7\n",
    "n_bins = int(n_syn / binfactor)\n",
    "\n",
    "\n",
    "# Fitting\n",
    "n_syn = w.shape[0]\n",
    "binfactor = 7\n",
    "n_bins = int(n_syn / binfactor)\n",
    "# n_bins=10\n",
    "log_fit = fit_distribution(w, n_bins, \"lognorm\")\n",
    "norm_fit = fit_distribution(w, n_bins, \"norm\")\n",
    "logscale_fit = fit_distribution(np.log(w), n_bins, \"norm\")\n",
    "\n",
    "f, a = plt.subplots(1)\n",
    "f.set_size_inches(12, 3.9)\n",
    "hist_info=a.hist(np.log(w), n_bins, color=\"red\", density=True)\n",
    "a.plot(logscale_fit[1], \"c\")\n",
    "plt.show()\n",
    "\n",
    "pv_ls = logscale_fit[1]"
   ]
  },
  {
   "cell_type": "code",
   "execution_count": 38,
   "id": "allied-socket",
   "metadata": {},
   "outputs": [
    {
     "data": {
      "image/png": "[encoded data removed]",
      "text/plain": [
       "<Figure size 216x108 with 1 Axes>"
      ]
     },
     "metadata": {
      "needs_background": "light"
     },
     "output_type": "display_data"
    }
   ],
   "source": [
    "f,a = plt.subplots(1)\n",
    "f.set_size_inches(3,1.5)\n",
    "a.plot(pv_ls,'r')\n",
    "a.plot(pyr_ls,'b')\n",
    "a.set_yticks([0,0.5,1])\n",
    "a.set_xlim(-4,4)\n",
    "\n",
    "a.spines['bottom'].set_position('zero')\n",
    "plt.savefig('/mnt/c/Users/Joshua Melander/Desktop/GA.eps',dpi=100)"
   ]
  },
  {
   "cell_type": "code",
   "execution_count": 24,
   "id": "gentle-february",
   "metadata": {},
   "outputs": [],
   "source": [
    "\n",
    "import statsmodels.api as sm\n",
    "import copy\n",
    "from file_io import get_synfiles, load_synfile\n",
    "from binary import get_presence, calc_norm_dens, calc_survival_fraction"
   ]
  },
  {
   "cell_type": "code",
   "execution_count": 25,
   "id": "played-network",
   "metadata": {},
   "outputs": [],
   "source": [
    "import csv\n",
    "import statsmodels.api as sm\n",
    "import copy\n",
    "import os\n",
    "import sys\n",
    "\n",
    "import matplotlib.pyplot as plt\n",
    "import numpy as np\n",
    "import scipy.io\n",
    "import scipy.stats\n",
    "\n",
    "# matplotlib Paramaters\n",
    "from matplotlib import rc\n",
    "\n",
    "\n",
    "sys.path.append('../src/')\n",
    "from file_io import get_synfiles, load_synfile\n",
    "from binary import get_presence, calc_norm_dens, calc_survival_fraction"
   ]
  },
  {
   "cell_type": "code",
   "execution_count": 43,
   "id": "removed-hobby",
   "metadata": {},
   "outputs": [
    {
     "name": "stdout",
     "output_type": "stream",
     "text": [
      "Loaded 14 synfiles from /mnt/c/Users/Joshua Melander/OHSU/lesoin_data/longitudinal/synfiles/pyr/\n",
      "Loaded 21 synfiles from /mnt/c/Users/Joshua Melander/OHSU/lesoin_data/longitudinal/synfiles/pv/\n"
     ]
    },
    {
     "data": {
      "image/png": "[encoded data removed]",
      "text/plain": [
       "<Figure size 216x108 with 1 Axes>"
      ]
     },
     "metadata": {
      "needs_background": "light"
     },
     "output_type": "display_data"
    }
   ],
   "source": [
    "f,a = plt.subplots(1)\n",
    "f.set_size_inches(3,1.5)\n",
    "DATAPATH='/mnt/c/Users/Joshua Melander/OHSU/lesoin_data/'\n",
    "pyr_path = os.path.join(DATAPATH, \"longitudinal/synfiles/pyr/\")\n",
    "paths = get_synfiles(pyr_path)\n",
    "sf_agg = []\n",
    "\n",
    "for path in paths:\n",
    "    data = load_synfile(path)\n",
    "    binary = get_presence(data)\n",
    "    \n",
    "    n = np.sum(binary[:,0])\n",
    "    n_pyr_syn += n\n",
    "    sf = calc_survival_fraction(binary)\n",
    "    sf_agg.append(sf)\n",
    "    \n",
    "sf_agg = np.array(sf_agg)\n",
    "a.plot(np.nanmean(sf_agg,axis=0),color='b')\n",
    "\n",
    "\n",
    "pyr_path = os.path.join(DATAPATH, \"longitudinal/synfiles/pv/\")\n",
    "paths = get_synfiles(pyr_path)\n",
    "sf_agg = []\n",
    "\n",
    "for path in paths:\n",
    "    data = load_synfile(path)\n",
    "    binary = get_presence(data)\n",
    "    \n",
    "    n = np.sum(binary[:,0])\n",
    "    n_pyr_syn += n\n",
    "    sf = calc_survival_fraction(binary)\n",
    "    sf_agg.append(sf)\n",
    "    \n",
    "sf_agg = np.array(sf_agg)\n",
    "a.plot(np.nanmean(sf_agg,axis=0),color='r')\n",
    "a.set_ylim(0.7,1.01)\n",
    "a.set_yticks([0.7,1])\n",
    "a.set_xticks([0,7])\n",
    "a.spines['left'].set_position('zero')\n",
    "plt.savefig('/mnt/c/Users/Joshua Melander/Desktop/SF.eps',dpi=100)"
   ]
  },
  {
   "cell_type": "code",
   "execution_count": null,
   "id": "thousand-assessment",
   "metadata": {},
   "outputs": [],
   "source": []
  }
 ],
 "metadata": {
  "kernelspec": {
   "display_name": "Python 3",
   "language": "python",
   "name": "python3"
  },
  "language_info": {
   "codemirror_mode": {
    "name": "ipython",
    "version": 3
   },
   "file_extension": ".py",
   "mimetype": "text/x-python",
   "name": "python",
   "nbconvert_exporter": "python",
   "pygments_lexer": "ipython3",
   "version": "3.8.5"
  }
 },
 "nbformat": 4,
 "nbformat_minor": 5
}
