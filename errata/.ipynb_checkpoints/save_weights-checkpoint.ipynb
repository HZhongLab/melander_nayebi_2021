{
 "cells": [
  {
   "cell_type": "code",
   "execution_count": 1,
   "id": "editorial-terry",
   "metadata": {},
   "outputs": [],
   "source": [
    "import csv\n",
    "import copy\n",
    "import os\n",
    "import sys\n",
    "\n",
    "import matplotlib.pyplot as plt\n",
    "import numpy as np\n",
    "import scipy.io\n",
    "# matplotlib Paramatersz\n",
    "from matplotlib import rc\n",
    "\n",
    "rc(\"lines\", linewidth=2)\n",
    "rc(\"axes\", lw=1)\n",
    "rc(\"axes.spines\", top=False)\n",
    "rc(\"axes.spines\", right=False)\n",
    "rc(\"xtick.major\", pad=5, width=1, size=5)\n",
    "rc(\"ytick.major\", pad=5, width=1, size=5)\n",
    "rc(\"font\", size=6)\n",
    "\n",
    "# Folder to save files to\n",
    "sys.path.append('../src')\n",
    "\n",
    "from binary import calc_norm_dens, calc_true_dens, get_distances, get_presence\n",
    "from file_io import get_synfiles, load_ephys_data, load_synfile\n",
    "from preproc import get_hq_data, split_unsure_synapses\n",
    "from weight import construct_weight_matrix, extract"
   ]
  },
  {
   "cell_type": "code",
   "execution_count": 2,
   "id": "governing-elite",
   "metadata": {},
   "outputs": [],
   "source": [
    "# Change this path to the superdirectory to the pyr and pv datasets downloaded from Brian Image Library\n",
    "IMPATH = \"/mnt/c/Users/Joshua Melander/OHSU/lesoin_data/longitudinal/tiffs/\""
   ]
  },
  {
   "cell_type": "markdown",
   "id": "committed-companion",
   "metadata": {},
   "source": [
    "# All raw red"
   ]
  },
  {
   "cell_type": "code",
   "execution_count": null,
   "id": "steady-dialogue",
   "metadata": {},
   "outputs": [
    {
     "name": "stdout",
     "output_type": "stream",
     "text": [
      "Loaded 14 synfiles from /mnt/c/Users/Joshua Melander/OHSU/lesoin_data/longitudinal/synfiles/pyr/\n",
      "Extracting dendrite ai003\n"
     ]
    },
    {
     "name": "stderr",
     "output_type": "stream",
     "text": [
      "TiffPages: failed to load virtual frames: page offsets not equidistant\n",
      "TiffPages: failed to load virtual frames: page offsets not equidistant\n",
      "TiffPages: failed to load virtual frames: page offsets not equidistant\n",
      "TiffPages: failed to load virtual frames: page offsets not equidistant\n",
      "TiffPages: failed to load virtual frames: page offsets not equidistant\n",
      "TiffPages: failed to load virtual frames: page offsets not equidistant\n",
      "TiffPages: failed to load virtual frames: page offsets not equidistant\n",
      "TiffPages: failed to load virtual frames: page offsets not equidistant\n"
     ]
    },
    {
     "name": "stdout",
     "output_type": "stream",
     "text": [
      "Saving dendrite ai003\n",
      "Extracting dendrite ai010\n"
     ]
    },
    {
     "name": "stderr",
     "output_type": "stream",
     "text": [
      "TiffPages: failed to load virtual frames: page offsets not equidistant\n",
      "TiffPages: failed to load virtual frames: page offsets not equidistant\n",
      "TiffPages: failed to load virtual frames: page offsets not equidistant\n",
      "TiffPages: failed to load virtual frames: page offsets not equidistant\n",
      "TiffPages: failed to load virtual frames: page offsets not equidistant\n",
      "TiffPages: failed to load virtual frames: page offsets not equidistant\n",
      "TiffPages: failed to load virtual frames: page offsets not equidistant\n",
      "TiffPages: failed to load virtual frames: page offsets not equidistant\n"
     ]
    },
    {
     "name": "stdout",
     "output_type": "stream",
     "text": [
      "Saving dendrite ai010\n",
      "Extracting dendrite be003\n"
     ]
    },
    {
     "name": "stderr",
     "output_type": "stream",
     "text": [
      "TiffPages: failed to load virtual frames: page offsets not equidistant\n",
      "TiffPages: failed to load virtual frames: page offsets not equidistant\n",
      "TiffPages: failed to load virtual frames: page offsets not equidistant\n",
      "TiffPages: failed to load virtual frames: page offsets not equidistant\n",
      "TiffPages: failed to load virtual frames: page offsets not equidistant\n",
      "TiffPages: failed to load virtual frames: page offsets not equidistant\n",
      "TiffPages: failed to load virtual frames: page offsets not equidistant\n",
      "TiffPages: failed to load virtual frames: page offsets not equidistant\n"
     ]
    },
    {
     "name": "stdout",
     "output_type": "stream",
     "text": [
      "Saving dendrite be003\n",
      "Extracting dendrite be005\n"
     ]
    },
    {
     "name": "stderr",
     "output_type": "stream",
     "text": [
      "TiffPages: failed to load virtual frames: page offsets not equidistant\n",
      "TiffPages: failed to load virtual frames: page offsets not equidistant\n",
      "TiffPages: failed to load virtual frames: page offsets not equidistant\n",
      "TiffPages: failed to load virtual frames: page offsets not equidistant\n",
      "TiffPages: failed to load virtual frames: page offsets not equidistant\n",
      "TiffPages: failed to load virtual frames: page offsets not equidistant\n",
      "TiffPages: failed to load virtual frames: page offsets not equidistant\n",
      "TiffPages: failed to load virtual frames: page offsets not equidistant\n"
     ]
    },
    {
     "name": "stdout",
     "output_type": "stream",
     "text": [
      "Saving dendrite be005\n",
      "Extracting dendrite cs002\n"
     ]
    },
    {
     "name": "stderr",
     "output_type": "stream",
     "text": [
      "TiffPages: failed to load virtual frames: page offsets not equidistant\n",
      "TiffPages: failed to load virtual frames: page offsets not equidistant\n",
      "TiffPages: failed to load virtual frames: page offsets not equidistant\n",
      "TiffPages: failed to load virtual frames: page offsets not equidistant\n",
      "TiffPages: failed to load virtual frames: page offsets not equidistant\n",
      "TiffPages: failed to load virtual frames: page offsets not equidistant\n",
      "TiffPages: failed to load virtual frames: page offsets not equidistant\n",
      "TiffPages: failed to load virtual frames: page offsets not equidistant\n"
     ]
    },
    {
     "name": "stdout",
     "output_type": "stream",
     "text": [
      "Saving dendrite cs002\n",
      "Extracting dendrite cs003\n"
     ]
    },
    {
     "name": "stderr",
     "output_type": "stream",
     "text": [
      "TiffPages: failed to load virtual frames: page offsets not equidistant\n",
      "TiffPages: failed to load virtual frames: page offsets not equidistant\n",
      "TiffPages: failed to load virtual frames: page offsets not equidistant\n",
      "TiffPages: failed to load virtual frames: page offsets not equidistant\n",
      "TiffPages: failed to load virtual frames: page offsets not equidistant\n",
      "TiffPages: failed to load virtual frames: page offsets not equidistant\n",
      "TiffPages: failed to load virtual frames: page offsets not equidistant\n",
      "TiffPages: failed to load virtual frames: page offsets not equidistant\n"
     ]
    }
   ],
   "source": [
    "im_dir = os.path.join(IMPATH,'pyr/')\n",
    "pyr_dir = '../data/synfiles/pyr/'\n",
    "synpaths = get_synfiles(pyr_dir)\n",
    "\n",
    "\n",
    "for i, synpath in enumerate(synpaths):\n",
    "    data = load_synfile(synpath)\n",
    "    data = get_hq_data(data)\n",
    "    dend_id = os.path.split(synpath)[1].split(\".\")[0].split(\"_\")[2][3:]\n",
    "    print(\"Extracting dendrite {}\".format(dend_id))\n",
    "\n",
    "    weights = construct_weight_matrix(synpath, im_dir, norm=False, channel='red')\n",
    "    weights = np.nan_to_num(weights)\n",
    "\n",
    "    np.save('../data/weights_by_dendrite/all_raw_pyr_red/{}.npy'.format(dend_id),weights)\n",
    "    print(\"Saving dendrite {}\".format(dend_id))\n",
    "\n",
    "im_dir = os.path.join(IMPATH,'pv/')\n",
    "pv_dir = '../data/synfiles/pv/'\n",
    "synpaths = get_synfiles(pv_dir)\n",
    "\n",
    "\n",
    "for i, synpath in enumerate(synpaths):\n",
    "    data = load_synfile(synpath)\n",
    "    data = get_hq_data(data)\n",
    "    dend_id = os.path.split(synpath)[1].split(\".\")[0].split(\"_\")[2][3:]\n",
    "    print(\"Extracting dendrite {}\".format(dend_id),weights)\n",
    "\n",
    "    weights = construct_weight_matrix(synpath, im_dir, norm=False, channel='red')\n",
    "    weights = np.nan_to_num(weights)\n",
    "\n",
    "    np.save('../data/weights_by_dendrite/all_raw_pv_red/{}.npy'.format(dend_id),weights)\n",
    "    print(\"Saving dendrite {}\".format(dend_id))"
   ]
  },
  {
   "cell_type": "markdown",
   "id": "unexpected-wisconsin",
   "metadata": {},
   "source": [
    "# All raw green"
   ]
  },
  {
   "cell_type": "code",
   "execution_count": null,
   "id": "musical-matter",
   "metadata": {},
   "outputs": [],
   "source": [
    "im_dir = os.path.join(IMPATH,'pyr/')\n",
    "pyr_dir = '../data/synfiles/pyr/'\n",
    "synpaths = get_synfiles(pyr_dir)\n",
    "\n",
    "for i, synpath in enumerate(synpaths):\n",
    "    data = load_synfile(synpath)\n",
    "    data = get_hq_data(data)\n",
    "    dend_id = os.path.split(synpath)[1].split(\".\")[0].split(\"_\")[2][3:]\n",
    "    print(\"Extracting dendrite {}\".format(dend_id))\n",
    "\n",
    "    weights = construct_weight_matrix(synpath, im_dir, norm=False)\n",
    "    weights = np.nan_to_num(weights)\n",
    "\n",
    "    np.save('../data/weights_by_dendrite/all_raw_pyr_green/{}.npy'.format(dend_id),weights)\n",
    "    print(\"Saving dendrite {}\".format(dend_id))\n",
    "\n",
    "pv_dir = os.path.join(DATAPATH, \"longitudinal/synfiles/pv/\")\n",
    "im_dir = os.path.join(DATAPATH, \"longitudinal/tiffs/pv/\")\n",
    "synpaths = get_synfiles(pv_dir)\n",
    "\n",
    "for i, synpath in enumerate(synpaths):\n",
    "    data = load_synfile(synpath)\n",
    "    data = get_hq_data(data)\n",
    "    dend_id = os.path.split(synpath)[1].split(\".\")[0].split(\"_\")[2][3:]\n",
    "    print(\"Extracting dendrite {}\".format(dend_id),weights)\n",
    "\n",
    "    weights = construct_weight_matrix(synpath, im_dir, norm=False)\n",
    "    weights = np.nan_to_num(weights)\n",
    "\n",
    "    np.save('../data/weights_by_dendrite/all_raw_pv_green/{}.npy'.format(dend_id),weights)\n",
    "    print(\"Saving dendrite {}\".format(dend_id))"
   ]
  },
  {
   "cell_type": "markdown",
   "id": "imported-karaoke",
   "metadata": {},
   "source": [
    "# Norm weights"
   ]
  },
  {
   "cell_type": "code",
   "execution_count": 4,
   "id": "invisible-driver",
   "metadata": {
    "collapsed": true,
    "jupyter": {
     "outputs_hidden": true
    }
   },
   "outputs": [
    {
     "name": "stdout",
     "output_type": "stream",
     "text": [
      "Loaded 14 synfiles from /mnt/c/Users/Joshua Melander/OHSU/lesoin_data/longitudinal/synfiles/pyr/\n",
      "Old version ignored 0 hq flags out of 328 synaptic observations\n",
      "Extracting dendrite ai003\n"
     ]
    },
    {
     "name": "stderr",
     "output_type": "stream",
     "text": [
      "TiffPages: failed to load virtual frames: page offsets not equidistant\n"
     ]
    },
    {
     "name": "stdout",
     "output_type": "stream",
     "text": [
      "Old version ignored 0 hq flags out of 328 synaptic observations\n",
      "Old version ignored 0 hq flags out of 328 synaptic observations\n"
     ]
    },
    {
     "name": "stderr",
     "output_type": "stream",
     "text": [
      "TiffPages: failed to load virtual frames: page offsets not equidistant\n"
     ]
    },
    {
     "name": "stdout",
     "output_type": "stream",
     "text": [
      "Old version ignored 0 hq flags out of 328 synaptic observations\n"
     ]
    },
    {
     "name": "stderr",
     "output_type": "stream",
     "text": [
      "TiffPages: failed to load virtual frames: page offsets not equidistant\n"
     ]
    },
    {
     "name": "stdout",
     "output_type": "stream",
     "text": [
      "Old version ignored 0 hq flags out of 328 synaptic observations\n"
     ]
    },
    {
     "name": "stderr",
     "output_type": "stream",
     "text": [
      "TiffPages: failed to load virtual frames: page offsets not equidistant\n"
     ]
    },
    {
     "name": "stdout",
     "output_type": "stream",
     "text": [
      "Old version ignored 0 hq flags out of 328 synaptic observations\n"
     ]
    },
    {
     "name": "stderr",
     "output_type": "stream",
     "text": [
      "TiffPages: failed to load virtual frames: page offsets not equidistant\n"
     ]
    },
    {
     "name": "stdout",
     "output_type": "stream",
     "text": [
      "Old version ignored 0 hq flags out of 328 synaptic observations\n"
     ]
    },
    {
     "name": "stderr",
     "output_type": "stream",
     "text": [
      "TiffPages: failed to load virtual frames: page offsets not equidistant\n"
     ]
    },
    {
     "name": "stdout",
     "output_type": "stream",
     "text": [
      "Old version ignored 0 hq flags out of 328 synaptic observations\n"
     ]
    },
    {
     "name": "stderr",
     "output_type": "stream",
     "text": [
      "TiffPages: failed to load virtual frames: page offsets not equidistant\n"
     ]
    },
    {
     "name": "stdout",
     "output_type": "stream",
     "text": [
      "Old version ignored 0 hq flags out of 328 synaptic observations\n"
     ]
    },
    {
     "name": "stderr",
     "output_type": "stream",
     "text": [
      "TiffPages: failed to load virtual frames: page offsets not equidistant\n"
     ]
    },
    {
     "name": "stdout",
     "output_type": "stream",
     "text": [
      "Old version ignored 0 hq flags out of 328 synaptic observations\n",
      "Saving dendrite ai003\n",
      "Old version ignored 0 hq flags out of 288 synaptic observations\n",
      "Extracting dendrite ai010\n"
     ]
    },
    {
     "name": "stderr",
     "output_type": "stream",
     "text": [
      "TiffPages: failed to load virtual frames: page offsets not equidistant\n"
     ]
    },
    {
     "name": "stdout",
     "output_type": "stream",
     "text": [
      "Old version ignored 0 hq flags out of 288 synaptic observations\n",
      "Old version ignored 0 hq flags out of 288 synaptic observations\n"
     ]
    },
    {
     "name": "stderr",
     "output_type": "stream",
     "text": [
      "TiffPages: failed to load virtual frames: page offsets not equidistant\n"
     ]
    },
    {
     "name": "stdout",
     "output_type": "stream",
     "text": [
      "Old version ignored 0 hq flags out of 288 synaptic observations\n"
     ]
    },
    {
     "name": "stderr",
     "output_type": "stream",
     "text": [
      "TiffPages: failed to load virtual frames: page offsets not equidistant\n"
     ]
    },
    {
     "name": "stdout",
     "output_type": "stream",
     "text": [
      "Old version ignored 0 hq flags out of 288 synaptic observations\n"
     ]
    },
    {
     "name": "stderr",
     "output_type": "stream",
     "text": [
      "TiffPages: failed to load virtual frames: page offsets not equidistant\n"
     ]
    },
    {
     "name": "stdout",
     "output_type": "stream",
     "text": [
      "Old version ignored 0 hq flags out of 288 synaptic observations\n"
     ]
    },
    {
     "name": "stderr",
     "output_type": "stream",
     "text": [
      "TiffPages: failed to load virtual frames: page offsets not equidistant\n"
     ]
    },
    {
     "name": "stdout",
     "output_type": "stream",
     "text": [
      "Old version ignored 0 hq flags out of 288 synaptic observations\n"
     ]
    },
    {
     "name": "stderr",
     "output_type": "stream",
     "text": [
      "TiffPages: failed to load virtual frames: page offsets not equidistant\n"
     ]
    },
    {
     "name": "stdout",
     "output_type": "stream",
     "text": [
      "Old version ignored 0 hq flags out of 288 synaptic observations\n"
     ]
    },
    {
     "name": "stderr",
     "output_type": "stream",
     "text": [
      "TiffPages: failed to load virtual frames: page offsets not equidistant\n"
     ]
    },
    {
     "name": "stdout",
     "output_type": "stream",
     "text": [
      "Old version ignored 0 hq flags out of 288 synaptic observations\n"
     ]
    },
    {
     "name": "stderr",
     "output_type": "stream",
     "text": [
      "TiffPages: failed to load virtual frames: page offsets not equidistant\n"
     ]
    },
    {
     "name": "stdout",
     "output_type": "stream",
     "text": [
      "Old version ignored 0 hq flags out of 288 synaptic observations\n",
      "Saving dendrite ai010\n",
      "Old version ignored 0 hq flags out of 416 synaptic observations\n",
      "Extracting dendrite be003\n"
     ]
    },
    {
     "name": "stderr",
     "output_type": "stream",
     "text": [
      "TiffPages: failed to load virtual frames: page offsets not equidistant\n"
     ]
    },
    {
     "name": "stdout",
     "output_type": "stream",
     "text": [
      "Old version ignored 0 hq flags out of 416 synaptic observations\n",
      "Old version ignored 0 hq flags out of 416 synaptic observations\n"
     ]
    },
    {
     "name": "stderr",
     "output_type": "stream",
     "text": [
      "TiffPages: failed to load virtual frames: page offsets not equidistant\n"
     ]
    },
    {
     "name": "stdout",
     "output_type": "stream",
     "text": [
      "Old version ignored 0 hq flags out of 416 synaptic observations\n"
     ]
    },
    {
     "name": "stderr",
     "output_type": "stream",
     "text": [
      "TiffPages: failed to load virtual frames: page offsets not equidistant\n"
     ]
    },
    {
     "name": "stdout",
     "output_type": "stream",
     "text": [
      "Old version ignored 0 hq flags out of 416 synaptic observations\n"
     ]
    },
    {
     "name": "stderr",
     "output_type": "stream",
     "text": [
      "TiffPages: failed to load virtual frames: page offsets not equidistant\n"
     ]
    },
    {
     "name": "stdout",
     "output_type": "stream",
     "text": [
      "Old version ignored 0 hq flags out of 416 synaptic observations\n"
     ]
    },
    {
     "name": "stderr",
     "output_type": "stream",
     "text": [
      "TiffPages: failed to load virtual frames: page offsets not equidistant\n"
     ]
    },
    {
     "name": "stdout",
     "output_type": "stream",
     "text": [
      "Old version ignored 0 hq flags out of 416 synaptic observations\n"
     ]
    },
    {
     "name": "stderr",
     "output_type": "stream",
     "text": [
      "TiffPages: failed to load virtual frames: page offsets not equidistant\n"
     ]
    },
    {
     "name": "stdout",
     "output_type": "stream",
     "text": [
      "Old version ignored 0 hq flags out of 416 synaptic observations\n"
     ]
    },
    {
     "name": "stderr",
     "output_type": "stream",
     "text": [
      "TiffPages: failed to load virtual frames: page offsets not equidistant\n"
     ]
    },
    {
     "name": "stdout",
     "output_type": "stream",
     "text": [
      "Old version ignored 0 hq flags out of 416 synaptic observations\n"
     ]
    },
    {
     "name": "stderr",
     "output_type": "stream",
     "text": [
      "TiffPages: failed to load virtual frames: page offsets not equidistant\n"
     ]
    },
    {
     "name": "stdout",
     "output_type": "stream",
     "text": [
      "Old version ignored 0 hq flags out of 416 synaptic observations\n",
      "Saving dendrite be003\n",
      "Old version ignored 0 hq flags out of 560 synaptic observations\n",
      "Extracting dendrite be005\n"
     ]
    },
    {
     "name": "stderr",
     "output_type": "stream",
     "text": [
      "TiffPages: failed to load virtual frames: page offsets not equidistant\n"
     ]
    },
    {
     "name": "stdout",
     "output_type": "stream",
     "text": [
      "Old version ignored 0 hq flags out of 560 synaptic observations\n",
      "Old version ignored 0 hq flags out of 560 synaptic observations\n"
     ]
    },
    {
     "name": "stderr",
     "output_type": "stream",
     "text": [
      "TiffPages: failed to load virtual frames: page offsets not equidistant\n"
     ]
    },
    {
     "name": "stdout",
     "output_type": "stream",
     "text": [
      "Old version ignored 0 hq flags out of 560 synaptic observations\n"
     ]
    },
    {
     "name": "stderr",
     "output_type": "stream",
     "text": [
      "TiffPages: failed to load virtual frames: page offsets not equidistant\n"
     ]
    },
    {
     "name": "stdout",
     "output_type": "stream",
     "text": [
      "Old version ignored 0 hq flags out of 560 synaptic observations\n"
     ]
    },
    {
     "name": "stderr",
     "output_type": "stream",
     "text": [
      "TiffPages: failed to load virtual frames: page offsets not equidistant\n"
     ]
    },
    {
     "name": "stdout",
     "output_type": "stream",
     "text": [
      "Old version ignored 0 hq flags out of 560 synaptic observations\n"
     ]
    },
    {
     "name": "stderr",
     "output_type": "stream",
     "text": [
      "TiffPages: failed to load virtual frames: page offsets not equidistant\n"
     ]
    },
    {
     "name": "stdout",
     "output_type": "stream",
     "text": [
      "Old version ignored 0 hq flags out of 560 synaptic observations\n"
     ]
    },
    {
     "name": "stderr",
     "output_type": "stream",
     "text": [
      "TiffPages: failed to load virtual frames: page offsets not equidistant\n"
     ]
    },
    {
     "name": "stdout",
     "output_type": "stream",
     "text": [
      "Old version ignored 0 hq flags out of 560 synaptic observations\n"
     ]
    },
    {
     "name": "stderr",
     "output_type": "stream",
     "text": [
      "TiffPages: failed to load virtual frames: page offsets not equidistant\n"
     ]
    },
    {
     "name": "stdout",
     "output_type": "stream",
     "text": [
      "Old version ignored 0 hq flags out of 560 synaptic observations\n"
     ]
    },
    {
     "name": "stderr",
     "output_type": "stream",
     "text": [
      "TiffPages: failed to load virtual frames: page offsets not equidistant\n"
     ]
    },
    {
     "name": "stdout",
     "output_type": "stream",
     "text": [
      "Old version ignored 0 hq flags out of 560 synaptic observations\n",
      "Saving dendrite be005\n",
      "Old version ignored 0 hq flags out of 480 synaptic observations\n",
      "Extracting dendrite cs002\n"
     ]
    },
    {
     "name": "stderr",
     "output_type": "stream",
     "text": [
      "TiffPages: failed to load virtual frames: page offsets not equidistant\n"
     ]
    },
    {
     "name": "stdout",
     "output_type": "stream",
     "text": [
      "Old version ignored 0 hq flags out of 480 synaptic observations\n",
      "Old version ignored 0 hq flags out of 480 synaptic observations\n"
     ]
    },
    {
     "name": "stderr",
     "output_type": "stream",
     "text": [
      "TiffPages: failed to load virtual frames: page offsets not equidistant\n"
     ]
    },
    {
     "name": "stdout",
     "output_type": "stream",
     "text": [
      "Old version ignored 0 hq flags out of 480 synaptic observations\n"
     ]
    },
    {
     "name": "stderr",
     "output_type": "stream",
     "text": [
      "TiffPages: failed to load virtual frames: page offsets not equidistant\n"
     ]
    },
    {
     "name": "stdout",
     "output_type": "stream",
     "text": [
      "Old version ignored 0 hq flags out of 480 synaptic observations\n"
     ]
    },
    {
     "name": "stderr",
     "output_type": "stream",
     "text": [
      "TiffPages: failed to load virtual frames: page offsets not equidistant\n"
     ]
    },
    {
     "name": "stdout",
     "output_type": "stream",
     "text": [
      "Old version ignored 0 hq flags out of 480 synaptic observations\n"
     ]
    },
    {
     "name": "stderr",
     "output_type": "stream",
     "text": [
      "TiffPages: failed to load virtual frames: page offsets not equidistant\n"
     ]
    },
    {
     "name": "stdout",
     "output_type": "stream",
     "text": [
      "Old version ignored 0 hq flags out of 480 synaptic observations\n"
     ]
    },
    {
     "name": "stderr",
     "output_type": "stream",
     "text": [
      "TiffPages: failed to load virtual frames: page offsets not equidistant\n"
     ]
    },
    {
     "name": "stdout",
     "output_type": "stream",
     "text": [
      "Old version ignored 0 hq flags out of 480 synaptic observations\n"
     ]
    },
    {
     "name": "stderr",
     "output_type": "stream",
     "text": [
      "TiffPages: failed to load virtual frames: page offsets not equidistant\n"
     ]
    },
    {
     "name": "stdout",
     "output_type": "stream",
     "text": [
      "Old version ignored 0 hq flags out of 480 synaptic observations\n"
     ]
    },
    {
     "name": "stderr",
     "output_type": "stream",
     "text": [
      "TiffPages: failed to load virtual frames: page offsets not equidistant\n"
     ]
    },
    {
     "name": "stdout",
     "output_type": "stream",
     "text": [
      "Old version ignored 0 hq flags out of 480 synaptic observations\n",
      "Saving dendrite cs002\n",
      "Old version ignored 0 hq flags out of 496 synaptic observations\n",
      "Extracting dendrite cs003\n"
     ]
    },
    {
     "name": "stderr",
     "output_type": "stream",
     "text": [
      "TiffPages: failed to load virtual frames: page offsets not equidistant\n"
     ]
    },
    {
     "name": "stdout",
     "output_type": "stream",
     "text": [
      "Old version ignored 0 hq flags out of 496 synaptic observations\n",
      "Old version ignored 0 hq flags out of 496 synaptic observations\n"
     ]
    },
    {
     "name": "stderr",
     "output_type": "stream",
     "text": [
      "TiffPages: failed to load virtual frames: page offsets not equidistant\n"
     ]
    },
    {
     "name": "stdout",
     "output_type": "stream",
     "text": [
      "Old version ignored 0 hq flags out of 496 synaptic observations\n"
     ]
    },
    {
     "name": "stderr",
     "output_type": "stream",
     "text": [
      "TiffPages: failed to load virtual frames: page offsets not equidistant\n"
     ]
    },
    {
     "name": "stdout",
     "output_type": "stream",
     "text": [
      "Old version ignored 0 hq flags out of 496 synaptic observations\n"
     ]
    },
    {
     "name": "stderr",
     "output_type": "stream",
     "text": [
      "TiffPages: failed to load virtual frames: page offsets not equidistant\n"
     ]
    },
    {
     "name": "stdout",
     "output_type": "stream",
     "text": [
      "Old version ignored 0 hq flags out of 496 synaptic observations\n"
     ]
    },
    {
     "name": "stderr",
     "output_type": "stream",
     "text": [
      "TiffPages: failed to load virtual frames: page offsets not equidistant\n"
     ]
    },
    {
     "name": "stdout",
     "output_type": "stream",
     "text": [
      "Old version ignored 0 hq flags out of 496 synaptic observations\n"
     ]
    },
    {
     "name": "stderr",
     "output_type": "stream",
     "text": [
      "TiffPages: failed to load virtual frames: page offsets not equidistant\n"
     ]
    },
    {
     "name": "stdout",
     "output_type": "stream",
     "text": [
      "Old version ignored 0 hq flags out of 496 synaptic observations\n"
     ]
    },
    {
     "name": "stderr",
     "output_type": "stream",
     "text": [
      "TiffPages: failed to load virtual frames: page offsets not equidistant\n"
     ]
    },
    {
     "name": "stdout",
     "output_type": "stream",
     "text": [
      "Old version ignored 0 hq flags out of 496 synaptic observations\n"
     ]
    },
    {
     "name": "stderr",
     "output_type": "stream",
     "text": [
      "TiffPages: failed to load virtual frames: page offsets not equidistant\n"
     ]
    },
    {
     "name": "stdout",
     "output_type": "stream",
     "text": [
      "Old version ignored 0 hq flags out of 496 synaptic observations\n",
      "Saving dendrite cs003\n",
      "Old version ignored 0 hq flags out of 424 synaptic observations\n",
      "Extracting dendrite cs005\n"
     ]
    },
    {
     "name": "stderr",
     "output_type": "stream",
     "text": [
      "TiffPages: failed to load virtual frames: page offsets not equidistant\n"
     ]
    },
    {
     "name": "stdout",
     "output_type": "stream",
     "text": [
      "Old version ignored 0 hq flags out of 424 synaptic observations\n",
      "Old version ignored 0 hq flags out of 424 synaptic observations\n"
     ]
    },
    {
     "name": "stderr",
     "output_type": "stream",
     "text": [
      "TiffPages: failed to load virtual frames: page offsets not equidistant\n"
     ]
    },
    {
     "name": "stdout",
     "output_type": "stream",
     "text": [
      "Old version ignored 0 hq flags out of 424 synaptic observations\n"
     ]
    },
    {
     "name": "stderr",
     "output_type": "stream",
     "text": [
      "TiffPages: failed to load virtual frames: page offsets not equidistant\n"
     ]
    },
    {
     "name": "stdout",
     "output_type": "stream",
     "text": [
      "Old version ignored 0 hq flags out of 424 synaptic observations\n"
     ]
    },
    {
     "name": "stderr",
     "output_type": "stream",
     "text": [
      "TiffPages: failed to load virtual frames: page offsets not equidistant\n"
     ]
    },
    {
     "name": "stdout",
     "output_type": "stream",
     "text": [
      "Old version ignored 0 hq flags out of 424 synaptic observations\n"
     ]
    },
    {
     "name": "stderr",
     "output_type": "stream",
     "text": [
      "TiffPages: failed to load virtual frames: page offsets not equidistant\n"
     ]
    },
    {
     "name": "stdout",
     "output_type": "stream",
     "text": [
      "Old version ignored 0 hq flags out of 424 synaptic observations\n"
     ]
    },
    {
     "name": "stderr",
     "output_type": "stream",
     "text": [
      "TiffPages: failed to load virtual frames: page offsets not equidistant\n"
     ]
    },
    {
     "name": "stdout",
     "output_type": "stream",
     "text": [
      "Old version ignored 0 hq flags out of 424 synaptic observations\n"
     ]
    },
    {
     "name": "stderr",
     "output_type": "stream",
     "text": [
      "TiffPages: failed to load virtual frames: page offsets not equidistant\n"
     ]
    },
    {
     "name": "stdout",
     "output_type": "stream",
     "text": [
      "Old version ignored 0 hq flags out of 424 synaptic observations\n"
     ]
    },
    {
     "name": "stderr",
     "output_type": "stream",
     "text": [
      "TiffPages: failed to load virtual frames: page offsets not equidistant\n"
     ]
    },
    {
     "name": "stdout",
     "output_type": "stream",
     "text": [
      "Old version ignored 0 hq flags out of 424 synaptic observations\n",
      "Saving dendrite cs005\n",
      "Old version ignored 0 hq flags out of 528 synaptic observations\n",
      "Extracting dendrite cs006\n"
     ]
    },
    {
     "name": "stderr",
     "output_type": "stream",
     "text": [
      "TiffPages: failed to load virtual frames: page offsets not equidistant\n"
     ]
    },
    {
     "name": "stdout",
     "output_type": "stream",
     "text": [
      "Old version ignored 0 hq flags out of 528 synaptic observations\n",
      "Old version ignored 0 hq flags out of 528 synaptic observations\n"
     ]
    },
    {
     "name": "stderr",
     "output_type": "stream",
     "text": [
      "TiffPages: failed to load virtual frames: page offsets not equidistant\n"
     ]
    },
    {
     "name": "stdout",
     "output_type": "stream",
     "text": [
      "Old version ignored 0 hq flags out of 528 synaptic observations\n"
     ]
    },
    {
     "name": "stderr",
     "output_type": "stream",
     "text": [
      "TiffPages: failed to load virtual frames: page offsets not equidistant\n"
     ]
    },
    {
     "name": "stdout",
     "output_type": "stream",
     "text": [
      "Old version ignored 0 hq flags out of 528 synaptic observations\n"
     ]
    },
    {
     "name": "stderr",
     "output_type": "stream",
     "text": [
      "TiffPages: failed to load virtual frames: page offsets not equidistant\n"
     ]
    },
    {
     "name": "stdout",
     "output_type": "stream",
     "text": [
      "Old version ignored 0 hq flags out of 528 synaptic observations\n"
     ]
    },
    {
     "name": "stderr",
     "output_type": "stream",
     "text": [
      "TiffPages: failed to load virtual frames: page offsets not equidistant\n"
     ]
    },
    {
     "name": "stdout",
     "output_type": "stream",
     "text": [
      "Old version ignored 0 hq flags out of 528 synaptic observations\n"
     ]
    },
    {
     "name": "stderr",
     "output_type": "stream",
     "text": [
      "TiffPages: failed to load virtual frames: page offsets not equidistant\n"
     ]
    },
    {
     "name": "stdout",
     "output_type": "stream",
     "text": [
      "Old version ignored 0 hq flags out of 528 synaptic observations\n"
     ]
    },
    {
     "name": "stderr",
     "output_type": "stream",
     "text": [
      "TiffPages: failed to load virtual frames: page offsets not equidistant\n"
     ]
    },
    {
     "name": "stdout",
     "output_type": "stream",
     "text": [
      "Old version ignored 0 hq flags out of 528 synaptic observations\n"
     ]
    },
    {
     "name": "stderr",
     "output_type": "stream",
     "text": [
      "TiffPages: failed to load virtual frames: page offsets not equidistant\n"
     ]
    },
    {
     "name": "stdout",
     "output_type": "stream",
     "text": [
      "Old version ignored 0 hq flags out of 528 synaptic observations\n",
      "Saving dendrite cs006\n",
      "Old version ignored 0 hq flags out of 424 synaptic observations\n",
      "Extracting dendrite cs007\n"
     ]
    },
    {
     "name": "stderr",
     "output_type": "stream",
     "text": [
      "TiffPages: failed to load virtual frames: page offsets not equidistant\n"
     ]
    },
    {
     "name": "stdout",
     "output_type": "stream",
     "text": [
      "Old version ignored 0 hq flags out of 424 synaptic observations\n",
      "Old version ignored 0 hq flags out of 424 synaptic observations\n"
     ]
    },
    {
     "name": "stderr",
     "output_type": "stream",
     "text": [
      "TiffPages: failed to load virtual frames: page offsets not equidistant\n"
     ]
    },
    {
     "name": "stdout",
     "output_type": "stream",
     "text": [
      "Old version ignored 0 hq flags out of 424 synaptic observations\n"
     ]
    },
    {
     "name": "stderr",
     "output_type": "stream",
     "text": [
      "TiffPages: failed to load virtual frames: page offsets not equidistant\n"
     ]
    },
    {
     "name": "stdout",
     "output_type": "stream",
     "text": [
      "Old version ignored 0 hq flags out of 424 synaptic observations\n"
     ]
    },
    {
     "name": "stderr",
     "output_type": "stream",
     "text": [
      "TiffPages: failed to load virtual frames: page offsets not equidistant\n"
     ]
    },
    {
     "name": "stdout",
     "output_type": "stream",
     "text": [
      "Old version ignored 0 hq flags out of 424 synaptic observations\n"
     ]
    },
    {
     "name": "stderr",
     "output_type": "stream",
     "text": [
      "TiffPages: failed to load virtual frames: page offsets not equidistant\n"
     ]
    },
    {
     "name": "stdout",
     "output_type": "stream",
     "text": [
      "Old version ignored 0 hq flags out of 424 synaptic observations\n"
     ]
    },
    {
     "name": "stderr",
     "output_type": "stream",
     "text": [
      "TiffPages: failed to load virtual frames: page offsets not equidistant\n"
     ]
    },
    {
     "name": "stdout",
     "output_type": "stream",
     "text": [
      "Old version ignored 0 hq flags out of 424 synaptic observations\n"
     ]
    },
    {
     "name": "stderr",
     "output_type": "stream",
     "text": [
      "TiffPages: failed to load virtual frames: page offsets not equidistant\n"
     ]
    },
    {
     "name": "stdout",
     "output_type": "stream",
     "text": [
      "Old version ignored 0 hq flags out of 424 synaptic observations\n"
     ]
    },
    {
     "name": "stderr",
     "output_type": "stream",
     "text": [
      "TiffPages: failed to load virtual frames: page offsets not equidistant\n"
     ]
    },
    {
     "name": "stdout",
     "output_type": "stream",
     "text": [
      "Old version ignored 0 hq flags out of 424 synaptic observations\n",
      "Saving dendrite cs007\n",
      "Old version ignored 0 hq flags out of 352 synaptic observations\n",
      "Extracting dendrite ct001\n"
     ]
    },
    {
     "name": "stderr",
     "output_type": "stream",
     "text": [
      "TiffPages: failed to load virtual frames: page offsets not equidistant\n"
     ]
    },
    {
     "name": "stdout",
     "output_type": "stream",
     "text": [
      "Old version ignored 0 hq flags out of 352 synaptic observations\n",
      "Old version ignored 0 hq flags out of 352 synaptic observations\n"
     ]
    },
    {
     "name": "stderr",
     "output_type": "stream",
     "text": [
      "TiffPages: failed to load virtual frames: page offsets not equidistant\n"
     ]
    },
    {
     "name": "stdout",
     "output_type": "stream",
     "text": [
      "Old version ignored 0 hq flags out of 352 synaptic observations\n"
     ]
    },
    {
     "name": "stderr",
     "output_type": "stream",
     "text": [
      "TiffPages: failed to load virtual frames: page offsets not equidistant\n"
     ]
    },
    {
     "name": "stdout",
     "output_type": "stream",
     "text": [
      "Old version ignored 0 hq flags out of 352 synaptic observations\n"
     ]
    },
    {
     "name": "stderr",
     "output_type": "stream",
     "text": [
      "TiffPages: failed to load virtual frames: page offsets not equidistant\n"
     ]
    },
    {
     "name": "stdout",
     "output_type": "stream",
     "text": [
      "Old version ignored 0 hq flags out of 352 synaptic observations\n"
     ]
    },
    {
     "name": "stderr",
     "output_type": "stream",
     "text": [
      "TiffPages: failed to load virtual frames: page offsets not equidistant\n"
     ]
    },
    {
     "name": "stdout",
     "output_type": "stream",
     "text": [
      "Old version ignored 0 hq flags out of 352 synaptic observations\n"
     ]
    },
    {
     "name": "stderr",
     "output_type": "stream",
     "text": [
      "TiffPages: failed to load virtual frames: page offsets not equidistant\n"
     ]
    },
    {
     "name": "stdout",
     "output_type": "stream",
     "text": [
      "Old version ignored 0 hq flags out of 352 synaptic observations\n"
     ]
    },
    {
     "name": "stderr",
     "output_type": "stream",
     "text": [
      "TiffPages: failed to load virtual frames: page offsets not equidistant\n"
     ]
    },
    {
     "name": "stdout",
     "output_type": "stream",
     "text": [
      "Old version ignored 0 hq flags out of 352 synaptic observations\n"
     ]
    },
    {
     "name": "stderr",
     "output_type": "stream",
     "text": [
      "TiffPages: failed to load virtual frames: page offsets not equidistant\n"
     ]
    },
    {
     "name": "stdout",
     "output_type": "stream",
     "text": [
      "Old version ignored 0 hq flags out of 352 synaptic observations\n",
      "Saving dendrite ct001\n",
      "Old version ignored 0 hq flags out of 664 synaptic observations\n",
      "Extracting dendrite ct003\n"
     ]
    },
    {
     "name": "stderr",
     "output_type": "stream",
     "text": [
      "TiffPages: failed to load virtual frames: page offsets not equidistant\n"
     ]
    },
    {
     "name": "stdout",
     "output_type": "stream",
     "text": [
      "Old version ignored 0 hq flags out of 664 synaptic observations\n",
      "Old version ignored 0 hq flags out of 664 synaptic observations\n"
     ]
    },
    {
     "name": "stderr",
     "output_type": "stream",
     "text": [
      "TiffPages: failed to load virtual frames: page offsets not equidistant\n"
     ]
    },
    {
     "name": "stdout",
     "output_type": "stream",
     "text": [
      "Old version ignored 0 hq flags out of 664 synaptic observations\n"
     ]
    },
    {
     "name": "stderr",
     "output_type": "stream",
     "text": [
      "TiffPages: failed to load virtual frames: page offsets not equidistant\n"
     ]
    },
    {
     "name": "stdout",
     "output_type": "stream",
     "text": [
      "Old version ignored 0 hq flags out of 664 synaptic observations\n"
     ]
    },
    {
     "name": "stderr",
     "output_type": "stream",
     "text": [
      "TiffPages: failed to load virtual frames: page offsets not equidistant\n"
     ]
    },
    {
     "name": "stdout",
     "output_type": "stream",
     "text": [
      "Old version ignored 0 hq flags out of 664 synaptic observations\n"
     ]
    },
    {
     "name": "stderr",
     "output_type": "stream",
     "text": [
      "TiffPages: failed to load virtual frames: page offsets not equidistant\n"
     ]
    },
    {
     "name": "stdout",
     "output_type": "stream",
     "text": [
      "Old version ignored 0 hq flags out of 664 synaptic observations\n"
     ]
    },
    {
     "name": "stderr",
     "output_type": "stream",
     "text": [
      "TiffPages: failed to load virtual frames: page offsets not equidistant\n"
     ]
    },
    {
     "name": "stdout",
     "output_type": "stream",
     "text": [
      "Old version ignored 0 hq flags out of 664 synaptic observations\n"
     ]
    },
    {
     "name": "stderr",
     "output_type": "stream",
     "text": [
      "TiffPages: failed to load virtual frames: page offsets not equidistant\n"
     ]
    },
    {
     "name": "stdout",
     "output_type": "stream",
     "text": [
      "Old version ignored 0 hq flags out of 664 synaptic observations\n"
     ]
    },
    {
     "name": "stderr",
     "output_type": "stream",
     "text": [
      "TiffPages: failed to load virtual frames: page offsets not equidistant\n"
     ]
    },
    {
     "name": "stdout",
     "output_type": "stream",
     "text": [
      "Old version ignored 0 hq flags out of 664 synaptic observations\n",
      "Saving dendrite ct003\n",
      "Old version ignored 0 hq flags out of 424 synaptic observations\n",
      "Extracting dendrite ct007\n"
     ]
    },
    {
     "name": "stderr",
     "output_type": "stream",
     "text": [
      "TiffPages: failed to load virtual frames: page offsets not equidistant\n"
     ]
    },
    {
     "name": "stdout",
     "output_type": "stream",
     "text": [
      "Old version ignored 0 hq flags out of 424 synaptic observations\n",
      "Old version ignored 0 hq flags out of 424 synaptic observations\n"
     ]
    },
    {
     "name": "stderr",
     "output_type": "stream",
     "text": [
      "TiffPages: failed to load virtual frames: page offsets not equidistant\n"
     ]
    },
    {
     "name": "stdout",
     "output_type": "stream",
     "text": [
      "Old version ignored 0 hq flags out of 424 synaptic observations\n"
     ]
    },
    {
     "name": "stderr",
     "output_type": "stream",
     "text": [
      "TiffPages: failed to load virtual frames: page offsets not equidistant\n"
     ]
    },
    {
     "name": "stdout",
     "output_type": "stream",
     "text": [
      "Old version ignored 0 hq flags out of 424 synaptic observations\n"
     ]
    },
    {
     "name": "stderr",
     "output_type": "stream",
     "text": [
      "TiffPages: failed to load virtual frames: page offsets not equidistant\n"
     ]
    },
    {
     "name": "stdout",
     "output_type": "stream",
     "text": [
      "Old version ignored 0 hq flags out of 424 synaptic observations\n"
     ]
    },
    {
     "name": "stderr",
     "output_type": "stream",
     "text": [
      "TiffPages: failed to load virtual frames: page offsets not equidistant\n"
     ]
    },
    {
     "name": "stdout",
     "output_type": "stream",
     "text": [
      "Old version ignored 0 hq flags out of 424 synaptic observations\n"
     ]
    },
    {
     "name": "stderr",
     "output_type": "stream",
     "text": [
      "TiffPages: failed to load virtual frames: page offsets not equidistant\n"
     ]
    },
    {
     "name": "stdout",
     "output_type": "stream",
     "text": [
      "Old version ignored 0 hq flags out of 424 synaptic observations\n"
     ]
    },
    {
     "name": "stderr",
     "output_type": "stream",
     "text": [
      "TiffPages: failed to load virtual frames: page offsets not equidistant\n"
     ]
    },
    {
     "name": "stdout",
     "output_type": "stream",
     "text": [
      "Old version ignored 0 hq flags out of 424 synaptic observations\n"
     ]
    },
    {
     "name": "stderr",
     "output_type": "stream",
     "text": [
      "TiffPages: failed to load virtual frames: page offsets not equidistant\n"
     ]
    },
    {
     "name": "stdout",
     "output_type": "stream",
     "text": [
      "Old version ignored 0 hq flags out of 424 synaptic observations\n",
      "Saving dendrite ct007\n",
      "Old version ignored 0 hq flags out of 608 synaptic observations\n",
      "Extracting dendrite ct008\n"
     ]
    },
    {
     "name": "stderr",
     "output_type": "stream",
     "text": [
      "TiffPages: failed to load virtual frames: page offsets not equidistant\n"
     ]
    },
    {
     "name": "stdout",
     "output_type": "stream",
     "text": [
      "Old version ignored 0 hq flags out of 608 synaptic observations\n",
      "Old version ignored 0 hq flags out of 608 synaptic observations\n"
     ]
    },
    {
     "name": "stderr",
     "output_type": "stream",
     "text": [
      "TiffPages: failed to load virtual frames: page offsets not equidistant\n"
     ]
    },
    {
     "name": "stdout",
     "output_type": "stream",
     "text": [
      "Old version ignored 0 hq flags out of 608 synaptic observations\n"
     ]
    },
    {
     "name": "stderr",
     "output_type": "stream",
     "text": [
      "TiffPages: failed to load virtual frames: page offsets not equidistant\n"
     ]
    },
    {
     "name": "stdout",
     "output_type": "stream",
     "text": [
      "Old version ignored 0 hq flags out of 608 synaptic observations\n"
     ]
    },
    {
     "name": "stderr",
     "output_type": "stream",
     "text": [
      "TiffPages: failed to load virtual frames: page offsets not equidistant\n"
     ]
    },
    {
     "name": "stdout",
     "output_type": "stream",
     "text": [
      "Old version ignored 0 hq flags out of 608 synaptic observations\n"
     ]
    },
    {
     "name": "stderr",
     "output_type": "stream",
     "text": [
      "TiffPages: failed to load virtual frames: page offsets not equidistant\n"
     ]
    },
    {
     "name": "stdout",
     "output_type": "stream",
     "text": [
      "Old version ignored 0 hq flags out of 608 synaptic observations\n"
     ]
    },
    {
     "name": "stderr",
     "output_type": "stream",
     "text": [
      "TiffPages: failed to load virtual frames: page offsets not equidistant\n"
     ]
    },
    {
     "name": "stdout",
     "output_type": "stream",
     "text": [
      "Old version ignored 0 hq flags out of 608 synaptic observations\n"
     ]
    },
    {
     "name": "stderr",
     "output_type": "stream",
     "text": [
      "TiffPages: failed to load virtual frames: page offsets not equidistant\n"
     ]
    },
    {
     "name": "stdout",
     "output_type": "stream",
     "text": [
      "Old version ignored 0 hq flags out of 608 synaptic observations\n"
     ]
    },
    {
     "name": "stderr",
     "output_type": "stream",
     "text": [
      "TiffPages: failed to load virtual frames: page offsets not equidistant\n"
     ]
    },
    {
     "name": "stdout",
     "output_type": "stream",
     "text": [
      "Old version ignored 0 hq flags out of 608 synaptic observations\n",
      "Saving dendrite ct008\n",
      "Old version ignored 0 hq flags out of 480 synaptic observations\n",
      "Extracting dendrite ct010\n"
     ]
    },
    {
     "name": "stderr",
     "output_type": "stream",
     "text": [
      "TiffPages: failed to load virtual frames: page offsets not equidistant\n"
     ]
    },
    {
     "name": "stdout",
     "output_type": "stream",
     "text": [
      "Old version ignored 0 hq flags out of 480 synaptic observations\n",
      "Old version ignored 0 hq flags out of 480 synaptic observations\n"
     ]
    },
    {
     "name": "stderr",
     "output_type": "stream",
     "text": [
      "TiffPages: failed to load virtual frames: page offsets not equidistant\n"
     ]
    },
    {
     "name": "stdout",
     "output_type": "stream",
     "text": [
      "Old version ignored 0 hq flags out of 480 synaptic observations\n"
     ]
    },
    {
     "name": "stderr",
     "output_type": "stream",
     "text": [
      "TiffPages: failed to load virtual frames: page offsets not equidistant\n"
     ]
    },
    {
     "name": "stdout",
     "output_type": "stream",
     "text": [
      "Old version ignored 0 hq flags out of 480 synaptic observations\n"
     ]
    },
    {
     "name": "stderr",
     "output_type": "stream",
     "text": [
      "TiffPages: failed to load virtual frames: page offsets not equidistant\n"
     ]
    },
    {
     "name": "stdout",
     "output_type": "stream",
     "text": [
      "Old version ignored 0 hq flags out of 480 synaptic observations\n"
     ]
    },
    {
     "name": "stderr",
     "output_type": "stream",
     "text": [
      "TiffPages: failed to load virtual frames: page offsets not equidistant\n"
     ]
    },
    {
     "name": "stdout",
     "output_type": "stream",
     "text": [
      "Old version ignored 0 hq flags out of 480 synaptic observations\n"
     ]
    },
    {
     "name": "stderr",
     "output_type": "stream",
     "text": [
      "TiffPages: failed to load virtual frames: page offsets not equidistant\n"
     ]
    },
    {
     "name": "stdout",
     "output_type": "stream",
     "text": [
      "Old version ignored 0 hq flags out of 480 synaptic observations\n"
     ]
    },
    {
     "name": "stderr",
     "output_type": "stream",
     "text": [
      "TiffPages: failed to load virtual frames: page offsets not equidistant\n"
     ]
    },
    {
     "name": "stdout",
     "output_type": "stream",
     "text": [
      "Old version ignored 0 hq flags out of 480 synaptic observations\n"
     ]
    },
    {
     "name": "stderr",
     "output_type": "stream",
     "text": [
      "TiffPages: failed to load virtual frames: page offsets not equidistant\n"
     ]
    },
    {
     "name": "stdout",
     "output_type": "stream",
     "text": [
      "Old version ignored 0 hq flags out of 480 synaptic observations\n",
      "Saving dendrite ct010\n",
      "Loaded 21 synfiles from /mnt/c/Users/Joshua Melander/OHSU/lesoin_data/longitudinal/synfiles/pv/\n",
      "Old version ignored 0 hq flags out of 344 synaptic observations\n",
      "Extracting dendrite ah001 [[1.43001429 1.68936979 2.58712393 2.05504778 2.30485134 1.90211062\n",
      "  2.22767005 2.01245601]\n",
      " [1.12932535 0.91366388 1.17790299 0.97679351 1.03684867 1.11589244\n",
      "  1.00899541 1.22330115]\n",
      " [1.26657466 0.77254535 0.41317987 0.62520226 0.75321116 0.46335832\n",
      "  0.44664392 0.6490247 ]\n",
      " [0.8393848  0.79457791 0.44056948 0.24574399 0.38104356 0.2525036\n",
      "  0.46154447 0.52959817]\n",
      " [1.40346282 1.50294367 1.53853843 1.98955963 2.27729638 1.81783965\n",
      "  2.76068554 2.95345086]\n",
      " [0.84821665 1.02637044 1.69288766 1.8200753  2.47635627 1.39516267\n",
      "  1.46472193 1.50675655]\n",
      " [1.05378915 1.31511513 0.         0.         0.         0.\n",
      "  0.         0.        ]\n",
      " [0.90413669 0.91993247 1.0379125  1.14191239 1.18600726 0.55748035\n",
      "  0.92086775 1.1843794 ]\n",
      " [1.18342048 0.9779933  0.67631878 0.70869033 1.03015588 0.69831153\n",
      "  0.79398728 0.87739817]\n",
      " [0.24207009 0.30254992 0.         0.         0.         0.\n",
      "  0.         0.        ]\n",
      " [1.11809707 1.55117192 1.9861924  1.24559139 1.18565993 1.10965141\n",
      "  1.07049888 0.67882716]\n",
      " [0.13970828 0.43267074 0.46132522 0.49451974 0.44572924 0.27475243\n",
      "  0.62437161 0.96105846]\n",
      " [5.19834091 5.17969477 5.02595217 3.69956765 5.61135469 3.06462695\n",
      "  3.09343025 4.01514549]\n",
      " [7.70564833 5.67559386 5.87572256 6.28458274 9.00533418 3.78937858\n",
      "  6.55270862 9.51890382]\n",
      " [1.81486106 2.49349972 2.34472867 2.92055283 3.22404717 3.31192604\n",
      "  2.90629682 4.02247295]\n",
      " [0.         0.         0.         0.50085152 0.71166837 0.61080959\n",
      "  0.41955821 0.70930507]\n",
      " [3.74645159 2.92606941 2.22206411 1.75739221 2.26374139 1.59326553\n",
      "  2.53104854 3.84268802]\n",
      " [0.62477137 0.         0.         0.         0.         0.\n",
      "  0.         0.        ]\n",
      " [2.06871789 3.07815548 2.20324824 3.20650513 2.45331524 2.43633473\n",
      "  4.22100833 5.11081229]\n",
      " [2.4014425  1.84752071 2.12383802 2.39238449 3.54555847 3.37615943\n",
      "  4.61742996 6.5730533 ]\n",
      " [0.53115781 0.68137633 0.68198601 0.72954662 0.73137804 0.53144707\n",
      "  0.78773058 0.81178992]\n",
      " [0.31457096 0.10041646 0.         0.         0.         0.\n",
      "  0.         0.        ]\n",
      " [1.12370776 2.57923608 1.69872056 1.78315568 1.68442718 0.76705908\n",
      "  2.00947952 2.98726804]\n",
      " [2.19541155 1.81148489 2.62357602 2.12650908 3.18982567 1.97632401\n",
      "  2.51381287 3.041771  ]\n",
      " [1.18898843 0.99693387 0.99976805 1.26652307 1.08785608 0.65904414\n",
      "  0.73240964 1.0853022 ]\n",
      " [2.18393549 1.19924225 0.57519569 0.48460544 0.56064221 0.39344584\n",
      "  0.4992301  0.76128516]\n",
      " [0.51793667 0.         0.         0.         0.         0.\n",
      "  0.         0.        ]\n",
      " [0.84587791 0.41623321 0.         0.         0.         0.\n",
      "  0.         0.        ]\n",
      " [0.34354453 0.93800389 1.14399629 1.08986134 0.97767545 1.42026443\n",
      "  1.44501781 1.05575723]\n",
      " [0.97684942 1.0278599  0.82383279 1.07770875 2.50124444 1.82946107\n",
      "  1.99110895 2.18858308]\n",
      " [0.72083026 0.8241424  0.65377541 0.56295987 0.35050981 0.\n",
      "  0.         0.        ]\n",
      " [2.46371934 1.46440205 0.832461   0.62599422 0.67940073 0.\n",
      "  0.         0.        ]\n",
      " [1.51736261 1.20684172 0.46346873 1.52369401 2.17877068 1.25487873\n",
      "  0.9532526  0.79726018]\n",
      " [0.18189852 0.         0.         0.         0.         0.\n",
      "  0.         0.        ]\n",
      " [0.23545647 0.47945617 1.10109634 0.73858601 0.74258556 0.27943112\n",
      "  0.80738027 0.80101348]\n",
      " [0.70188293 0.18860996 0.34722512 0.58934293 0.26338428 0.3437238\n",
      "  0.38319478 0.70019536]\n",
      " [0.13673732 0.39391975 0.1595231  0.         0.         0.\n",
      "  0.         0.        ]\n",
      " [0.39558912 0.         0.         0.         0.         0.\n",
      "  0.         0.        ]\n",
      " [0.         0.19005894 0.         0.         0.         0.\n",
      "  0.         0.        ]\n",
      " [0.         0.         0.15512493 0.17731833 0.         0.\n",
      "  0.         0.        ]\n",
      " [0.         0.         0.         0.24128177 0.         0.\n",
      "  0.         0.        ]\n",
      " [0.         0.         0.         0.         0.20964939 0.\n",
      "  0.         0.        ]\n",
      " [0.         0.         0.         0.         0.43786841 0.\n",
      "  0.         0.        ]\n",
      " [0.         0.         0.         0.         0.29583494 0.11539412\n",
      "  0.         0.        ]\n",
      " [0.         0.         0.         0.         0.         0.\n",
      "  0.13573058 0.24456012]\n",
      " [0.         0.         0.         0.         0.         0.\n",
      "  0.19748732 0.        ]\n",
      " [0.         0.         0.         0.         0.         0.\n",
      "  0.17815616 0.        ]\n",
      " [0.         0.         0.         0.04976467 0.33369835 0.36019815\n",
      "  0.28209186 0.37485483]\n",
      " [0.         0.         0.         0.         0.         0.\n",
      "  0.         0.52917842]\n",
      " [0.         0.         0.         0.         0.         0.\n",
      "  0.         0.78018336]\n",
      " [0.         0.         0.         0.         0.         0.\n",
      "  0.         1.29505474]\n",
      " [0.         0.         0.         0.         0.         0.\n",
      "  0.         0.23453081]\n",
      " [0.         0.         0.         0.         0.         0.\n",
      "  0.         0.40661777]\n",
      " [0.64210606 0.78315336 0.88303002 0.         0.         0.\n",
      "  0.         0.        ]\n",
      " [0.         0.26582006 0.15625656 0.         0.         0.\n",
      "  0.         0.        ]\n",
      " [0.         0.         0.         0.         0.28065588 0.\n",
      "  0.         0.        ]]\n"
     ]
    },
    {
     "name": "stderr",
     "output_type": "stream",
     "text": [
      "TiffPages: failed to load virtual frames: page offsets not equidistant\n"
     ]
    },
    {
     "name": "stdout",
     "output_type": "stream",
     "text": [
      "Old version ignored 0 hq flags out of 344 synaptic observations\n",
      "Old version ignored 0 hq flags out of 344 synaptic observations\n"
     ]
    },
    {
     "name": "stderr",
     "output_type": "stream",
     "text": [
      "TiffPages: failed to load virtual frames: page offsets not equidistant\n"
     ]
    },
    {
     "name": "stdout",
     "output_type": "stream",
     "text": [
      "Old version ignored 0 hq flags out of 344 synaptic observations\n"
     ]
    },
    {
     "name": "stderr",
     "output_type": "stream",
     "text": [
      "TiffPages: failed to load virtual frames: page offsets not equidistant\n"
     ]
    },
    {
     "name": "stdout",
     "output_type": "stream",
     "text": [
      "Old version ignored 0 hq flags out of 344 synaptic observations\n"
     ]
    },
    {
     "name": "stderr",
     "output_type": "stream",
     "text": [
      "TiffPages: failed to load virtual frames: page offsets not equidistant\n"
     ]
    },
    {
     "name": "stdout",
     "output_type": "stream",
     "text": [
      "Old version ignored 0 hq flags out of 344 synaptic observations\n"
     ]
    },
    {
     "name": "stderr",
     "output_type": "stream",
     "text": [
      "TiffPages: failed to load virtual frames: page offsets not equidistant\n"
     ]
    },
    {
     "name": "stdout",
     "output_type": "stream",
     "text": [
      "Old version ignored 0 hq flags out of 344 synaptic observations\n"
     ]
    },
    {
     "name": "stderr",
     "output_type": "stream",
     "text": [
      "TiffPages: failed to load virtual frames: page offsets not equidistant\n"
     ]
    },
    {
     "name": "stdout",
     "output_type": "stream",
     "text": [
      "Old version ignored 0 hq flags out of 344 synaptic observations\n"
     ]
    },
    {
     "name": "stderr",
     "output_type": "stream",
     "text": [
      "TiffPages: failed to load virtual frames: page offsets not equidistant\n"
     ]
    },
    {
     "name": "stdout",
     "output_type": "stream",
     "text": [
      "Old version ignored 0 hq flags out of 344 synaptic observations\n"
     ]
    },
    {
     "name": "stderr",
     "output_type": "stream",
     "text": [
      "TiffPages: failed to load virtual frames: page offsets not equidistant\n"
     ]
    },
    {
     "name": "stdout",
     "output_type": "stream",
     "text": [
      "Old version ignored 0 hq flags out of 344 synaptic observations\n",
      "Saving dendrite ah001\n",
      "Old version ignored 14 hq flags out of 200 synaptic observations\n",
      "Extracting dendrite ah002 [[1.14269118 1.4597427  1.04993296 1.1672015  1.38319303 1.96906386\n",
      "  1.23321726 1.16144209]\n",
      " [1.11769538 1.16759005 1.6107045  1.37457795 1.29152337 1.34124877\n",
      "  2.06747225 1.50578332]\n",
      " [2.12611541 1.47019198 2.01416025 1.41108721 1.3731129  1.48287877\n",
      "  1.94604712 1.84226707]\n",
      " [1.12266958 1.09563545 0.97120318 0.93389221 0.85079785 0.98217188\n",
      "  1.04042524 0.94760759]\n",
      " [1.00341912 0.80462172 0.74973312 0.7530778  0.6681504  0.52279217\n",
      "  0.55711128 0.60360365]\n",
      " [1.21889674 1.63143919 1.70323999 1.43201267 2.06221575 1.4561035\n",
      "  1.4078194  1.41064532]\n",
      " [0.87347069 1.32837126 0.88504407 0.9636426  1.12457039 1.05485034\n",
      "  0.91454268 0.78781616]\n",
      " [0.54473114 0.51695313 0.91772922 0.59024626 0.79476249 0.47028552\n",
      "  0.79828437 0.87091941]\n",
      " [1.01109629 1.35050387 1.2042769  1.20095085 1.07885293 0.94148799\n",
      "  1.08720884 1.15837415]\n",
      " [0.         0.39382528 0.38538087 0.42368988 0.24824481 0.1539\n",
      "  0.13095021 0.        ]\n",
      " [0.40959525 0.82146405 0.89430642 0.6275273  0.87958427 0.75321161\n",
      "  1.25470445 0.78758923]\n",
      " [0.99431852 1.02830259 1.33626488 1.20551203 1.12232175 1.32720612\n",
      "  0.92890459 1.29045136]\n",
      " [0.         0.         0.         0.         0.48234359 0.57620045\n",
      "  0.6015703  0.        ]\n",
      " [1.13119984 0.76143977 0.83414991 1.22472106 0.93357393 1.06114706\n",
      "  1.77938096 1.65489564]\n",
      " [0.67271137 0.62580265 0.95278311 1.43202399 1.1081266  1.16498233\n",
      "  1.08873554 1.08689837]\n",
      " [0.         0.         0.         0.         0.66972102 1.42075513\n",
      "  1.02891865 1.04292545]\n",
      " [1.34028609 1.06278298 1.41939371 1.53897044 1.17544561 1.35682412\n",
      "  0.72012192 0.74490794]\n",
      " [1.37824661 1.32975182 1.84220198 2.19395258 1.89669302 1.7736118\n",
      "  2.47589214 2.88177743]\n",
      " [0.81931761 0.99181494 0.88302368 0.729691   0.67042201 0.65642466\n",
      "  0.1299294  0.        ]\n",
      " [0.19247226 0.26739456 0.23711055 0.48916606 1.00261193 0.49282041\n",
      "  0.82091548 0.78941606]\n",
      " [1.25689411 1.37996521 1.12725006 0.96932499 1.48371153 1.10170163\n",
      "  1.83974989 1.50977837]\n",
      " [0.83294997 1.10315476 1.38845928 0.9659387  0.99725033 0.96034273\n",
      "  1.26550224 0.92323119]\n",
      " [0.52591309 0.54776217 0.98110146 0.75971538 0.52928998 0.60691111\n",
      "  0.87306134 0.99933739]\n",
      " [0.56001967 0.67909175 0.63924165 0.63931378 0.59120887 0.77447049\n",
      "  0.72353808 0.70611546]\n",
      " [0.         0.         0.         0.4477058  0.         0.\n",
      "  0.         0.        ]\n",
      " [0.         0.74918823 0.         0.         0.         0.\n",
      "  0.         0.        ]\n",
      " [0.         0.         0.         0.         0.         0.\n",
      "  0.         0.56585116]\n",
      " [0.         0.         0.         0.         0.         0.2250064\n",
      "  0.         0.        ]\n",
      " [0.         0.         0.         0.         0.         0.\n",
      "  0.         0.31356388]]\n"
     ]
    },
    {
     "name": "stderr",
     "output_type": "stream",
     "text": [
      "TiffPages: failed to load virtual frames: page offsets not equidistant\n"
     ]
    },
    {
     "name": "stdout",
     "output_type": "stream",
     "text": [
      "Old version ignored 14 hq flags out of 200 synaptic observations\n",
      "Old version ignored 14 hq flags out of 200 synaptic observations\n"
     ]
    },
    {
     "name": "stderr",
     "output_type": "stream",
     "text": [
      "TiffPages: failed to load virtual frames: page offsets not equidistant\n"
     ]
    },
    {
     "name": "stdout",
     "output_type": "stream",
     "text": [
      "Old version ignored 14 hq flags out of 200 synaptic observations\n"
     ]
    },
    {
     "name": "stderr",
     "output_type": "stream",
     "text": [
      "TiffPages: failed to load virtual frames: page offsets not equidistant\n"
     ]
    },
    {
     "name": "stdout",
     "output_type": "stream",
     "text": [
      "Old version ignored 14 hq flags out of 200 synaptic observations\n"
     ]
    },
    {
     "name": "stderr",
     "output_type": "stream",
     "text": [
      "TiffPages: failed to load virtual frames: page offsets not equidistant\n"
     ]
    },
    {
     "name": "stdout",
     "output_type": "stream",
     "text": [
      "Old version ignored 14 hq flags out of 200 synaptic observations\n"
     ]
    },
    {
     "name": "stderr",
     "output_type": "stream",
     "text": [
      "TiffPages: failed to load virtual frames: page offsets not equidistant\n"
     ]
    },
    {
     "name": "stdout",
     "output_type": "stream",
     "text": [
      "Old version ignored 14 hq flags out of 200 synaptic observations\n"
     ]
    },
    {
     "name": "stderr",
     "output_type": "stream",
     "text": [
      "TiffPages: failed to load virtual frames: page offsets not equidistant\n"
     ]
    },
    {
     "name": "stdout",
     "output_type": "stream",
     "text": [
      "Old version ignored 14 hq flags out of 200 synaptic observations\n"
     ]
    },
    {
     "name": "stderr",
     "output_type": "stream",
     "text": [
      "TiffPages: failed to load virtual frames: page offsets not equidistant\n"
     ]
    },
    {
     "name": "stdout",
     "output_type": "stream",
     "text": [
      "Old version ignored 14 hq flags out of 200 synaptic observations\n"
     ]
    },
    {
     "name": "stderr",
     "output_type": "stream",
     "text": [
      "TiffPages: failed to load virtual frames: page offsets not equidistant\n"
     ]
    },
    {
     "name": "stdout",
     "output_type": "stream",
     "text": [
      "Old version ignored 14 hq flags out of 200 synaptic observations\n",
      "Saving dendrite ah002\n",
      "Old version ignored 0 hq flags out of 256 synaptic observations\n",
      "Extracting dendrite ah007 [[1.92165656 1.91957046 1.70299821 1.19986761 1.23134043 0.94186775\n",
      "  1.15638539 1.5337935 ]\n",
      " [0.94793059 0.86129377 0.89616582 0.73001435 0.         0.\n",
      "  0.         0.        ]\n",
      " [0.80074112 1.31562151 1.15177676 1.54648201 1.51866162 1.08296465\n",
      "  1.02187669 0.96640363]\n",
      " [1.2429764  0.70229681 1.40174206 1.12332192 1.0883951  1.08651452\n",
      "  0.97505106 1.12121558]\n",
      " [3.25649131 3.21420255 2.68475931 2.00189607 2.04897129 1.87030871\n",
      "  1.90266535 2.1669863 ]\n",
      " [0.60853493 0.83887129 0.93142216 0.79885286 0.63742044 0.68947665\n",
      "  0.7700467  0.80762556]\n",
      " [0.80909301 0.90277952 0.67328125 0.74855338 0.70430801 0.56410136\n",
      "  0.8182146  0.89944176]\n",
      " [1.3726081  1.3908536  1.35905957 1.02166839 1.03323945 0.97516761\n",
      "  1.12601041 1.33050756]\n",
      " [1.26415849 1.37008602 0.91680108 0.97833161 0.87836545 1.11428599\n",
      "  1.00307225 0.91238079]\n",
      " [0.57722913 0.70851326 0.61939174 0.5512814  0.5152096  0.76609462\n",
      "  0.43752225 0.62079936]\n",
      " [0.         0.92030521 0.         0.         0.         0.\n",
      "  0.         0.        ]\n",
      " [0.38988564 0.         0.         0.         0.         0.\n",
      "  0.         0.        ]\n",
      " [0.         0.         0.52924245 0.         0.         0.\n",
      "  0.         0.        ]]\n"
     ]
    },
    {
     "name": "stderr",
     "output_type": "stream",
     "text": [
      "TiffPages: failed to load virtual frames: page offsets not equidistant\n"
     ]
    },
    {
     "name": "stdout",
     "output_type": "stream",
     "text": [
      "Old version ignored 0 hq flags out of 256 synaptic observations\n",
      "Old version ignored 0 hq flags out of 256 synaptic observations\n"
     ]
    },
    {
     "name": "stderr",
     "output_type": "stream",
     "text": [
      "TiffPages: failed to load virtual frames: page offsets not equidistant\n"
     ]
    },
    {
     "name": "stdout",
     "output_type": "stream",
     "text": [
      "Old version ignored 0 hq flags out of 256 synaptic observations\n"
     ]
    },
    {
     "name": "stderr",
     "output_type": "stream",
     "text": [
      "TiffPages: failed to load virtual frames: page offsets not equidistant\n"
     ]
    },
    {
     "name": "stdout",
     "output_type": "stream",
     "text": [
      "Old version ignored 0 hq flags out of 256 synaptic observations\n"
     ]
    },
    {
     "name": "stderr",
     "output_type": "stream",
     "text": [
      "TiffPages: failed to load virtual frames: page offsets not equidistant\n"
     ]
    },
    {
     "name": "stdout",
     "output_type": "stream",
     "text": [
      "Old version ignored 0 hq flags out of 256 synaptic observations\n"
     ]
    },
    {
     "name": "stderr",
     "output_type": "stream",
     "text": [
      "TiffPages: failed to load virtual frames: page offsets not equidistant\n"
     ]
    },
    {
     "name": "stdout",
     "output_type": "stream",
     "text": [
      "Old version ignored 0 hq flags out of 256 synaptic observations\n"
     ]
    },
    {
     "name": "stderr",
     "output_type": "stream",
     "text": [
      "TiffPages: failed to load virtual frames: page offsets not equidistant\n"
     ]
    },
    {
     "name": "stdout",
     "output_type": "stream",
     "text": [
      "Old version ignored 0 hq flags out of 256 synaptic observations\n"
     ]
    },
    {
     "name": "stderr",
     "output_type": "stream",
     "text": [
      "TiffPages: failed to load virtual frames: page offsets not equidistant\n"
     ]
    },
    {
     "name": "stdout",
     "output_type": "stream",
     "text": [
      "Old version ignored 0 hq flags out of 256 synaptic observations\n"
     ]
    },
    {
     "name": "stderr",
     "output_type": "stream",
     "text": [
      "TiffPages: failed to load virtual frames: page offsets not equidistant\n"
     ]
    },
    {
     "name": "stdout",
     "output_type": "stream",
     "text": [
      "Old version ignored 0 hq flags out of 256 synaptic observations\n",
      "Saving dendrite ah007\n",
      "Old version ignored 11 hq flags out of 200 synaptic observations\n",
      "Extracting dendrite ak009 [[2.73869336 1.76876412 2.1011359  1.79825413 1.5141113  1.75153961\n",
      "  1.94022605 1.59472018]\n",
      " [1.56966231 1.26642275 1.528773   1.33242808 1.00660883 1.17665338\n",
      "  1.55178403 1.17200648]\n",
      " [1.86337374 1.49275127 1.62848639 1.38096469 1.26053126 1.50239499\n",
      "  1.76580422 1.26189795]\n",
      " [0.77788256 0.82146123 1.04569814 0.86306921 0.93105254 0.81041316\n",
      "  0.77611498 0.91382077]\n",
      " [1.39373812 1.03360578 0.76931827 0.91786994 1.30603417 1.2378673\n",
      "  1.39400031 1.15310476]\n",
      " [0.9437107  1.15438719 1.23789249 1.11929071 1.07917553 1.09669577\n",
      "  0.91117589 0.91124702]\n",
      " [1.12451901 1.35670751 1.32987725 1.50860809 1.47022888 0.9091916\n",
      "  1.04027597 0.84005479]\n",
      " [1.18814982 1.17812908 1.15019081 1.16672683 1.06075383 1.02240924\n",
      "  1.37505956 0.94505079]\n",
      " [0.7313665  0.         0.         0.         0.         0.\n",
      "  0.         0.        ]\n",
      " [0.79148186 0.5826609  0.69120851 0.69403569 0.57112757 0.53419093\n",
      "  0.73608407 0.70421678]\n",
      " [0.55747259 0.79308303 0.61615887 0.48599641 0.48379231 0.67654041\n",
      "  0.63639387 0.52735559]\n",
      " [0.60523817 0.38129935 0.50391956 0.37242156 0.41633925 0.56269299\n",
      "  0.54614062 0.44454351]\n",
      " [0.85272726 0.78294505 1.03782768 0.83222784 1.12866329 0.99908761\n",
      "  0.83749808 1.04736918]\n",
      " [0.         0.         0.48447644 0.54224906 0.29953835 0.\n",
      "  0.         0.        ]\n",
      " [0.87999976 0.95607328 0.92527259 0.95093154 0.92240926 0.8757588\n",
      "  0.65759094 1.29381285]\n",
      " [0.51894904 0.84470738 0.84101077 0.94762249 0.88374586 1.14962903\n",
      "  1.35098347 1.09417356]\n",
      " [1.55707162 1.47074823 1.40116269 1.87910175 1.23647821 2.06394199\n",
      "  2.12611317 1.73031323]\n",
      " [1.90128373 1.19074685 1.23066659 1.41280842 1.13873331 1.07609516\n",
      "  1.21105006 1.09375925]\n",
      " [1.91468396 1.39078227 1.38162623 1.67384037 1.11133776 1.50916528\n",
      "  1.23293248 1.10403297]\n",
      " [0.73355386 0.37075454 0.71301128 0.82684631 0.46378271 0.52561308\n",
      "  0.44151742 0.5516022 ]\n",
      " [1.0206667  0.85593375 0.75759739 1.06428532 0.68411166 0.99321638\n",
      "  0.72529388 0.71199742]\n",
      " [1.03110384 0.67450543 0.80570136 0.73138078 0.48829517 0.58418317\n",
      "  0.8232373  0.63371116]\n",
      " [0.         0.         0.         0.         0.         0.39809198\n",
      "  0.         0.        ]]\n"
     ]
    },
    {
     "name": "stderr",
     "output_type": "stream",
     "text": [
      "TiffPages: failed to load virtual frames: page offsets not equidistant\n"
     ]
    },
    {
     "name": "stdout",
     "output_type": "stream",
     "text": [
      "Old version ignored 11 hq flags out of 200 synaptic observations\n",
      "Old version ignored 11 hq flags out of 200 synaptic observations\n"
     ]
    },
    {
     "name": "stderr",
     "output_type": "stream",
     "text": [
      "TiffPages: failed to load virtual frames: page offsets not equidistant\n"
     ]
    },
    {
     "name": "stdout",
     "output_type": "stream",
     "text": [
      "Old version ignored 11 hq flags out of 200 synaptic observations\n"
     ]
    },
    {
     "name": "stderr",
     "output_type": "stream",
     "text": [
      "TiffPages: failed to load virtual frames: page offsets not equidistant\n"
     ]
    },
    {
     "name": "stdout",
     "output_type": "stream",
     "text": [
      "Old version ignored 11 hq flags out of 200 synaptic observations\n"
     ]
    },
    {
     "name": "stderr",
     "output_type": "stream",
     "text": [
      "TiffPages: failed to load virtual frames: page offsets not equidistant\n"
     ]
    },
    {
     "name": "stdout",
     "output_type": "stream",
     "text": [
      "Old version ignored 11 hq flags out of 200 synaptic observations\n"
     ]
    },
    {
     "name": "stderr",
     "output_type": "stream",
     "text": [
      "TiffPages: failed to load virtual frames: page offsets not equidistant\n"
     ]
    },
    {
     "name": "stdout",
     "output_type": "stream",
     "text": [
      "Old version ignored 11 hq flags out of 200 synaptic observations\n"
     ]
    },
    {
     "name": "stderr",
     "output_type": "stream",
     "text": [
      "TiffPages: failed to load virtual frames: page offsets not equidistant\n"
     ]
    },
    {
     "name": "stdout",
     "output_type": "stream",
     "text": [
      "Old version ignored 11 hq flags out of 200 synaptic observations\n"
     ]
    },
    {
     "name": "stderr",
     "output_type": "stream",
     "text": [
      "TiffPages: failed to load virtual frames: page offsets not equidistant\n"
     ]
    },
    {
     "name": "stdout",
     "output_type": "stream",
     "text": [
      "Old version ignored 11 hq flags out of 200 synaptic observations\n"
     ]
    },
    {
     "name": "stderr",
     "output_type": "stream",
     "text": [
      "TiffPages: failed to load virtual frames: page offsets not equidistant\n"
     ]
    },
    {
     "name": "stdout",
     "output_type": "stream",
     "text": [
      "Old version ignored 11 hq flags out of 200 synaptic observations\n",
      "Saving dendrite ak009\n",
      "Old version ignored 0 hq flags out of 328 synaptic observations\n",
      "Extracting dendrite ak011 [[1.44349502 1.22550769 1.31055112 1.4230558  1.37226827 1.21862252\n",
      "  1.61444364 1.45822792]\n",
      " [1.80848473 1.98951161 1.88196891 1.65212774 2.33748934 1.92678112\n",
      "  2.12547785 2.12594956]\n",
      " [1.24490785 1.07224402 1.13615024 0.74008069 0.93215746 1.27085608\n",
      "  1.43184696 1.53196441]\n",
      " [0.87383428 0.94597023 0.80031742 0.87154579 0.61679228 0.73531512\n",
      "  0.91170088 0.66116928]\n",
      " [0.93835852 1.14402906 1.16406303 1.14511404 1.00967133 0.93376787\n",
      "  0.96015859 0.99539127]\n",
      " [0.52380488 0.71461651 0.54680622 0.         0.         0.\n",
      "  0.         0.        ]\n",
      " [2.0661475  2.14537903 2.33950285 1.4737247  1.67667079 2.12352229\n",
      "  1.87370919 1.58205941]\n",
      " [0.57014916 0.77603014 0.92073909 0.54055712 0.78865169 0.74418402\n",
      "  0.83213917 0.7359422 ]\n",
      " [1.21303882 1.18133476 0.98673879 0.77838983 1.02019236 1.1188564\n",
      "  0.99110126 0.99455769]\n",
      " [0.97476838 0.79127866 0.85125594 0.65829401 0.75043772 0.79153714\n",
      "  0.82983052 0.81375279]\n",
      " [1.80943298 1.78120703 1.18763465 1.80618832 1.78966345 1.39708653\n",
      "  1.68964604 1.66728971]\n",
      " [0.62056883 0.74272856 0.77289428 0.97923122 1.03797885 0.80649025\n",
      "  0.88850998 0.71472675]\n",
      " [0.74905024 0.8377567  0.95637189 1.22256973 1.08113699 1.14088548\n",
      "  0.8989536  0.        ]\n",
      " [0.         0.         0.         1.00410894 0.86178442 0.66949004\n",
      "  1.13703928 1.01005104]\n",
      " [0.58941489 0.67873927 0.55016776 0.7332513  0.4710551  0.52777579\n",
      "  0.6255132  0.59648413]]\n"
     ]
    },
    {
     "name": "stderr",
     "output_type": "stream",
     "text": [
      "TiffPages: failed to load virtual frames: page offsets not equidistant\n"
     ]
    },
    {
     "name": "stdout",
     "output_type": "stream",
     "text": [
      "Old version ignored 0 hq flags out of 328 synaptic observations\n",
      "Old version ignored 0 hq flags out of 328 synaptic observations\n"
     ]
    },
    {
     "name": "stderr",
     "output_type": "stream",
     "text": [
      "TiffPages: failed to load virtual frames: page offsets not equidistant\n"
     ]
    },
    {
     "name": "stdout",
     "output_type": "stream",
     "text": [
      "Old version ignored 0 hq flags out of 328 synaptic observations\n"
     ]
    },
    {
     "name": "stderr",
     "output_type": "stream",
     "text": [
      "TiffPages: failed to load virtual frames: page offsets not equidistant\n"
     ]
    },
    {
     "name": "stdout",
     "output_type": "stream",
     "text": [
      "Old version ignored 0 hq flags out of 328 synaptic observations\n"
     ]
    },
    {
     "name": "stderr",
     "output_type": "stream",
     "text": [
      "TiffPages: failed to load virtual frames: page offsets not equidistant\n"
     ]
    },
    {
     "name": "stdout",
     "output_type": "stream",
     "text": [
      "Old version ignored 0 hq flags out of 328 synaptic observations\n"
     ]
    },
    {
     "name": "stderr",
     "output_type": "stream",
     "text": [
      "TiffPages: failed to load virtual frames: page offsets not equidistant\n"
     ]
    },
    {
     "name": "stdout",
     "output_type": "stream",
     "text": [
      "Old version ignored 0 hq flags out of 328 synaptic observations\n"
     ]
    },
    {
     "name": "stderr",
     "output_type": "stream",
     "text": [
      "TiffPages: failed to load virtual frames: page offsets not equidistant\n"
     ]
    },
    {
     "name": "stdout",
     "output_type": "stream",
     "text": [
      "Old version ignored 0 hq flags out of 328 synaptic observations\n"
     ]
    },
    {
     "name": "stderr",
     "output_type": "stream",
     "text": [
      "TiffPages: failed to load virtual frames: page offsets not equidistant\n"
     ]
    },
    {
     "name": "stdout",
     "output_type": "stream",
     "text": [
      "Old version ignored 0 hq flags out of 328 synaptic observations\n"
     ]
    },
    {
     "name": "stderr",
     "output_type": "stream",
     "text": [
      "TiffPages: failed to load virtual frames: page offsets not equidistant\n"
     ]
    },
    {
     "name": "stdout",
     "output_type": "stream",
     "text": [
      "Old version ignored 0 hq flags out of 328 synaptic observations\n",
      "Saving dendrite ak011\n",
      "Old version ignored 0 hq flags out of 328 synaptic observations\n",
      "Extracting dendrite br001 [[0.71678993 0.69488316 0.74290076 0.4742475  0.41954714 0.695156\n",
      "  0.82867869 0.61098385]\n",
      " [1.12296552 1.00679548 1.06963617 1.00564203 0.91261751 1.51528757\n",
      "  1.05837703 0.91961258]\n",
      " [1.4163976  1.22856823 1.30769866 1.1833207  1.15047599 1.15229659\n",
      "  1.14268888 1.13643284]\n",
      " [0.84278716 1.22266925 0.98358035 1.41953592 1.08974995 1.14764813\n",
      "  1.57299463 0.99137477]\n",
      " [1.08355    0.93638794 0.37021534 1.07172402 1.22123576 0.99842962\n",
      "  1.07731177 1.1008792 ]\n",
      " [0.81923503 0.77366314 0.6359059  0.82656142 0.74810045 0.7740646\n",
      "  0.88898915 0.98950306]\n",
      " [1.07034395 1.45119957 1.10536586 1.06467703 0.81786971 1.03363902\n",
      "  0.89853124 1.28908965]\n",
      " [0.62441213 0.5455364  0.43183954 0.54054788 0.73311017 0.62026426\n",
      "  0.61392398 0.5588558 ]\n",
      " [1.15678094 0.93330186 1.0640808  0.95508104 1.07352518 0.8884843\n",
      "  1.2479337  1.09781523]\n",
      " [0.71762197 0.78408704 0.89025528 0.93181678 0.71078325 0.79733586\n",
      "  0.92824219 0.55179221]\n",
      " [2.1274858  2.66937088 2.08625886 2.31085981 1.73006656 2.08441217\n",
      "  2.38703318 2.06773274]\n",
      " [1.4898717  1.30714839 1.30731312 0.97446091 1.02646882 1.21884635\n",
      "  1.10782838 1.24397339]\n",
      " [0.63981427 0.73295007 0.65528134 0.59029183 0.43757505 0.45065133\n",
      "  0.55991645 0.6305191 ]\n",
      " [1.451177   1.7641566  1.41550994 1.78677821 1.68031076 1.67191419\n",
      "  1.71124129 1.25623868]\n",
      " [0.         0.69044047 0.84294729 0.75756956 0.8158578  0.88898339\n",
      "  1.0116322  0.82028172]\n",
      " [0.93399355 0.97306142 0.88993638 0.68388832 0.92061739 0.87088502\n",
      "  0.93167881 0.69245328]\n",
      " [1.33780006 1.30492948 1.55109666 1.63779538 1.82842089 1.71424657\n",
      "  2.01560817 1.84260538]\n",
      " [1.08874731 0.86472414 1.34823847 1.40622128 1.31264513 1.03559974\n",
      "  0.88747933 1.18196456]\n",
      " [0.57890074 0.54221386 0.55091176 0.69813349 0.75785336 0.70054579\n",
      "  0.61111368 0.88398229]\n",
      " [0.80304278 1.81149962 0.74535281 0.61500886 0.98872709 0.69284987\n",
      "  0.5702826  0.67175808]\n",
      " [1.08060076 1.07909262 1.23413244 1.20616382 1.13488337 1.29597452\n",
      "  1.13167787 1.74393496]\n",
      " [0.75998037 1.03581251 0.96279265 1.12604715 0.77950416 0.66802911\n",
      "  0.9578119  0.82823008]\n",
      " [0.95873099 0.7436224  0.91132168 0.78247903 0.93006061 1.00720821\n",
      "  0.92711772 0.98672366]\n",
      " [1.02614459 1.04055867 0.94805789 0.87055103 0.96223084 1.07461821\n",
      "  1.1823046  1.02282517]\n",
      " [1.20213664 1.31933329 1.44844341 1.63972273 1.20920366 1.19974741\n",
      "  1.37256337 1.01759558]\n",
      " [1.38461934 1.37445634 1.22286836 1.19392551 1.30803895 1.23816491\n",
      "  1.56542984 1.44298085]\n",
      " [1.15374125 1.20480303 1.19280067 1.45471418 1.36753734 1.42192887\n",
      "  1.61883268 1.27724204]\n",
      " [2.87713001 3.14610878 3.58036942 2.90289001 3.63810678 2.95491049\n",
      "  3.28814131 2.87087179]\n",
      " [0.79513294 1.07408212 1.06053046 0.78664744 1.06561774 0.83807237\n",
      "  0.83208164 0.81858489]\n",
      " [2.06981528 1.53529176 2.54342497 1.99282956 2.656854   2.34835275\n",
      "  2.42093026 2.67949787]\n",
      " [0.3567801  0.22088571 0.23060617 0.         0.         0.\n",
      "  0.         0.        ]\n",
      " [0.         0.         0.         0.         0.25216622 0.15874195\n",
      "  0.26456267 0.30357193]\n",
      " [0.37729767 0.35102271 0.44246493 0.         0.         0.\n",
      "  0.         0.        ]\n",
      " [0.         0.         0.         0.         0.24884302 0.40652504\n",
      "  0.50925701 0.47639113]\n",
      " [0.29822154 0.61237293 0.38468221 0.         0.         0.\n",
      "  0.         0.        ]\n",
      " [1.00384899 0.         0.         0.         0.         0.\n",
      "  0.         0.        ]\n",
      " [0.         0.         1.15521546 1.16391132 1.03275234 1.07303751\n",
      "  0.91574126 0.97454997]\n",
      " [0.47315589 0.         0.         0.         0.         0.\n",
      "  0.         0.        ]\n",
      " [0.         0.         0.6458226  0.         0.         0.\n",
      "  0.         0.        ]\n",
      " [0.         0.         0.         0.         0.51229209 0.48354759\n",
      "  0.         0.        ]\n",
      " [0.         0.         0.         0.         0.         0.\n",
      "  0.         0.66913731]]\n"
     ]
    },
    {
     "name": "stderr",
     "output_type": "stream",
     "text": [
      "TiffPages: failed to load virtual frames: page offsets not equidistant\n"
     ]
    },
    {
     "name": "stdout",
     "output_type": "stream",
     "text": [
      "Old version ignored 0 hq flags out of 328 synaptic observations\n",
      "Old version ignored 0 hq flags out of 328 synaptic observations\n"
     ]
    },
    {
     "name": "stderr",
     "output_type": "stream",
     "text": [
      "TiffPages: failed to load virtual frames: page offsets not equidistant\n"
     ]
    },
    {
     "name": "stdout",
     "output_type": "stream",
     "text": [
      "Old version ignored 0 hq flags out of 328 synaptic observations\n"
     ]
    },
    {
     "name": "stderr",
     "output_type": "stream",
     "text": [
      "TiffPages: failed to load virtual frames: page offsets not equidistant\n"
     ]
    },
    {
     "name": "stdout",
     "output_type": "stream",
     "text": [
      "Old version ignored 0 hq flags out of 328 synaptic observations\n"
     ]
    },
    {
     "name": "stderr",
     "output_type": "stream",
     "text": [
      "TiffPages: failed to load virtual frames: page offsets not equidistant\n"
     ]
    },
    {
     "name": "stdout",
     "output_type": "stream",
     "text": [
      "Old version ignored 0 hq flags out of 328 synaptic observations\n"
     ]
    },
    {
     "name": "stderr",
     "output_type": "stream",
     "text": [
      "TiffPages: failed to load virtual frames: page offsets not equidistant\n"
     ]
    },
    {
     "name": "stdout",
     "output_type": "stream",
     "text": [
      "Old version ignored 0 hq flags out of 328 synaptic observations\n"
     ]
    },
    {
     "name": "stderr",
     "output_type": "stream",
     "text": [
      "TiffPages: failed to load virtual frames: page offsets not equidistant\n"
     ]
    },
    {
     "name": "stdout",
     "output_type": "stream",
     "text": [
      "Old version ignored 0 hq flags out of 328 synaptic observations\n"
     ]
    },
    {
     "name": "stderr",
     "output_type": "stream",
     "text": [
      "TiffPages: failed to load virtual frames: page offsets not equidistant\n"
     ]
    },
    {
     "name": "stdout",
     "output_type": "stream",
     "text": [
      "Old version ignored 0 hq flags out of 328 synaptic observations\n"
     ]
    },
    {
     "name": "stderr",
     "output_type": "stream",
     "text": [
      "TiffPages: failed to load virtual frames: page offsets not equidistant\n"
     ]
    },
    {
     "name": "stdout",
     "output_type": "stream",
     "text": [
      "Old version ignored 0 hq flags out of 328 synaptic observations\n",
      "Saving dendrite br001\n",
      "Old version ignored 0 hq flags out of 256 synaptic observations\n",
      "Extracting dendrite br007 [[1.13825198 0.86119151 0.95234103 1.05715628 0.92416389 0.94348326\n",
      "  0.71858686 0.54689475]\n",
      " [1.10546317 1.36960602 1.38822741 1.45755485 1.48632891 1.07484404\n",
      "  1.15966688 1.57644475]\n",
      " [1.21958991 0.77203684 1.07199572 1.17925726 0.79217233 0.79068315\n",
      "  0.84392214 1.0438228 ]\n",
      " [0.60177318 0.58903959 0.7703048  0.63132654 0.62970416 0.80359075\n",
      "  1.02703687 0.55131166]\n",
      " [0.45690824 0.31148291 0.77681336 0.79344567 0.66572262 1.10333349\n",
      "  0.81298527 1.24028528]\n",
      " [0.89257485 0.8055138  0.8917695  1.19569148 1.40921391 1.32084108\n",
      "  1.10795696 1.44419598]\n",
      " [1.29954996 1.21025126 1.45166996 1.32921926 1.33212618 1.34350128\n",
      "  1.2405431  0.77047082]\n",
      " [1.52549112 1.13419384 1.06990702 0.90268902 1.06181747 0.92677668\n",
      "  0.78625697 1.07930082]\n",
      " [1.00857264 0.96190318 0.85286251 0.58533474 0.92894898 0.60136081\n",
      "  0.71577034 0.93176589]\n",
      " [1.67098432 1.30273164 1.6376705  0.97043956 1.35088977 1.12820202\n",
      "  1.08473051 0.71121612]\n",
      " [0.81869793 1.08755456 0.93723117 0.9877227  0.82881855 0.9111851\n",
      "  0.94451404 0.90645353]\n",
      " [1.43776937 1.02264662 1.343184   1.13800996 0.74967784 0.91007903\n",
      "  1.01821689 1.15969279]\n",
      " [1.77146159 1.10559029 1.4651921  1.53055053 0.88935286 1.26320471\n",
      "  1.26672487 1.36362607]\n",
      " [0.34665281 0.69215104 0.33504337 0.60701817 0.54903626 0.51124653\n",
      "  0.74270299 0.98807965]\n",
      " [0.57080992 1.04116529 0.94686521 0.76119336 0.7958551  0.69947729\n",
      "  0.77368679 0.98006749]\n",
      " [0.44263661 0.66508976 0.85511804 0.65107643 1.02947236 0.85539439\n",
      "  0.92550169 0.66457168]\n",
      " [0.32618222 0.41323384 0.44927273 0.32206726 0.38082273 0.44655832\n",
      "  0.38010531 0.56031396]\n",
      " [0.93269244 1.23396929 0.75813248 0.99273214 1.27174265 1.04037743\n",
      "  1.10688051 1.05626416]\n",
      " [0.82919325 0.73473441 1.02165985 0.80403015 1.23278549 1.32022934\n",
      "  1.29271758 0.91702911]\n",
      " [1.78869159 1.37008991 1.56349153 2.0237396  1.81998442 1.89971939\n",
      "  1.87411641 1.84159556]\n",
      " [0.92244493 1.02553884 1.07478641 1.08926029 1.16624445 1.39471431\n",
      "  1.25647818 1.09161285]\n",
      " [1.17117303 1.37274931 1.40183452 1.46155413 1.7035506  1.56219965\n",
      "  1.21268792 1.30263558]\n",
      " [0.         0.         0.         0.         0.         0.\n",
      "  0.23078482 0.47053436]]\n"
     ]
    },
    {
     "name": "stderr",
     "output_type": "stream",
     "text": [
      "TiffPages: failed to load virtual frames: page offsets not equidistant\n"
     ]
    },
    {
     "name": "stdout",
     "output_type": "stream",
     "text": [
      "Old version ignored 0 hq flags out of 256 synaptic observations\n",
      "Old version ignored 0 hq flags out of 256 synaptic observations\n"
     ]
    },
    {
     "name": "stderr",
     "output_type": "stream",
     "text": [
      "TiffPages: failed to load virtual frames: page offsets not equidistant\n"
     ]
    },
    {
     "name": "stdout",
     "output_type": "stream",
     "text": [
      "Old version ignored 0 hq flags out of 256 synaptic observations\n"
     ]
    },
    {
     "name": "stderr",
     "output_type": "stream",
     "text": [
      "TiffPages: failed to load virtual frames: page offsets not equidistant\n"
     ]
    },
    {
     "name": "stdout",
     "output_type": "stream",
     "text": [
      "Old version ignored 0 hq flags out of 256 synaptic observations\n"
     ]
    },
    {
     "name": "stderr",
     "output_type": "stream",
     "text": [
      "TiffPages: failed to load virtual frames: page offsets not equidistant\n"
     ]
    },
    {
     "name": "stdout",
     "output_type": "stream",
     "text": [
      "Old version ignored 0 hq flags out of 256 synaptic observations\n"
     ]
    },
    {
     "name": "stderr",
     "output_type": "stream",
     "text": [
      "TiffPages: failed to load virtual frames: page offsets not equidistant\n"
     ]
    },
    {
     "name": "stdout",
     "output_type": "stream",
     "text": [
      "Old version ignored 0 hq flags out of 256 synaptic observations\n"
     ]
    },
    {
     "name": "stderr",
     "output_type": "stream",
     "text": [
      "TiffPages: failed to load virtual frames: page offsets not equidistant\n"
     ]
    },
    {
     "name": "stdout",
     "output_type": "stream",
     "text": [
      "Old version ignored 0 hq flags out of 256 synaptic observations\n"
     ]
    },
    {
     "name": "stderr",
     "output_type": "stream",
     "text": [
      "TiffPages: failed to load virtual frames: page offsets not equidistant\n"
     ]
    },
    {
     "name": "stdout",
     "output_type": "stream",
     "text": [
      "Old version ignored 0 hq flags out of 256 synaptic observations\n"
     ]
    },
    {
     "name": "stderr",
     "output_type": "stream",
     "text": [
      "TiffPages: failed to load virtual frames: page offsets not equidistant\n"
     ]
    },
    {
     "name": "stdout",
     "output_type": "stream",
     "text": [
      "Old version ignored 0 hq flags out of 256 synaptic observations\n",
      "Saving dendrite br007\n",
      "Old version ignored 0 hq flags out of 232 synaptic observations\n",
      "Extracting dendrite br010 [[1.69896737 1.61985005 1.4944806  1.80849329 1.3974851  1.39666746\n",
      "  1.29639152 1.42470973]\n",
      " [1.5102681  1.72177562 1.61276207 1.53895979 1.86175427 1.50476584\n",
      "  1.09428232 1.17058658]\n",
      " [0.99620932 1.41911626 1.33464912 1.12304174 1.44987023 1.43228797\n",
      "  1.11077092 1.00873678]\n",
      " [0.89307104 1.12397657 1.09171014 0.80806666 0.78953777 1.17412519\n",
      "  1.25383199 1.2082009 ]\n",
      " [0.86863953 1.00795093 0.98269734 1.02079261 0.94738081 0.93257684\n",
      "  0.77047789 0.80807998]\n",
      " [1.25397817 1.64697884 1.35729588 1.38080842 1.49149889 1.84526646\n",
      "  1.60036781 1.32589256]\n",
      " [0.8206408  0.86398995 0.95166202 0.97353356 0.8204681  0.79203985\n",
      "  0.80576969 0.73063847]\n",
      " [1.28040274 1.22063768 1.00747946 0.60270785 0.58673622 0.46854722\n",
      "  0.77039688 0.86658989]\n",
      " [0.32279041 0.45026843 0.76567547 1.3662266  0.87264622 0.70952185\n",
      "  0.7529321  0.4432461 ]\n",
      " [0.98463365 0.7255034  0.         0.         0.         0.\n",
      "  0.         0.        ]\n",
      " [1.18196248 0.76416816 0.95173622 0.88263209 1.01818921 0.97875678\n",
      "  1.04245556 0.84816628]\n",
      " [0.80040335 0.60715313 0.76763124 0.79694677 0.79422647 0.78954608\n",
      "  1.19755113 0.72829198]\n",
      " [0.79805416 0.69608503 0.69082689 1.14266382 1.10239576 0.89787075\n",
      "  0.67236984 1.32463413]\n",
      " [0.93473372 0.98255723 1.05808699 0.86113066 1.60067913 1.47912378\n",
      "  1.40783644 1.11210069]\n",
      " [1.11398297 1.07375676 0.42008923 0.57479514 0.77053548 0.71563323\n",
      "  0.         0.        ]\n",
      " [1.45594387 1.07174513 2.061622   2.14560966 1.07303058 1.95015244\n",
      "  1.1235942  1.33649117]\n",
      " [1.08442331 1.08252942 1.35621339 1.35853605 1.08875318 1.01667043\n",
      "  0.61189001 1.07984783]\n",
      " [0.20491165 0.13927314 0.         0.         0.         0.\n",
      "  0.         0.        ]\n",
      " [0.         0.69474523 0.5870599  0.70858882 0.73524655 0.76346833\n",
      "  0.94672151 0.93272481]\n",
      " [0.         0.         0.30942629 0.36996746 0.         0.\n",
      "  0.         0.        ]\n",
      " [0.         0.         0.         0.         0.         0.\n",
      "  0.45434896 0.50784106]]\n"
     ]
    },
    {
     "name": "stderr",
     "output_type": "stream",
     "text": [
      "TiffPages: failed to load virtual frames: page offsets not equidistant\n"
     ]
    },
    {
     "name": "stdout",
     "output_type": "stream",
     "text": [
      "Old version ignored 0 hq flags out of 232 synaptic observations\n",
      "Old version ignored 0 hq flags out of 232 synaptic observations\n"
     ]
    },
    {
     "name": "stderr",
     "output_type": "stream",
     "text": [
      "TiffPages: failed to load virtual frames: page offsets not equidistant\n"
     ]
    },
    {
     "name": "stdout",
     "output_type": "stream",
     "text": [
      "Old version ignored 0 hq flags out of 232 synaptic observations\n"
     ]
    },
    {
     "name": "stderr",
     "output_type": "stream",
     "text": [
      "TiffPages: failed to load virtual frames: page offsets not equidistant\n"
     ]
    },
    {
     "name": "stdout",
     "output_type": "stream",
     "text": [
      "Old version ignored 0 hq flags out of 232 synaptic observations\n"
     ]
    },
    {
     "name": "stderr",
     "output_type": "stream",
     "text": [
      "TiffPages: failed to load virtual frames: page offsets not equidistant\n"
     ]
    },
    {
     "name": "stdout",
     "output_type": "stream",
     "text": [
      "Old version ignored 0 hq flags out of 232 synaptic observations\n"
     ]
    },
    {
     "name": "stderr",
     "output_type": "stream",
     "text": [
      "TiffPages: failed to load virtual frames: page offsets not equidistant\n"
     ]
    },
    {
     "name": "stdout",
     "output_type": "stream",
     "text": [
      "Old version ignored 0 hq flags out of 232 synaptic observations\n"
     ]
    },
    {
     "name": "stderr",
     "output_type": "stream",
     "text": [
      "TiffPages: failed to load virtual frames: page offsets not equidistant\n"
     ]
    },
    {
     "name": "stdout",
     "output_type": "stream",
     "text": [
      "Old version ignored 0 hq flags out of 232 synaptic observations\n"
     ]
    },
    {
     "name": "stderr",
     "output_type": "stream",
     "text": [
      "TiffPages: failed to load virtual frames: page offsets not equidistant\n"
     ]
    },
    {
     "name": "stdout",
     "output_type": "stream",
     "text": [
      "Old version ignored 0 hq flags out of 232 synaptic observations\n"
     ]
    },
    {
     "name": "stderr",
     "output_type": "stream",
     "text": [
      "TiffPages: failed to load virtual frames: page offsets not equidistant\n"
     ]
    },
    {
     "name": "stdout",
     "output_type": "stream",
     "text": [
      "Old version ignored 0 hq flags out of 232 synaptic observations\n",
      "Saving dendrite br010\n",
      "Old version ignored 0 hq flags out of 238 synaptic observations\n",
      "Extracting dendrite cq001 [[1.70964562 1.05571607 1.159365   1.47295466 1.86044359 1.85070685\n",
      "  1.97862852 1.38386017]\n",
      " [1.10112499 0.67344642 1.08167297 0.96073539 2.33889914 0.88506923\n",
      "  1.72522658 0.6934663 ]\n",
      " [1.02644617 1.03811612 0.61078303 1.15362255 0.7132553  0.82518681\n",
      "  1.21272033 0.9799651 ]\n",
      " [1.55569027 1.44204685 0.93624362 1.79778137 2.08049905 1.3087436\n",
      "  1.72562084 1.52549437]\n",
      " [0.73317198 0.94695797 0.88928411 1.1230851  1.2475474  0.79941683\n",
      "  0.94029994 1.03836975]\n",
      " [0.54277569 0.73553291 0.51958895 0.847907   0.87973331 1.02041981\n",
      "  0.98686223 0.93304209]\n",
      " [0.49907461 0.30151641 0.71814156 0.79766336 0.77793262 0.47826736\n",
      "  0.64948952 0.60990968]\n",
      " [0.90866488 1.1570845  1.13420819 0.9686469  0.83324274 1.03717759\n",
      "  0.88358267 0.71660445]\n",
      " [1.02979774 0.71232187 0.72205195 0.93782754 0.73239225 0.77582479\n",
      "  0.93787171 0.7712603 ]\n",
      " [1.43521966 1.13458915 1.48412785 1.83876585 1.61842971 1.34984847\n",
      "  1.59929873 1.08906724]\n",
      " [0.60004325 0.64690014 0.50268495 0.73368601 0.54242194 0.54462704\n",
      "  0.63300558 1.06122879]\n",
      " [0.82607177 0.79409026 0.66342417 0.9116946  0.84819708 1.23262932\n",
      "  0.93266891 0.71936504]\n",
      " [1.78891519 2.6801373  2.15028463 2.81886869 1.96069823 2.10219762\n",
      "  1.80159888 1.37754638]\n",
      " [1.4444066  1.32404444 1.30896757 0.94753261 1.1340013  1.57602714\n",
      "  1.00998059 1.03354395]\n",
      " [4.11199816 5.0089352  5.50555345 4.70972065 4.78599479 5.16504248\n",
      "  4.32388279 5.10136965]\n",
      " [0.93396622 1.21369344 0.93099799 1.25906471 0.84051289 0.93547354\n",
      "  0.92257604 0.9481212 ]\n",
      " [1.96832784 2.14907221 3.38611651 2.09234821 1.90599726 1.99038858\n",
      "  1.67647364 1.75622657]\n",
      " [1.4352902  1.35210714 2.11424386 0.86873795 1.13806831 1.11858329\n",
      "  1.06285724 1.1581979 ]\n",
      " [0.49615447 0.82462068 1.05108542 0.64051869 0.64604318 0.88834577\n",
      "  0.57443184 0.6784504 ]\n",
      " [0.66381649 0.43304549 0.         0.         0.         0.\n",
      "  0.         0.        ]\n",
      " [0.         0.         0.         0.         0.         0.60667813\n",
      "  0.         0.        ]\n",
      " [0.38320347 0.29136057 0.50554196 0.40145328 0.21950913 0.19039467\n",
      "  0.         0.        ]\n",
      " [0.         0.         0.         0.         0.         0.\n",
      "  0.         0.25708908]]\n"
     ]
    },
    {
     "name": "stderr",
     "output_type": "stream",
     "text": [
      "TiffPages: failed to load virtual frames: page offsets not equidistant\n"
     ]
    },
    {
     "name": "stdout",
     "output_type": "stream",
     "text": [
      "Old version ignored 0 hq flags out of 238 synaptic observations\n",
      "Old version ignored 0 hq flags out of 238 synaptic observations\n"
     ]
    },
    {
     "name": "stderr",
     "output_type": "stream",
     "text": [
      "TiffPages: failed to load virtual frames: page offsets not equidistant\n"
     ]
    },
    {
     "name": "stdout",
     "output_type": "stream",
     "text": [
      "Old version ignored 0 hq flags out of 238 synaptic observations\n"
     ]
    },
    {
     "name": "stderr",
     "output_type": "stream",
     "text": [
      "TiffPages: failed to load virtual frames: page offsets not equidistant\n"
     ]
    },
    {
     "name": "stdout",
     "output_type": "stream",
     "text": [
      "Old version ignored 0 hq flags out of 238 synaptic observations\n"
     ]
    },
    {
     "name": "stderr",
     "output_type": "stream",
     "text": [
      "TiffPages: failed to load virtual frames: page offsets not equidistant\n"
     ]
    },
    {
     "name": "stdout",
     "output_type": "stream",
     "text": [
      "Old version ignored 0 hq flags out of 238 synaptic observations\n"
     ]
    },
    {
     "name": "stderr",
     "output_type": "stream",
     "text": [
      "TiffPages: failed to load virtual frames: page offsets not equidistant\n"
     ]
    },
    {
     "name": "stdout",
     "output_type": "stream",
     "text": [
      "Old version ignored 0 hq flags out of 238 synaptic observations\n"
     ]
    },
    {
     "name": "stderr",
     "output_type": "stream",
     "text": [
      "TiffPages: failed to load virtual frames: page offsets not equidistant\n"
     ]
    },
    {
     "name": "stdout",
     "output_type": "stream",
     "text": [
      "Old version ignored 0 hq flags out of 238 synaptic observations\n"
     ]
    },
    {
     "name": "stderr",
     "output_type": "stream",
     "text": [
      "TiffPages: failed to load virtual frames: page offsets not equidistant\n"
     ]
    },
    {
     "name": "stdout",
     "output_type": "stream",
     "text": [
      "Old version ignored 0 hq flags out of 238 synaptic observations\n",
      "Saving dendrite cq001\n",
      "Old version ignored 21 hq flags out of 259 synaptic observations\n",
      "Extracting dendrite cq002 [[0.57151064 0.9793788  0.84603463 0.97324465 1.10285652 0.8869508\n",
      "  0.84002555]\n",
      " [2.4865995  1.74629441 1.99535991 3.32572365 4.34456803 2.75460023\n",
      "  2.95844593]\n",
      " [0.66254942 0.25213026 0.         0.         0.         0.\n",
      "  0.        ]\n",
      " [1.78097272 1.39351014 1.36133377 1.59575475 1.99543387 2.00715704\n",
      "  2.26026319]\n",
      " [1.30646493 1.37593798 1.21047626 1.2157232  1.21052789 1.72202999\n",
      "  1.54212046]\n",
      " [1.80910467 1.33901544 1.12413474 1.13967829 1.55181937 1.09017865\n",
      "  1.2364152 ]\n",
      " [0.79177756 1.51352932 1.04774397 1.00746874 0.92502138 1.08637765\n",
      "  0.98047695]\n",
      " [1.5393295  1.3974627  1.60412878 1.669671   1.27351837 1.55619162\n",
      "  1.35485894]\n",
      " [1.59855366 1.82623153 1.90558965 1.8743225  2.15475486 1.58990724\n",
      "  1.93793542]\n",
      " [0.75973943 0.85877217 0.78996382 0.70327152 0.86905642 0.80550482\n",
      "  0.66147128]\n",
      " [1.36332523 0.93321518 1.03187913 0.99290894 1.10204071 1.00448206\n",
      "  1.26510926]\n",
      " [1.4170712  1.09328922 1.00448713 1.58381611 1.14887605 1.47605908\n",
      "  1.16471585]\n",
      " [0.58396923 0.57331994 0.37266097 0.52142717 0.7802571  0.40680785\n",
      "  0.8393198 ]\n",
      " [1.55190507 2.10189745 1.70220559 1.28915888 1.61341255 1.39881892\n",
      "  1.4863793 ]\n",
      " [1.16630283 0.71450127 0.71419435 0.39549276 0.65132251 0.63384245\n",
      "  0.57169194]\n",
      " [0.60240848 0.         0.         0.         0.         0.\n",
      "  0.        ]\n",
      " [0.63535644 0.         0.         0.         0.         0.\n",
      "  0.        ]\n",
      " [0.96058247 0.72617539 0.52304301 0.7144724  0.59827413 0.88845881\n",
      "  0.64540089]\n",
      " [0.81544567 0.76858922 0.47867297 0.60921985 0.6469075  0.53641912\n",
      "  0.35880524]\n",
      " [1.26589147 1.13534462 1.65283576 1.1154081  0.85214892 0.9244768\n",
      "  0.9791038 ]\n",
      " [0.48182486 0.36735441 0.         0.         0.         0.\n",
      "  0.        ]\n",
      " [0.5196936  0.62437447 0.72594579 0.58969179 0.55521634 0.75554412\n",
      "  0.48901331]\n",
      " [0.3659642  0.         0.         0.         0.         0.\n",
      "  0.        ]\n",
      " [1.26838318 0.         0.         0.         0.         0.\n",
      "  0.        ]\n",
      " [0.         0.         0.         0.         0.         0.\n",
      "  0.4558165 ]\n",
      " [0.         0.         0.74201869 0.91096958 1.21563456 1.09067663\n",
      "  1.19635804]\n",
      " [0.         0.         0.         0.         0.33135107 0.24616831\n",
      "  0.29607564]\n",
      " [0.26578545 0.36130411 0.45505636 0.44986268 0.5772645  0.\n",
      "  0.        ]\n",
      " [0.         0.         0.         0.         0.         0.\n",
      "  0.56075748]\n",
      " [0.         0.         1.06985513 0.         0.         0.\n",
      "  0.        ]\n",
      " [0.         0.         0.         0.         0.         0.\n",
      "  0.        ]\n",
      " [0.         0.         0.         0.         0.         1.00602603\n",
      "  0.        ]]\n"
     ]
    },
    {
     "name": "stderr",
     "output_type": "stream",
     "text": [
      "TiffPages: failed to load virtual frames: page offsets not equidistant\n"
     ]
    },
    {
     "name": "stdout",
     "output_type": "stream",
     "text": [
      "Old version ignored 21 hq flags out of 259 synaptic observations\n",
      "Old version ignored 21 hq flags out of 259 synaptic observations\n"
     ]
    },
    {
     "name": "stderr",
     "output_type": "stream",
     "text": [
      "TiffPages: failed to load virtual frames: page offsets not equidistant\n"
     ]
    },
    {
     "name": "stdout",
     "output_type": "stream",
     "text": [
      "Old version ignored 21 hq flags out of 259 synaptic observations\n"
     ]
    },
    {
     "name": "stderr",
     "output_type": "stream",
     "text": [
      "TiffPages: failed to load virtual frames: page offsets not equidistant\n"
     ]
    },
    {
     "name": "stdout",
     "output_type": "stream",
     "text": [
      "Old version ignored 21 hq flags out of 259 synaptic observations\n"
     ]
    },
    {
     "name": "stderr",
     "output_type": "stream",
     "text": [
      "TiffPages: failed to load virtual frames: page offsets not equidistant\n"
     ]
    },
    {
     "name": "stdout",
     "output_type": "stream",
     "text": [
      "Old version ignored 21 hq flags out of 259 synaptic observations\n"
     ]
    },
    {
     "name": "stderr",
     "output_type": "stream",
     "text": [
      "TiffPages: failed to load virtual frames: page offsets not equidistant\n"
     ]
    },
    {
     "name": "stdout",
     "output_type": "stream",
     "text": [
      "Old version ignored 21 hq flags out of 259 synaptic observations\n"
     ]
    },
    {
     "name": "stderr",
     "output_type": "stream",
     "text": [
      "TiffPages: failed to load virtual frames: page offsets not equidistant\n"
     ]
    },
    {
     "name": "stdout",
     "output_type": "stream",
     "text": [
      "Old version ignored 21 hq flags out of 259 synaptic observations\n"
     ]
    },
    {
     "name": "stderr",
     "output_type": "stream",
     "text": [
      "TiffPages: failed to load virtual frames: page offsets not equidistant\n"
     ]
    },
    {
     "name": "stdout",
     "output_type": "stream",
     "text": [
      "Old version ignored 21 hq flags out of 259 synaptic observations\n",
      "Saving dendrite cq002\n",
      "Old version ignored 0 hq flags out of 259 synaptic observations\n",
      "Extracting dendrite cq004 [[2.64518395 2.18965651 2.01565046 1.74925908 1.93054451 1.37367786\n",
      "  1.43469888]\n",
      " [1.00427996 0.62875327 0.83399346 0.65595324 0.94674312 0.56322877\n",
      "  0.37907247]\n",
      " [0.87051036 1.12292315 0.98562845 1.11858816 0.82837004 0.63000559\n",
      "  0.72731034]\n",
      " [1.69827327 1.97603906 1.48272165 1.32518379 2.12379181 1.87457824\n",
      "  1.51895513]\n",
      " [0.88736016 1.18734485 1.01437155 0.88141184 1.04092913 1.28395951\n",
      "  1.10633941]\n",
      " [0.64924276 0.87707685 0.97334425 0.46938947 0.64149108 0.67262502\n",
      "  0.59354547]\n",
      " [1.38217753 0.86360074 2.02265641 1.31955995 1.55459456 1.49711557\n",
      "  1.09120413]\n",
      " [0.35559665 0.         0.         0.         0.         0.\n",
      "  0.        ]\n",
      " [1.10835989 0.86687949 0.64262152 0.6218202  0.95907087 0.71604049\n",
      "  0.90879587]]\n"
     ]
    },
    {
     "name": "stderr",
     "output_type": "stream",
     "text": [
      "TiffPages: failed to load virtual frames: page offsets not equidistant\n"
     ]
    },
    {
     "name": "stdout",
     "output_type": "stream",
     "text": [
      "Old version ignored 0 hq flags out of 259 synaptic observations\n",
      "Old version ignored 0 hq flags out of 259 synaptic observations\n"
     ]
    },
    {
     "name": "stderr",
     "output_type": "stream",
     "text": [
      "TiffPages: failed to load virtual frames: page offsets not equidistant\n"
     ]
    },
    {
     "name": "stdout",
     "output_type": "stream",
     "text": [
      "Old version ignored 0 hq flags out of 259 synaptic observations\n"
     ]
    },
    {
     "name": "stderr",
     "output_type": "stream",
     "text": [
      "TiffPages: failed to load virtual frames: page offsets not equidistant\n"
     ]
    },
    {
     "name": "stdout",
     "output_type": "stream",
     "text": [
      "Old version ignored 0 hq flags out of 259 synaptic observations\n"
     ]
    },
    {
     "name": "stderr",
     "output_type": "stream",
     "text": [
      "TiffPages: failed to load virtual frames: page offsets not equidistant\n"
     ]
    },
    {
     "name": "stdout",
     "output_type": "stream",
     "text": [
      "Old version ignored 0 hq flags out of 259 synaptic observations\n"
     ]
    },
    {
     "name": "stderr",
     "output_type": "stream",
     "text": [
      "TiffPages: failed to load virtual frames: page offsets not equidistant\n"
     ]
    },
    {
     "name": "stdout",
     "output_type": "stream",
     "text": [
      "Old version ignored 0 hq flags out of 259 synaptic observations\n"
     ]
    },
    {
     "name": "stderr",
     "output_type": "stream",
     "text": [
      "TiffPages: failed to load virtual frames: page offsets not equidistant\n"
     ]
    },
    {
     "name": "stdout",
     "output_type": "stream",
     "text": [
      "Old version ignored 0 hq flags out of 259 synaptic observations\n"
     ]
    },
    {
     "name": "stderr",
     "output_type": "stream",
     "text": [
      "TiffPages: failed to load virtual frames: page offsets not equidistant\n"
     ]
    },
    {
     "name": "stdout",
     "output_type": "stream",
     "text": [
      "Old version ignored 0 hq flags out of 259 synaptic observations\n",
      "Saving dendrite cq004\n",
      "Old version ignored 0 hq flags out of 210 synaptic observations\n",
      "Extracting dendrite cq006 [[1.03775844 1.21619847 0.99409576 1.04520764 0.90431388 0.58083643\n",
      "  1.1472336 ]\n",
      " [1.01438138 0.58828393 0.75705348 0.6426747  0.78264673 0.67654794\n",
      "  0.63764548]\n",
      " [0.5571187  0.36958054 0.3564327  0.6428994  0.64153821 0.42550801\n",
      "  0.3442782 ]\n",
      " [1.48426153 1.2410803  1.34162142 1.59570175 1.66165431 1.37770104\n",
      "  1.36324977]\n",
      " [1.18976352 0.83384589 1.0177824  1.25751182 1.76788706 1.54029026\n",
      "  2.08961999]\n",
      " [1.49195892 1.5383575  1.31600544 1.28440684 1.61213709 1.30370284\n",
      "  1.19068784]\n",
      " [2.02019768 1.64055665 1.34150978 1.13863504 1.26871777 1.12154129\n",
      "  0.6328715 ]\n",
      " [1.01807044 1.22910515 0.92778495 0.98488855 0.86530065 0.93799828\n",
      "  0.8423612 ]\n",
      " [0.47453808 0.52701152 0.51375719 0.72341092 0.56866634 0.24588677\n",
      "  0.55714509]\n",
      " [1.9554293  2.29903904 1.28884569 1.11489685 1.11489329 0.96617662\n",
      "  1.13399241]\n",
      " [1.415768   1.50738744 1.3262899  1.15236625 1.26737834 1.4008458\n",
      "  0.96315564]\n",
      " [0.6735507  0.93723662 1.06033689 0.88478235 0.96370412 1.27770423\n",
      "  0.65213203]\n",
      " [0.83184288 1.01271902 0.81171391 0.67089302 0.83486133 0.83574678\n",
      "  0.66538652]\n",
      " [0.91832836 0.80974814 1.14881517 0.94989182 1.32582846 1.18197312\n",
      "  1.20423483]\n",
      " [0.66838138 0.65458271 0.69356543 1.00702285 0.87722148 0.97428381\n",
      "  1.06049075]\n",
      " [0.         0.         0.         0.         0.68623111 0.\n",
      "  0.        ]\n",
      " [0.92978973 0.73786135 0.68786768 0.96288096 1.13986723 0.696984\n",
      "  1.34865167]]\n"
     ]
    },
    {
     "name": "stderr",
     "output_type": "stream",
     "text": [
      "TiffPages: failed to load virtual frames: page offsets not equidistant\n"
     ]
    },
    {
     "name": "stdout",
     "output_type": "stream",
     "text": [
      "Old version ignored 0 hq flags out of 210 synaptic observations\n",
      "Old version ignored 0 hq flags out of 210 synaptic observations\n"
     ]
    },
    {
     "name": "stderr",
     "output_type": "stream",
     "text": [
      "TiffPages: failed to load virtual frames: page offsets not equidistant\n"
     ]
    },
    {
     "name": "stdout",
     "output_type": "stream",
     "text": [
      "Old version ignored 0 hq flags out of 210 synaptic observations\n"
     ]
    },
    {
     "name": "stderr",
     "output_type": "stream",
     "text": [
      "TiffPages: failed to load virtual frames: page offsets not equidistant\n"
     ]
    },
    {
     "name": "stdout",
     "output_type": "stream",
     "text": [
      "Old version ignored 0 hq flags out of 210 synaptic observations\n"
     ]
    },
    {
     "name": "stderr",
     "output_type": "stream",
     "text": [
      "TiffPages: failed to load virtual frames: page offsets not equidistant\n"
     ]
    },
    {
     "name": "stdout",
     "output_type": "stream",
     "text": [
      "Old version ignored 0 hq flags out of 210 synaptic observations\n"
     ]
    },
    {
     "name": "stderr",
     "output_type": "stream",
     "text": [
      "TiffPages: failed to load virtual frames: page offsets not equidistant\n"
     ]
    },
    {
     "name": "stdout",
     "output_type": "stream",
     "text": [
      "Old version ignored 0 hq flags out of 210 synaptic observations\n"
     ]
    },
    {
     "name": "stderr",
     "output_type": "stream",
     "text": [
      "TiffPages: failed to load virtual frames: page offsets not equidistant\n"
     ]
    },
    {
     "name": "stdout",
     "output_type": "stream",
     "text": [
      "Old version ignored 0 hq flags out of 210 synaptic observations\n"
     ]
    },
    {
     "name": "stderr",
     "output_type": "stream",
     "text": [
      "TiffPages: failed to load virtual frames: page offsets not equidistant\n"
     ]
    },
    {
     "name": "stdout",
     "output_type": "stream",
     "text": [
      "Old version ignored 0 hq flags out of 210 synaptic observations\n",
      "Saving dendrite cq006\n",
      "Old version ignored 0 hq flags out of 259 synaptic observations\n",
      "Extracting dendrite cq011 [[0.64521028 0.6214179  0.72173002 0.86386228 1.06513645 0.99781903\n",
      "  0.84499486]\n",
      " [1.5506057  0.97587774 1.96304966 1.22744905 1.36312788 1.22356463\n",
      "  1.31579447]\n",
      " [0.86363803 1.15359953 1.17741113 1.11759878 0.5568155  0.7673793\n",
      "  0.70897018]\n",
      " [1.54529846 1.49841046 1.21051848 1.26675069 1.4816928  1.19772604\n",
      "  1.06720057]\n",
      " [1.20551143 1.09564117 1.37328812 0.90528671 1.3144342  1.0626757\n",
      "  1.06028381]\n",
      " [1.05901013 1.30475023 1.63450281 1.06570995 0.73493001 1.14826852\n",
      "  1.09417912]\n",
      " [0.         0.24285624 0.51817875 0.59362709 0.55836318 0.47713488\n",
      "  0.42360138]\n",
      " [2.26112562 2.28996236 1.82457702 2.20892371 2.80738579 2.02983076\n",
      "  2.38599641]\n",
      " [1.54942622 1.05890152 1.2085902  1.13035069 1.0766519  1.47204832\n",
      "  1.25449871]\n",
      " [0.81466718 0.71217057 0.75973857 0.83619944 0.63006416 0.79028651\n",
      "  0.67469827]\n",
      " [0.         0.37849046 0.45923494 0.4272422  0.62342407 0.\n",
      "  0.        ]\n",
      " [1.01891204 0.93133265 0.74900072 1.09081429 0.95612171 0.8689069\n",
      "  0.65587879]\n",
      " [1.0584398  1.17839142 1.20063179 1.41530034 1.86183117 1.08557147\n",
      "  1.3376284 ]\n",
      " [1.95983461 1.6698101  1.52325982 2.17428179 2.02255656 1.83544479\n",
      "  1.16642117]\n",
      " [0.70309366 0.98177695 0.85832626 0.93818906 0.97192135 0.86198568\n",
      "  0.78814112]\n",
      " [0.64409838 0.48782126 0.53572965 0.53938313 1.00682049 0.9850269\n",
      "  0.97512785]\n",
      " [0.43141023 0.58415468 0.57229744 0.53393911 0.63963218 0.59916545\n",
      "  1.05239291]\n",
      " [0.68312753 0.9834438  0.76363082 0.74210401 0.74908937 0.52785051\n",
      "  0.69471937]]\n"
     ]
    },
    {
     "name": "stderr",
     "output_type": "stream",
     "text": [
      "TiffPages: failed to load virtual frames: page offsets not equidistant\n"
     ]
    },
    {
     "name": "stdout",
     "output_type": "stream",
     "text": [
      "Old version ignored 0 hq flags out of 259 synaptic observations\n",
      "Old version ignored 0 hq flags out of 259 synaptic observations\n"
     ]
    },
    {
     "name": "stderr",
     "output_type": "stream",
     "text": [
      "TiffPages: failed to load virtual frames: page offsets not equidistant\n"
     ]
    },
    {
     "name": "stdout",
     "output_type": "stream",
     "text": [
      "Old version ignored 0 hq flags out of 259 synaptic observations\n"
     ]
    },
    {
     "name": "stderr",
     "output_type": "stream",
     "text": [
      "TiffPages: failed to load virtual frames: page offsets not equidistant\n"
     ]
    },
    {
     "name": "stdout",
     "output_type": "stream",
     "text": [
      "Old version ignored 0 hq flags out of 259 synaptic observations\n"
     ]
    },
    {
     "name": "stderr",
     "output_type": "stream",
     "text": [
      "TiffPages: failed to load virtual frames: page offsets not equidistant\n"
     ]
    },
    {
     "name": "stdout",
     "output_type": "stream",
     "text": [
      "Old version ignored 0 hq flags out of 259 synaptic observations\n"
     ]
    },
    {
     "name": "stderr",
     "output_type": "stream",
     "text": [
      "TiffPages: failed to load virtual frames: page offsets not equidistant\n"
     ]
    },
    {
     "name": "stdout",
     "output_type": "stream",
     "text": [
      "Old version ignored 0 hq flags out of 259 synaptic observations\n"
     ]
    },
    {
     "name": "stderr",
     "output_type": "stream",
     "text": [
      "TiffPages: failed to load virtual frames: page offsets not equidistant\n"
     ]
    },
    {
     "name": "stdout",
     "output_type": "stream",
     "text": [
      "Old version ignored 0 hq flags out of 259 synaptic observations\n"
     ]
    },
    {
     "name": "stderr",
     "output_type": "stream",
     "text": [
      "TiffPages: failed to load virtual frames: page offsets not equidistant\n"
     ]
    },
    {
     "name": "stdout",
     "output_type": "stream",
     "text": [
      "Old version ignored 0 hq flags out of 259 synaptic observations\n",
      "Saving dendrite cq011\n",
      "Old version ignored 6 hq flags out of 217 synaptic observations\n",
      "Extracting dendrite cr002 [[0.73815277 0.72480971 0.63850414 0.6374774  0.74200082 0.63032125\n",
      "  1.01003275]\n",
      " [1.13805726 0.82959467 1.77941304 1.05376238 1.7106723  1.50330299\n",
      "  1.11706887]\n",
      " [1.17990243 0.85412465 0.79881275 0.667668   0.81912487 1.01590478\n",
      "  1.00533207]\n",
      " [0.16071479 0.         0.         0.         0.         0.\n",
      "  0.        ]\n",
      " [1.1505253  0.89991407 0.99164948 1.19965227 1.44754518 1.87399857\n",
      "  1.20334667]\n",
      " [0.69506515 0.80244996 0.70666175 1.07266463 0.93738261 0.92744728\n",
      "  1.28461239]\n",
      " [0.62155586 0.33100316 0.39971186 0.54242939 0.21074989 0.\n",
      "  0.        ]\n",
      " [0.73010135 1.06075271 0.77382255 0.81967799 0.82661604 1.25966398\n",
      "  0.91368035]\n",
      " [0.70797771 0.91405207 0.67964257 0.81625972 0.97257909 1.3620459\n",
      "  1.01872738]\n",
      " [1.3764991  2.23536397 1.60778385 2.4390799  1.93293797 1.03558108\n",
      "  1.08270204]\n",
      " [0.91963925 1.09147677 1.72580947 1.41537267 1.04860258 1.10480066\n",
      "  1.19578727]\n",
      " [1.36131722 1.19650589 1.24944572 1.32052702 0.86724341 1.12739339\n",
      "  1.09637233]\n",
      " [0.70302278 1.05426102 0.74433918 0.82435408 1.36170727 0.71187998\n",
      "  0.70537069]\n",
      " [1.89223189 1.3696881  1.2959226  1.25484416 1.78110532 1.36361263\n",
      "  1.27808055]\n",
      " [1.19362094 1.58577627 1.40795636 1.24181848 0.93192224 0.9162662\n",
      "  0.89542139]\n",
      " [0.80521748 0.9852145  1.08497469 0.58119529 0.94338195 0.89336314\n",
      "  0.63254834]\n",
      " [1.59491947 1.21720854 1.84809277 1.19910077 1.73112814 1.30535671\n",
      "  1.05222744]\n",
      " [0.91830803 1.00689878 1.09216886 0.79873388 0.90803111 0.69943304\n",
      "  0.77209127]\n",
      " [1.22518019 0.77279708 0.61757526 0.85011813 1.026097   0.60591627\n",
      "  0.72648364]\n",
      " [1.00073386 1.03957363 1.03239423 1.2571192  0.90431241 0.69204175\n",
      "  0.89261062]\n",
      " [0.         0.         0.         0.         1.07195677 0.38006878\n",
      "  0.65885278]\n",
      " [0.87273631 0.6889761  0.66353148 0.82112392 1.31237133 0.75850595\n",
      "  0.70120369]\n",
      " [2.09173336 2.54439118 2.4549752  1.40814784 1.9652869  1.21868835\n",
      "  1.27867596]\n",
      " [2.39221398 1.15463623 1.34545329 1.36496752 1.50478831 1.19722096\n",
      "  1.33499771]\n",
      " [0.22936819 0.51312501 0.16706813 0.         0.         0.\n",
      "  0.        ]\n",
      " [0.         0.         0.         0.         0.67549572 0.53119129\n",
      "  0.87923218]]\n"
     ]
    },
    {
     "name": "stderr",
     "output_type": "stream",
     "text": [
      "TiffPages: failed to load virtual frames: page offsets not equidistant\n"
     ]
    },
    {
     "name": "stdout",
     "output_type": "stream",
     "text": [
      "Old version ignored 6 hq flags out of 217 synaptic observations\n",
      "Old version ignored 6 hq flags out of 217 synaptic observations\n"
     ]
    },
    {
     "name": "stderr",
     "output_type": "stream",
     "text": [
      "TiffPages: failed to load virtual frames: page offsets not equidistant\n"
     ]
    },
    {
     "name": "stdout",
     "output_type": "stream",
     "text": [
      "Old version ignored 6 hq flags out of 217 synaptic observations\n"
     ]
    },
    {
     "name": "stderr",
     "output_type": "stream",
     "text": [
      "TiffPages: failed to load virtual frames: page offsets not equidistant\n"
     ]
    },
    {
     "name": "stdout",
     "output_type": "stream",
     "text": [
      "Old version ignored 6 hq flags out of 217 synaptic observations\n"
     ]
    },
    {
     "name": "stderr",
     "output_type": "stream",
     "text": [
      "TiffPages: failed to load virtual frames: page offsets not equidistant\n"
     ]
    },
    {
     "name": "stdout",
     "output_type": "stream",
     "text": [
      "Old version ignored 6 hq flags out of 217 synaptic observations\n"
     ]
    },
    {
     "name": "stderr",
     "output_type": "stream",
     "text": [
      "TiffPages: failed to load virtual frames: page offsets not equidistant\n"
     ]
    },
    {
     "name": "stdout",
     "output_type": "stream",
     "text": [
      "Old version ignored 6 hq flags out of 217 synaptic observations\n"
     ]
    },
    {
     "name": "stderr",
     "output_type": "stream",
     "text": [
      "TiffPages: failed to load virtual frames: page offsets not equidistant\n"
     ]
    },
    {
     "name": "stdout",
     "output_type": "stream",
     "text": [
      "Old version ignored 6 hq flags out of 217 synaptic observations\n"
     ]
    },
    {
     "name": "stderr",
     "output_type": "stream",
     "text": [
      "TiffPages: failed to load virtual frames: page offsets not equidistant\n"
     ]
    },
    {
     "name": "stdout",
     "output_type": "stream",
     "text": [
      "Old version ignored 6 hq flags out of 217 synaptic observations\n",
      "Saving dendrite cr002\n",
      "Old version ignored 0 hq flags out of 322 synaptic observations\n",
      "Extracting dendrite cr004 [[2.62442272 2.51486852 1.91479922 2.409503   1.40956672 1.62832949\n",
      "  1.90261982]\n",
      " [0.88810793 0.90019846 0.80357276 0.74615783 0.8452886  0.90617525\n",
      "  0.6490827 ]\n",
      " [0.62563168 0.60876217 0.73093332 1.1067827  0.91073586 0.94529415\n",
      "  1.04122801]\n",
      " [1.53170809 1.31022501 1.27242281 2.2575861  1.31700326 1.85701419\n",
      "  1.45859855]\n",
      " [1.00394627 0.71844421 0.43408889 0.84070668 0.45173788 0.54453925\n",
      "  0.58472796]\n",
      " [0.52142977 1.11893683 0.98796884 0.75403439 1.05709601 1.03431969\n",
      "  1.22390887]\n",
      " [0.75565678 0.         0.         0.         0.         0.\n",
      "  0.        ]\n",
      " [1.27767705 1.19237774 1.16487126 1.71412272 1.14230332 0.9923922\n",
      "  0.71381551]\n",
      " [1.23039253 1.36803758 1.34873435 1.62168982 1.75923748 1.75572888\n",
      "  1.4891568 ]\n",
      " [0.74014985 0.79800825 1.01482208 0.59916837 0.38235089 0.42578119\n",
      "  0.84618612]\n",
      " [1.1079458  0.78563977 0.83233783 0.83770119 1.03216813 0.97328811\n",
      "  1.01249415]\n",
      " [1.51597807 1.18285646 1.37532144 1.42401401 1.13622189 1.47904069\n",
      "  1.23227299]\n",
      " [0.56747466 0.69626485 0.73450731 1.05251062 0.7466846  1.13726178\n",
      "  0.94627784]\n",
      " [0.         0.         0.         0.1997252  0.19617544 0.36298055\n",
      "  0.40854099]]\n"
     ]
    },
    {
     "name": "stderr",
     "output_type": "stream",
     "text": [
      "TiffPages: failed to load virtual frames: page offsets not equidistant\n"
     ]
    },
    {
     "name": "stdout",
     "output_type": "stream",
     "text": [
      "Old version ignored 0 hq flags out of 322 synaptic observations\n",
      "Old version ignored 0 hq flags out of 322 synaptic observations\n"
     ]
    },
    {
     "name": "stderr",
     "output_type": "stream",
     "text": [
      "TiffPages: failed to load virtual frames: page offsets not equidistant\n"
     ]
    },
    {
     "name": "stdout",
     "output_type": "stream",
     "text": [
      "Old version ignored 0 hq flags out of 322 synaptic observations\n"
     ]
    },
    {
     "name": "stderr",
     "output_type": "stream",
     "text": [
      "TiffPages: failed to load virtual frames: page offsets not equidistant\n"
     ]
    },
    {
     "name": "stdout",
     "output_type": "stream",
     "text": [
      "Old version ignored 0 hq flags out of 322 synaptic observations\n"
     ]
    },
    {
     "name": "stderr",
     "output_type": "stream",
     "text": [
      "TiffPages: failed to load virtual frames: page offsets not equidistant\n"
     ]
    },
    {
     "name": "stdout",
     "output_type": "stream",
     "text": [
      "Old version ignored 0 hq flags out of 322 synaptic observations\n"
     ]
    },
    {
     "name": "stderr",
     "output_type": "stream",
     "text": [
      "TiffPages: failed to load virtual frames: page offsets not equidistant\n"
     ]
    },
    {
     "name": "stdout",
     "output_type": "stream",
     "text": [
      "Old version ignored 0 hq flags out of 322 synaptic observations\n"
     ]
    },
    {
     "name": "stderr",
     "output_type": "stream",
     "text": [
      "TiffPages: failed to load virtual frames: page offsets not equidistant\n"
     ]
    },
    {
     "name": "stdout",
     "output_type": "stream",
     "text": [
      "Old version ignored 0 hq flags out of 322 synaptic observations\n"
     ]
    },
    {
     "name": "stderr",
     "output_type": "stream",
     "text": [
      "TiffPages: failed to load virtual frames: page offsets not equidistant\n"
     ]
    },
    {
     "name": "stdout",
     "output_type": "stream",
     "text": [
      "Old version ignored 0 hq flags out of 322 synaptic observations\n",
      "Saving dendrite cr004\n",
      "Old version ignored 0 hq flags out of 304 synaptic observations\n",
      "Extracting dendrite cv003 [[2.36800143 2.61048962 2.4939908  1.76358605 2.51983563 1.81398078\n",
      "  1.89357173]\n",
      " [1.14332548 1.19644074 1.46335638 1.41451418 1.19162289 1.09550532\n",
      "  0.73619497]\n",
      " [2.92482901 2.58661307 2.32854436 1.99687304 1.95773295 1.35333644\n",
      "  2.21265828]\n",
      " [1.71395956 1.36352318 1.58946634 1.60423673 1.55165957 1.10476246\n",
      "  1.66955522]\n",
      " [1.55729778 1.48514203 1.25136013 1.5266179  1.15822639 0.74430726\n",
      "  1.11157947]\n",
      " [0.738113   0.73663654 0.76579896 1.04289191 0.78665183 0.53065529\n",
      "  0.57630248]\n",
      " [2.58257184 2.18780011 2.05796065 2.02240248 1.34513278 1.05747595\n",
      "  1.7306495 ]\n",
      " [1.57842204 1.56921155 2.42221177 1.51252243 1.82248017 1.47614747\n",
      "  2.34046021]\n",
      " [1.72804982 1.34541821 1.64662609 1.43018554 1.19333182 1.38988201\n",
      "  1.40076597]\n",
      " [1.26298922 0.82621743 1.08033189 1.13093157 1.54750454 1.5573446\n",
      "  1.42250816]\n",
      " [1.10878644 0.89891394 1.46184294 1.26984058 1.25061221 1.10592404\n",
      "  1.05658217]\n",
      " [0.70761123 0.98177101 0.80054213 1.07969582 0.78669314 1.98516932\n",
      "  1.11386967]\n",
      " [0.51196504 0.45732415 0.7180368  0.66357583 0.40289118 0.58049611\n",
      "  0.63660887]\n",
      " [0.4472668  0.42699339 0.43497194 0.37984313 0.33915445 0.43535135\n",
      "  0.4743368 ]\n",
      " [0.95532658 0.82558322 0.61954246 0.76912085 0.69819681 1.09160129\n",
      "  0.93044861]\n",
      " [0.56066251 0.57949794 0.73331297 0.378778   0.48671786 0.72090228\n",
      "  1.00704783]\n",
      " [1.1188128  1.04450659 0.8979976  1.17019441 0.66063669 1.05213056\n",
      "  1.06979837]\n",
      " [0.63652234 0.7578949  0.82269099 0.74248961 0.66396698 1.06328411\n",
      "  0.6957609 ]\n",
      " [0.42736158 0.41678183 0.46384987 0.30294305 0.58297281 0.55074192\n",
      "  0.4358135 ]\n",
      " [0.85280984 1.15743703 0.98090497 1.17369696 0.98014198 1.0587428\n",
      "  1.30422703]\n",
      " [0.62872965 0.87248104 0.76036065 0.87063052 0.62456123 0.98085994\n",
      "  0.67284407]\n",
      " [0.78017922 1.09240006 0.99871822 0.7329731  0.74352142 0.87350825\n",
      "  0.90779021]\n",
      " [1.14122636 1.15260952 1.22472543 1.31026012 1.03455864 0.89740428\n",
      "  0.87246126]\n",
      " [0.76142022 1.06346567 0.92928034 0.66194604 0.89048607 0.83399115\n",
      "  0.88853288]\n",
      " [1.11223213 1.25825892 1.16047245 1.32803233 1.28885529 1.16610649\n",
      "  0.91180963]\n",
      " [0.92017537 1.07404853 1.07176642 0.97301325 0.9943137  0.75354747\n",
      "  0.84172507]\n",
      " [0.97786149 0.76915334 0.49052661 0.61584407 0.7284293  0.74381802\n",
      "  0.64287228]\n",
      " [0.         0.         0.         0.94042369 1.14119985 1.23127565\n",
      "  1.15560334]\n",
      " [0.88257696 0.74732558 1.12266776 0.90437871 0.80703702 0.603783\n",
      "  1.03773233]\n",
      " [1.17080041 1.52824824 1.64997661 1.42674256 1.37693385 1.40798157\n",
      "  1.53154034]\n",
      " [0.85816312 0.66384379 0.9183328  1.0121128  1.1517288  0.59401839\n",
      "  1.07879085]\n",
      " [1.10258771 1.26899132 1.13953922 0.87539719 1.15270086 0.84236814\n",
      "  0.68664585]\n",
      " [0.63692313 0.80193644 0.72390434 0.82606549 0.5397052  0.\n",
      "  0.        ]\n",
      " [0.         0.         0.64049262 0.999488   1.09138514 1.01515854\n",
      "  1.14700092]\n",
      " [0.31079032 0.53846418 0.30132653 0.87637298 0.48580453 0.43716076\n",
      "  0.47582946]\n",
      " [0.         0.39074964 0.48800503 0.73892305 0.66347508 0.87494383\n",
      "  0.35160791]\n",
      " [1.73231598 1.93779526 2.21706968 1.69597487 2.15650692 1.83096362\n",
      "  1.91406426]\n",
      " [1.31372758 1.14619573 1.56467089 0.87357029 1.46915934 2.03457487\n",
      "  1.54293755]\n",
      " [0.94045332 0.46574742 0.52954224 0.91706425 0.90914881 0.\n",
      "  0.        ]\n",
      " [0.         0.         0.         0.         0.         0.\n",
      "  0.49117556]]\n"
     ]
    },
    {
     "name": "stderr",
     "output_type": "stream",
     "text": [
      "TiffPages: failed to load virtual frames: page offsets not equidistant\n"
     ]
    },
    {
     "name": "stdout",
     "output_type": "stream",
     "text": [
      "Old version ignored 0 hq flags out of 304 synaptic observations\n",
      "Old version ignored 0 hq flags out of 304 synaptic observations\n"
     ]
    },
    {
     "name": "stderr",
     "output_type": "stream",
     "text": [
      "TiffPages: failed to load virtual frames: page offsets not equidistant\n"
     ]
    },
    {
     "name": "stdout",
     "output_type": "stream",
     "text": [
      "Old version ignored 0 hq flags out of 304 synaptic observations\n"
     ]
    },
    {
     "name": "stderr",
     "output_type": "stream",
     "text": [
      "TiffPages: failed to load virtual frames: page offsets not equidistant\n"
     ]
    },
    {
     "name": "stdout",
     "output_type": "stream",
     "text": [
      "Old version ignored 0 hq flags out of 304 synaptic observations\n"
     ]
    },
    {
     "name": "stderr",
     "output_type": "stream",
     "text": [
      "TiffPages: failed to load virtual frames: page offsets not equidistant\n"
     ]
    },
    {
     "name": "stdout",
     "output_type": "stream",
     "text": [
      "Old version ignored 0 hq flags out of 304 synaptic observations\n"
     ]
    },
    {
     "name": "stderr",
     "output_type": "stream",
     "text": [
      "TiffPages: failed to load virtual frames: page offsets not equidistant\n"
     ]
    },
    {
     "name": "stdout",
     "output_type": "stream",
     "text": [
      "Old version ignored 0 hq flags out of 304 synaptic observations\n"
     ]
    },
    {
     "name": "stderr",
     "output_type": "stream",
     "text": [
      "TiffPages: failed to load virtual frames: page offsets not equidistant\n"
     ]
    },
    {
     "name": "stdout",
     "output_type": "stream",
     "text": [
      "Old version ignored 0 hq flags out of 304 synaptic observations\n"
     ]
    },
    {
     "name": "stderr",
     "output_type": "stream",
     "text": [
      "TiffPages: failed to load virtual frames: page offsets not equidistant\n"
     ]
    },
    {
     "name": "stdout",
     "output_type": "stream",
     "text": [
      "Old version ignored 0 hq flags out of 304 synaptic observations\n"
     ]
    },
    {
     "name": "stderr",
     "output_type": "stream",
     "text": [
      "TiffPages: failed to load virtual frames: page offsets not equidistant\n"
     ]
    },
    {
     "name": "stdout",
     "output_type": "stream",
     "text": [
      "Old version ignored 0 hq flags out of 304 synaptic observations\n",
      "Saving dendrite cv003\n",
      "Old version ignored 20 hq flags out of 312 synaptic observations\n",
      "Extracting dendrite cv006 [[1.87336927 2.0654373  2.14511504 1.4813192  2.03668703 0.77459241\n",
      "  1.67888955 1.9521368 ]\n",
      " [0.         0.         0.         0.         0.         0.64470173\n",
      "  0.94905582 0.85550896]\n",
      " [1.20239083 1.20905862 1.3368551  0.94847887 0.9743001  0.8130184\n",
      "  1.00739145 1.07540475]\n",
      " [1.18108795 1.20319551 1.1334487  1.36568283 1.44312653 1.41440397\n",
      "  1.56496324 1.3261928 ]\n",
      " [0.66444449 0.74930677 0.86837238 0.79988286 1.0522834  0.80650484\n",
      "  0.69293798 0.93157978]\n",
      " [1.48525944 2.52699401 1.86829405 1.87732568 1.96504442 1.24298878\n",
      "  1.69996823 2.03821992]\n",
      " [1.78977026 2.12730039 1.91250029 2.0424148  2.22628802 1.64491437\n",
      "  1.92845284 2.18092106]\n",
      " [1.75510681 2.18515664 1.61428619 1.45398313 1.61884827 1.21852325\n",
      "  1.49769965 1.69957714]\n",
      " [1.72050802 2.36362354 1.73181919 1.90491035 2.11496794 1.50790017\n",
      "  1.65627462 1.90055635]\n",
      " [0.59474512 0.7981031  0.71997157 0.85731107 0.79933917 0.81899219\n",
      "  0.80560445 0.82658557]\n",
      " [1.02289084 1.02153242 0.75837144 0.74908542 0.87786348 1.01091966\n",
      "  0.9659098  0.94407127]\n",
      " [0.88443396 0.9575342  1.11234417 1.15870234 0.98678244 1.08007347\n",
      "  0.91639383 1.16178774]\n",
      " [0.68447736 0.94384477 1.00312907 0.69259904 0.65465561 0.68067188\n",
      "  0.613484   0.84558462]\n",
      " [0.7010711  0.85259945 1.05279743 1.28723368 1.21908997 1.2682062\n",
      "  1.02393535 1.24295048]\n",
      " [0.56369274 0.77618462 0.94693485 1.04713353 0.84769575 1.33873287\n",
      "  1.61024391 1.4101424 ]\n",
      " [1.04988077 1.22372141 1.02246949 1.16504296 0.96050098 0.99792969\n",
      "  1.41625723 1.02968252]\n",
      " [0.61186083 0.62115698 0.43953057 0.60645077 0.78785428 0.75749724\n",
      "  0.63830976 0.69901308]\n",
      " [0.76789563 0.79489436 0.77100358 0.52886405 0.85311517 0.87356175\n",
      "  0.72370101 0.85747394]\n",
      " [0.92922036 1.07273169 0.80814094 0.96702208 1.00686514 1.69871945\n",
      "  1.09143551 0.8313199 ]\n",
      " [1.01343897 0.96325279 0.74205687 0.87866318 1.13820186 1.29873331\n",
      "  0.80430928 0.72684246]\n",
      " [0.98456906 0.9849489  0.49288496 0.76485833 0.90768279 0.73523756\n",
      "  0.96227207 0.5444424 ]\n",
      " [1.40797652 0.90073674 0.97466915 0.77118683 0.97976892 0.77667963\n",
      "  0.91236522 0.64913552]]\n"
     ]
    },
    {
     "name": "stderr",
     "output_type": "stream",
     "text": [
      "TiffPages: failed to load virtual frames: page offsets not equidistant\n"
     ]
    },
    {
     "name": "stdout",
     "output_type": "stream",
     "text": [
      "Old version ignored 20 hq flags out of 312 synaptic observations\n",
      "Old version ignored 20 hq flags out of 312 synaptic observations\n"
     ]
    },
    {
     "name": "stderr",
     "output_type": "stream",
     "text": [
      "TiffPages: failed to load virtual frames: page offsets not equidistant\n"
     ]
    },
    {
     "name": "stdout",
     "output_type": "stream",
     "text": [
      "Old version ignored 20 hq flags out of 312 synaptic observations\n"
     ]
    },
    {
     "name": "stderr",
     "output_type": "stream",
     "text": [
      "TiffPages: failed to load virtual frames: page offsets not equidistant\n"
     ]
    },
    {
     "name": "stdout",
     "output_type": "stream",
     "text": [
      "Old version ignored 20 hq flags out of 312 synaptic observations\n"
     ]
    },
    {
     "name": "stderr",
     "output_type": "stream",
     "text": [
      "TiffPages: failed to load virtual frames: page offsets not equidistant\n"
     ]
    },
    {
     "name": "stdout",
     "output_type": "stream",
     "text": [
      "Old version ignored 20 hq flags out of 312 synaptic observations\n"
     ]
    },
    {
     "name": "stderr",
     "output_type": "stream",
     "text": [
      "TiffPages: failed to load virtual frames: page offsets not equidistant\n"
     ]
    },
    {
     "name": "stdout",
     "output_type": "stream",
     "text": [
      "Old version ignored 20 hq flags out of 312 synaptic observations\n"
     ]
    },
    {
     "name": "stderr",
     "output_type": "stream",
     "text": [
      "TiffPages: failed to load virtual frames: page offsets not equidistant\n"
     ]
    },
    {
     "name": "stdout",
     "output_type": "stream",
     "text": [
      "Old version ignored 20 hq flags out of 312 synaptic observations\n"
     ]
    },
    {
     "name": "stderr",
     "output_type": "stream",
     "text": [
      "TiffPages: failed to load virtual frames: page offsets not equidistant\n"
     ]
    },
    {
     "name": "stdout",
     "output_type": "stream",
     "text": [
      "Old version ignored 20 hq flags out of 312 synaptic observations\n"
     ]
    },
    {
     "name": "stderr",
     "output_type": "stream",
     "text": [
      "TiffPages: failed to load virtual frames: page offsets not equidistant\n"
     ]
    },
    {
     "name": "stdout",
     "output_type": "stream",
     "text": [
      "Old version ignored 20 hq flags out of 312 synaptic observations\n",
      "Saving dendrite cv006\n",
      "Old version ignored 0 hq flags out of 272 synaptic observations\n",
      "Extracting dendrite cv007 [[1.00022697 1.18355882 1.34414646 1.30166866 1.0519588  0.94743404\n",
      "  1.16114576 1.07393366]\n",
      " [1.2748425  1.38921545 0.84560111 1.20229138 1.0361656  0.95657888\n",
      "  1.10230131 1.04550762]\n",
      " [0.98549259 0.79531391 0.76904825 0.81414023 0.93542354 1.1451086\n",
      "  1.13103582 0.89902207]\n",
      " [1.72511862 1.78264009 1.72437408 1.56643775 1.3633475  2.00502339\n",
      "  1.25322761 1.4398258 ]\n",
      " [1.18122306 0.91094015 1.09609091 1.03882545 0.65486313 1.19776397\n",
      "  0.7648325  0.84235809]\n",
      " [0.86738536 0.73422448 1.1127333  0.73289978 0.49822257 0.93764308\n",
      "  0.57271209 0.86856879]\n",
      " [0.55753993 0.73203869 0.74403611 0.8986003  0.76969947 0.81179073\n",
      "  0.56589921 0.87138468]\n",
      " [1.36314922 1.66519746 1.19528941 1.65246881 1.66688712 1.03575935\n",
      "  1.23641859 1.07131444]\n",
      " [0.85018367 1.22449682 1.42872961 1.19555162 1.48818853 0.94681095\n",
      "  1.03963502 0.96308376]\n",
      " [0.76521368 0.96205337 0.69520918 0.82990336 0.96232802 0.52006141\n",
      "  0.82189367 1.02681438]\n",
      " [0.84177607 0.77589059 0.55812091 0.75192476 0.87042486 0.6596387\n",
      "  0.48123338 0.71165442]\n",
      " [1.67686035 1.466648   1.21902427 1.44978533 1.62376241 1.11623939\n",
      "  1.02733344 1.13330214]\n",
      " [1.27726085 1.87868718 1.08021586 1.54300309 1.96304602 1.28992717\n",
      "  1.68566734 1.56420766]\n",
      " [1.06886108 0.98478128 0.65061736 0.6422604  0.88890801 0.67671336\n",
      "  0.88965672 0.76469165]\n",
      " [0.74296941 0.73335238 0.75107708 0.42811715 0.68469446 0.86075745\n",
      "  0.81474614 0.70254775]\n",
      " [0.55968004 0.78225263 0.56649478 0.44769692 0.60601439 0.79143733\n",
      "  0.52101837 0.59145674]\n",
      " [1.18078609 0.95729432 0.80923546 0.94034872 0.99900013 0.88425761\n",
      "  0.8730963  1.18112721]\n",
      " [0.56806732 0.70240894 0.88461045 0.90136067 1.00993844 0.95248105\n",
      "  1.129008   1.15746267]\n",
      " [1.74089622 1.53845698 1.4863567  1.23472775 1.17519221 1.89519316\n",
      "  1.01934098 0.96498678]\n",
      " [1.56525619 1.5349149  1.27130389 1.3382571  0.82661375 1.43251019\n",
      "  1.30186318 1.43741467]\n",
      " [2.78568525 2.48476029 2.09556911 1.88541948 2.34703291 2.24019685\n",
      "  2.68380983 2.02895857]\n",
      " [0.89724791 1.00137206 0.5507004  0.52959088 1.00518548 1.18624671\n",
      "  0.59911342 0.75528609]\n",
      " [1.46873754 1.41264395 1.16937547 0.70369966 1.16473864 1.0350235\n",
      "  1.03735435 0.92829303]\n",
      " [0.74229218 0.73073407 1.0823785  1.12742609 1.29918735 0.95200557\n",
      "  0.98385956 1.35033769]\n",
      " [1.75199942 1.69877328 1.47220885 1.53065274 1.59905363 1.64718721\n",
      "  1.48898909 1.6761207 ]\n",
      " [0.         0.         0.         0.         0.76575975 1.652691\n",
      "  0.89247665 0.        ]\n",
      " [0.73395151 0.         0.         0.         0.         0.\n",
      "  0.         0.        ]\n",
      " [0.         0.         1.01110317 1.09343876 1.69004385 1.01466084\n",
      "  1.10473449 0.        ]\n",
      " [0.40647591 0.59865401 0.48370011 0.         0.         0.\n",
      "  0.         0.        ]\n",
      " [0.         0.         0.         0.         0.50742331 0.49646066\n",
      "  0.         0.        ]\n",
      " [0.71551171 0.79198596 0.52626277 0.49349951 0.60282141 1.05349081\n",
      "  0.         0.        ]\n",
      " [0.         0.         0.         0.         0.         0.\n",
      "  0.         0.57032691]]\n"
     ]
    },
    {
     "name": "stderr",
     "output_type": "stream",
     "text": [
      "TiffPages: failed to load virtual frames: page offsets not equidistant\n"
     ]
    },
    {
     "name": "stdout",
     "output_type": "stream",
     "text": [
      "Old version ignored 0 hq flags out of 272 synaptic observations\n",
      "Old version ignored 0 hq flags out of 272 synaptic observations\n"
     ]
    },
    {
     "name": "stderr",
     "output_type": "stream",
     "text": [
      "TiffPages: failed to load virtual frames: page offsets not equidistant\n"
     ]
    },
    {
     "name": "stdout",
     "output_type": "stream",
     "text": [
      "Old version ignored 0 hq flags out of 272 synaptic observations\n"
     ]
    },
    {
     "name": "stderr",
     "output_type": "stream",
     "text": [
      "TiffPages: failed to load virtual frames: page offsets not equidistant\n"
     ]
    },
    {
     "name": "stdout",
     "output_type": "stream",
     "text": [
      "Old version ignored 0 hq flags out of 272 synaptic observations\n"
     ]
    },
    {
     "name": "stderr",
     "output_type": "stream",
     "text": [
      "TiffPages: failed to load virtual frames: page offsets not equidistant\n"
     ]
    },
    {
     "name": "stdout",
     "output_type": "stream",
     "text": [
      "Old version ignored 0 hq flags out of 272 synaptic observations\n"
     ]
    },
    {
     "name": "stderr",
     "output_type": "stream",
     "text": [
      "TiffPages: failed to load virtual frames: page offsets not equidistant\n"
     ]
    },
    {
     "name": "stdout",
     "output_type": "stream",
     "text": [
      "Old version ignored 0 hq flags out of 272 synaptic observations\n"
     ]
    },
    {
     "name": "stderr",
     "output_type": "stream",
     "text": [
      "TiffPages: failed to load virtual frames: page offsets not equidistant\n"
     ]
    },
    {
     "name": "stdout",
     "output_type": "stream",
     "text": [
      "Old version ignored 0 hq flags out of 272 synaptic observations\n"
     ]
    },
    {
     "name": "stderr",
     "output_type": "stream",
     "text": [
      "TiffPages: failed to load virtual frames: page offsets not equidistant\n"
     ]
    },
    {
     "name": "stdout",
     "output_type": "stream",
     "text": [
      "Old version ignored 0 hq flags out of 272 synaptic observations\n"
     ]
    },
    {
     "name": "stderr",
     "output_type": "stream",
     "text": [
      "TiffPages: failed to load virtual frames: page offsets not equidistant\n"
     ]
    },
    {
     "name": "stdout",
     "output_type": "stream",
     "text": [
      "Old version ignored 0 hq flags out of 272 synaptic observations\n",
      "Saving dendrite cv007\n",
      "Old version ignored 21 hq flags out of 296 synaptic observations\n",
      "Extracting dendrite cv009 [[1.77124934 1.72839122 1.25008137 1.05557798 0.93141564 1.06899931\n",
      "  1.13290675 1.14229991]\n",
      " [1.15091208 0.785754   1.02155511 0.60108815 0.65588573 0.74330977\n",
      "  0.89031124 0.78315649]\n",
      " [1.25035454 0.88012428 0.96322988 0.82122549 0.74705542 1.0082922\n",
      "  0.72790103 0.70094997]\n",
      " [3.00577053 2.49901512 2.24655588 2.14972879 2.4501914  2.61829229\n",
      "  2.45079134 2.46789847]\n",
      " [1.11207942 2.10158799 2.61045289 2.76388627 2.07493994 2.94376033\n",
      "  3.07457578 2.53417986]\n",
      " [1.16226537 1.25341748 1.16367903 1.18411179 1.43443051 1.6064957\n",
      "  1.39015558 1.20172487]\n",
      " [0.84089811 1.01720902 0.95941428 1.11488532 1.04664272 0.93334934\n",
      "  1.23974107 1.20484279]\n",
      " [0.68421256 1.07880284 0.82426208 0.69660802 1.03875019 0.90261462\n",
      "  0.85337111 0.79354003]\n",
      " [1.0321339  0.9759098  0.7167205  1.13482421 0.93953127 1.08674453\n",
      "  1.06047638 1.0888785 ]\n",
      " [0.58117463 0.92807834 0.60065518 0.57006787 0.87262037 0.62757941\n",
      "  0.58128638 0.75685688]\n",
      " [1.05479591 0.91654807 0.9342547  0.873487   1.3160488  1.30872807\n",
      "  1.06293452 1.19088682]\n",
      " [0.77097643 0.80457279 0.76628488 1.2245868  0.98687331 0.79568609\n",
      "  0.52392354 0.77189346]\n",
      " [1.92922267 2.05848213 2.11418578 1.73838571 1.84027677 2.09510589\n",
      "  2.0382191  1.8708009 ]\n",
      " [1.605093   1.80606233 1.92024711 2.06358316 1.93471441 1.74484903\n",
      "  1.83609356 1.73343427]\n",
      " [1.07217208 1.63745551 1.05580073 1.87088747 1.79785635 1.7375749\n",
      "  1.24020796 1.39933249]\n",
      " [0.42384967 0.39583721 0.60933257 0.50201391 0.98820251 0.55066822\n",
      "  0.74627076 0.34034035]\n",
      " [0.54677896 0.69876167 1.19973179 0.35645685 0.86335904 0.45296195\n",
      "  0.56652059 0.97528156]\n",
      " [0.31203636 0.         0.         0.         0.         0.\n",
      "  0.         0.        ]\n",
      " [0.47748455 0.         0.         0.         0.         0.\n",
      "  0.         0.        ]\n",
      " [0.         0.         0.         0.21978399 0.44299379 0.55667964\n",
      "  0.51850964 0.5953563 ]\n",
      " [0.         0.         0.         0.         0.         0.\n",
      "  0.         0.42836   ]\n",
      " [0.60582544 0.6306979  0.46270167 0.45252177 0.52833728 0.2575777\n",
      "  0.         0.        ]\n",
      " [0.         0.         0.         0.         0.         0.\n",
      "  0.         0.23748834]]\n"
     ]
    },
    {
     "name": "stderr",
     "output_type": "stream",
     "text": [
      "TiffPages: failed to load virtual frames: page offsets not equidistant\n"
     ]
    },
    {
     "name": "stdout",
     "output_type": "stream",
     "text": [
      "Old version ignored 21 hq flags out of 296 synaptic observations\n",
      "Old version ignored 21 hq flags out of 296 synaptic observations\n"
     ]
    },
    {
     "name": "stderr",
     "output_type": "stream",
     "text": [
      "TiffPages: failed to load virtual frames: page offsets not equidistant\n"
     ]
    },
    {
     "name": "stdout",
     "output_type": "stream",
     "text": [
      "Old version ignored 21 hq flags out of 296 synaptic observations\n"
     ]
    },
    {
     "name": "stderr",
     "output_type": "stream",
     "text": [
      "TiffPages: failed to load virtual frames: page offsets not equidistant\n"
     ]
    },
    {
     "name": "stdout",
     "output_type": "stream",
     "text": [
      "Old version ignored 21 hq flags out of 296 synaptic observations\n"
     ]
    },
    {
     "name": "stderr",
     "output_type": "stream",
     "text": [
      "TiffPages: failed to load virtual frames: page offsets not equidistant\n"
     ]
    },
    {
     "name": "stdout",
     "output_type": "stream",
     "text": [
      "Old version ignored 21 hq flags out of 296 synaptic observations\n"
     ]
    },
    {
     "name": "stderr",
     "output_type": "stream",
     "text": [
      "TiffPages: failed to load virtual frames: page offsets not equidistant\n"
     ]
    },
    {
     "name": "stdout",
     "output_type": "stream",
     "text": [
      "Old version ignored 21 hq flags out of 296 synaptic observations\n"
     ]
    },
    {
     "name": "stderr",
     "output_type": "stream",
     "text": [
      "TiffPages: failed to load virtual frames: page offsets not equidistant\n"
     ]
    },
    {
     "name": "stdout",
     "output_type": "stream",
     "text": [
      "Old version ignored 21 hq flags out of 296 synaptic observations\n"
     ]
    },
    {
     "name": "stderr",
     "output_type": "stream",
     "text": [
      "TiffPages: failed to load virtual frames: page offsets not equidistant\n"
     ]
    },
    {
     "name": "stdout",
     "output_type": "stream",
     "text": [
      "Old version ignored 21 hq flags out of 296 synaptic observations\n"
     ]
    },
    {
     "name": "stderr",
     "output_type": "stream",
     "text": [
      "TiffPages: failed to load virtual frames: page offsets not equidistant\n"
     ]
    },
    {
     "name": "stdout",
     "output_type": "stream",
     "text": [
      "Old version ignored 21 hq flags out of 296 synaptic observations\n",
      "Saving dendrite cv009\n",
      "Old version ignored 20 hq flags out of 344 synaptic observations\n",
      "Extracting dendrite cv011 [[0.66642748 0.83440096 1.09070332 0.83605538 0.94233147 1.00875676\n",
      "  0.65714218 0.94944518]\n",
      " [1.23540051 0.84371034 1.09229792 0.90203059 0.86705701 0.76954378\n",
      "  1.19871053 0.91784839]\n",
      " [1.16039697 1.19216439 1.59299599 1.31851136 1.08953603 0.72503444\n",
      "  0.76077127 1.32471154]\n",
      " [0.52464333 0.75149732 0.5535155  0.83793333 0.97313474 1.00346676\n",
      "  0.67148304 0.60467727]\n",
      " [0.95966631 1.04487961 0.77823669 1.05938378 1.06861314 0.81479509\n",
      "  1.08275016 0.91124772]\n",
      " [0.69127801 0.94425314 0.83102688 0.75180177 0.81272601 0.8855229\n",
      "  0.67792495 0.64081021]\n",
      " [1.76008787 2.00305098 1.74397844 1.71807193 1.37585796 1.86211861\n",
      "  1.96969018 2.13710696]\n",
      " [1.87171596 2.66724547 2.2803277  2.27609422 2.38159246 3.02866684\n",
      "  2.41464007 2.78413003]\n",
      " [0.4809975  0.77899772 0.88870339 0.91491368 1.03878547 0.98777648\n",
      "  1.03554027 0.75916271]\n",
      " [0.87993672 0.50345046 0.52779043 0.66910326 0.52276831 0.82566756\n",
      "  0.99954552 0.73490344]\n",
      " [1.55770087 2.48738039 2.74590433 2.48164387 2.43107831 2.31200484\n",
      "  2.26213205 2.86662747]\n",
      " [1.17859843 1.5603982  1.85847327 1.71517934 1.29788142 1.94628552\n",
      "  1.89983987 1.86465738]\n",
      " [0.74932582 0.78861363 0.88785762 0.91678015 0.8754803  1.01404578\n",
      "  0.96491421 1.13270643]\n",
      " [0.6929673  1.01086725 0.80285189 1.20392062 0.85519503 0.89459253\n",
      "  0.89982222 1.20188473]\n",
      " [1.3541081  1.05057659 1.02059329 1.02383608 0.98807979 1.18513702\n",
      "  0.70156822 0.7633035 ]]\n"
     ]
    },
    {
     "name": "stderr",
     "output_type": "stream",
     "text": [
      "TiffPages: failed to load virtual frames: page offsets not equidistant\n"
     ]
    },
    {
     "name": "stdout",
     "output_type": "stream",
     "text": [
      "Old version ignored 20 hq flags out of 344 synaptic observations\n",
      "Old version ignored 20 hq flags out of 344 synaptic observations\n"
     ]
    },
    {
     "name": "stderr",
     "output_type": "stream",
     "text": [
      "TiffPages: failed to load virtual frames: page offsets not equidistant\n"
     ]
    },
    {
     "name": "stdout",
     "output_type": "stream",
     "text": [
      "Old version ignored 20 hq flags out of 344 synaptic observations\n"
     ]
    },
    {
     "name": "stderr",
     "output_type": "stream",
     "text": [
      "TiffPages: failed to load virtual frames: page offsets not equidistant\n"
     ]
    },
    {
     "name": "stdout",
     "output_type": "stream",
     "text": [
      "Old version ignored 20 hq flags out of 344 synaptic observations\n"
     ]
    },
    {
     "name": "stderr",
     "output_type": "stream",
     "text": [
      "TiffPages: failed to load virtual frames: page offsets not equidistant\n"
     ]
    },
    {
     "name": "stdout",
     "output_type": "stream",
     "text": [
      "Old version ignored 20 hq flags out of 344 synaptic observations\n"
     ]
    },
    {
     "name": "stderr",
     "output_type": "stream",
     "text": [
      "TiffPages: failed to load virtual frames: page offsets not equidistant\n"
     ]
    },
    {
     "name": "stdout",
     "output_type": "stream",
     "text": [
      "Old version ignored 20 hq flags out of 344 synaptic observations\n"
     ]
    },
    {
     "name": "stderr",
     "output_type": "stream",
     "text": [
      "TiffPages: failed to load virtual frames: page offsets not equidistant\n"
     ]
    },
    {
     "name": "stdout",
     "output_type": "stream",
     "text": [
      "Old version ignored 20 hq flags out of 344 synaptic observations\n"
     ]
    },
    {
     "name": "stderr",
     "output_type": "stream",
     "text": [
      "TiffPages: failed to load virtual frames: page offsets not equidistant\n"
     ]
    },
    {
     "name": "stdout",
     "output_type": "stream",
     "text": [
      "Old version ignored 20 hq flags out of 344 synaptic observations\n"
     ]
    },
    {
     "name": "stderr",
     "output_type": "stream",
     "text": [
      "TiffPages: failed to load virtual frames: page offsets not equidistant\n"
     ]
    },
    {
     "name": "stdout",
     "output_type": "stream",
     "text": [
      "Old version ignored 20 hq flags out of 344 synaptic observations\n",
      "Saving dendrite cv011\n",
      "Old version ignored 0 hq flags out of 224 synaptic observations\n",
      "Extracting dendrite dh010 [[1.05386459 1.29559713 1.07828326 1.38244731 1.01679296 1.0170165\n",
      "  1.23024624 1.12298596]\n",
      " [1.66600416 1.03927354 1.92624443 2.17396872 2.94037914 1.9308906\n",
      "  2.04153744 1.6974895 ]\n",
      " [1.66237208 2.05838589 1.38121687 1.43689018 1.63234562 1.81503173\n",
      "  1.57852503 2.00249296]\n",
      " [0.65658029 0.69551603 0.68673112 0.61868691 0.82069522 0.62134425\n",
      "  0.52099611 0.7803718 ]\n",
      " [1.03182303 1.10691051 1.42776128 1.24952521 1.57708068 1.38152761\n",
      "  1.16100118 1.23274757]\n",
      " [0.85267188 0.89699538 0.8573545  0.92427821 1.09309844 1.23953889\n",
      "  0.8204656  0.97202025]\n",
      " [1.04671876 1.01839797 1.60388425 1.54892219 1.15606035 1.33571482\n",
      "  1.11020332 1.56483668]\n",
      " [1.15711518 2.13743256 1.72495995 1.38385742 2.24707396 2.09576069\n",
      "  1.50924401 1.36868604]\n",
      " [0.86759362 0.99837462 1.01445922 0.96160789 0.99687723 0.9442032\n",
      "  0.86075379 0.82182329]\n",
      " [1.0708508  1.09753007 0.86233911 1.01525151 0.97089394 0.79275892\n",
      "  1.05769225 1.07974483]\n",
      " [0.72445346 0.88870299 0.82035532 0.93666443 0.68320187 0.70817807\n",
      "  0.73150648 0.88040609]\n",
      " [0.73808903 0.76929426 0.7170698  0.68384099 0.6148786  0.59073614\n",
      "  1.04166112 0.58860124]\n",
      " [1.55723624 1.82142502 1.80302791 2.4325085  1.15441485 1.77264264\n",
      "  1.91855723 1.86419153]\n",
      " [1.15337876 1.07536881 1.37312983 1.17830141 1.09944068 1.23128657\n",
      "  1.36411466 1.54914961]\n",
      " [0.3786534  0.43928591 0.44404339 0.337233   0.4560834  0.47877786\n",
      "  0.48543283 0.56508202]\n",
      " [1.07191068 0.94395387 1.15379836 0.91792784 1.29959383 1.02996405\n",
      "  0.78600691 0.83355866]\n",
      " [0.86280902 0.81302549 0.886216   0.79284413 0.7015236  0.96629309\n",
      "  1.07696023 1.15120424]\n",
      " [0.51627528 0.76054854 0.95361094 0.70929755 0.82837951 0.8112366\n",
      "  0.80928092 0.68071676]\n",
      " [1.18020441 1.35372615 1.06743058 1.16219796 0.99090682 1.81732986\n",
      "  1.36384642 0.94484286]\n",
      " [0.39348715 0.44582931 0.4956732  0.41699181 0.49277582 0.62701768\n",
      "  0.85272929 0.48212563]\n",
      " [0.         0.         0.57542499 0.55264546 0.93143059 0.67345607\n",
      "  0.75670501 0.79404513]\n",
      " [0.         0.         0.         0.         0.63811334 0.62668633\n",
      "  0.7981905  0.        ]]\n"
     ]
    },
    {
     "name": "stderr",
     "output_type": "stream",
     "text": [
      "TiffPages: failed to load virtual frames: page offsets not equidistant\n"
     ]
    },
    {
     "name": "stdout",
     "output_type": "stream",
     "text": [
      "Old version ignored 0 hq flags out of 224 synaptic observations\n",
      "Old version ignored 0 hq flags out of 224 synaptic observations\n"
     ]
    },
    {
     "name": "stderr",
     "output_type": "stream",
     "text": [
      "TiffPages: failed to load virtual frames: page offsets not equidistant\n"
     ]
    },
    {
     "name": "stdout",
     "output_type": "stream",
     "text": [
      "Old version ignored 0 hq flags out of 224 synaptic observations\n"
     ]
    },
    {
     "name": "stderr",
     "output_type": "stream",
     "text": [
      "TiffPages: failed to load virtual frames: page offsets not equidistant\n"
     ]
    },
    {
     "name": "stdout",
     "output_type": "stream",
     "text": [
      "Old version ignored 0 hq flags out of 224 synaptic observations\n"
     ]
    },
    {
     "name": "stderr",
     "output_type": "stream",
     "text": [
      "TiffPages: failed to load virtual frames: page offsets not equidistant\n"
     ]
    },
    {
     "name": "stdout",
     "output_type": "stream",
     "text": [
      "Old version ignored 0 hq flags out of 224 synaptic observations\n"
     ]
    },
    {
     "name": "stderr",
     "output_type": "stream",
     "text": [
      "TiffPages: failed to load virtual frames: page offsets not equidistant\n"
     ]
    },
    {
     "name": "stdout",
     "output_type": "stream",
     "text": [
      "Old version ignored 0 hq flags out of 224 synaptic observations\n"
     ]
    },
    {
     "name": "stderr",
     "output_type": "stream",
     "text": [
      "TiffPages: failed to load virtual frames: page offsets not equidistant\n"
     ]
    },
    {
     "name": "stdout",
     "output_type": "stream",
     "text": [
      "Old version ignored 0 hq flags out of 224 synaptic observations\n"
     ]
    },
    {
     "name": "stderr",
     "output_type": "stream",
     "text": [
      "TiffPages: failed to load virtual frames: page offsets not equidistant\n"
     ]
    },
    {
     "name": "stdout",
     "output_type": "stream",
     "text": [
      "Old version ignored 0 hq flags out of 224 synaptic observations\n"
     ]
    },
    {
     "name": "stderr",
     "output_type": "stream",
     "text": [
      "TiffPages: failed to load virtual frames: page offsets not equidistant\n"
     ]
    },
    {
     "name": "stdout",
     "output_type": "stream",
     "text": [
      "Old version ignored 0 hq flags out of 224 synaptic observations\n",
      "Saving dendrite dh010\n"
     ]
    }
   ],
   "source": [
    "im_dir = os.path.join(IMPATH,'pyr/')\n",
    "pyr_dir = '../data/synfiles/pyr/'\n",
    "synpaths = get_synfiles(pyr_dir)\n",
    "\n",
    "for i, synpath in enumerate(synpaths):\n",
    "    data = load_synfile(synpath)\n",
    "    data = get_hq_data(data)\n",
    "    dend_id = os.path.split(synpath)[1].split(\".\")[0].split(\"_\")[2][3:]\n",
    "    print(\"Extracting dendrite {}\".format(dend_id))\n",
    "\n",
    "    weights = construct_weight_matrix(synpath, im_dir)\n",
    "    weights = np.nan_to_num(weights)\n",
    "\n",
    "    np.save('../data/weights_by_dendrite/norm_pyr/{}.npy'.format(dend_id),weights)\n",
    "    print(\"Saving dendrite {}\".format(dend_id))\n",
    "\n",
    "im_dir = os.path.join(IMPATH,'pv/')\n",
    "pv_dir = '../data/synfiles/pv/'\n",
    "synpaths = get_synfiles(pv_dir)\n",
    "\n",
    "for i, synpath in enumerate(synpaths):\n",
    "    data = load_synfile(synpath)\n",
    "    data = get_hq_data(data)\n",
    "    dend_id = os.path.split(synpath)[1].split(\".\")[0].split(\"_\")[2][3:]\n",
    "    print(\"Extracting dendrite {}\".format(dend_id),weights)\n",
    "\n",
    "    weights = construct_weight_matrix(synpath, im_dir)\n",
    "    weights = np.nan_to_num(weights)\n",
    "\n",
    "    np.save('../data/weights_by_dendrite/norm_pv/{}.npy'.format(dend_id),weights)\n",
    "    print(\"Saving dendrite {}\".format(dend_id))"
   ]
  },
  {
   "cell_type": "markdown",
   "id": "supreme-german",
   "metadata": {},
   "source": [
    "# Depth matched raw"
   ]
  },
  {
   "cell_type": "code",
   "execution_count": null,
   "id": "capable-melbourne",
   "metadata": {},
   "outputs": [
    {
     "name": "stdout",
     "output_type": "stream",
     "text": [
      "Loaded 9 synfiles from ../data/synfiles/pyr30pm20/\n",
      "Old version ignored 0 hq flags out of 328 synaptic observations\n",
      "Extracting dendrite ai003\n"
     ]
    },
    {
     "name": "stderr",
     "output_type": "stream",
     "text": [
      "TiffPages: failed to load virtual frames: page offsets not equidistant\n"
     ]
    },
    {
     "name": "stdout",
     "output_type": "stream",
     "text": [
      "Old version ignored 0 hq flags out of 328 synaptic observations\n",
      "Old version ignored 0 hq flags out of 328 synaptic observations\n"
     ]
    },
    {
     "name": "stderr",
     "output_type": "stream",
     "text": [
      "TiffPages: failed to load virtual frames: page offsets not equidistant\n"
     ]
    }
   ],
   "source": [
    "im_dir = os.path.join(IMPATH,'pyr/')\n",
    "pyr_dir = '../data/synfiles/pyr30pm20/'\n",
    "synpaths = get_synfiles(pyr_dir)\n",
    "\n",
    "for i, synpath in enumerate(synpaths):\n",
    "    data = load_synfile(synpath)\n",
    "    data = get_hq_data(data)\n",
    "    dend_id = os.path.split(synpath)[1].split(\".\")[0].split(\"_\")[2][3:]\n",
    "    print(\"Extracting dendrite {}\".format(dend_id))\n",
    "\n",
    "    weights = construct_weight_matrix(synpath, im_dir, norm=False)\n",
    "    weights = np.nan_to_num(weights)\n",
    "\n",
    "    np.save('../data/weights_by_dendrite/depth_matched_pyr_raw/{}.npy'.format(dend_id),weights)\n",
    "    print(\"Saving dendrite {}\".format(dend_id))\n",
    "\n",
    "\n",
    "im_dir = os.path.join(IMPATH,'pv/')\n",
    "pv_dir = '../data/synfiles/pv30pm20/'\n",
    "synpaths = get_synfiles(pv_dir)\n",
    "\n",
    "for i, synpath in enumerate(synpaths):\n",
    "    data = load_synfile(synpath)\n",
    "    data = get_hq_data(data)\n",
    "    dend_id = os.path.split(synpath)[1].split(\".\")[0].split(\"_\")[2][3:]\n",
    "    print(\"Extracting dendrite {}\".format(dend_id),weights)\n",
    "\n",
    "    weights = construct_weight_matrix(synpath, im_dir, norm=False)\n",
    "    weights = np.nan_to_num(weights)\n",
    "\n",
    "    np.save('../data/weights_by_dendrite/depth_matched_pv_raw/{}.npy'.format(dend_id),weights)\n",
    "    print(\"Saving dendrite {}\".format(dend_id))"
   ]
  },
  {
   "cell_type": "code",
   "execution_count": null,
   "id": "chubby-damage",
   "metadata": {},
   "outputs": [],
   "source": []
  }
 ],
 "metadata": {
  "kernelspec": {
   "display_name": "Python 3",
   "language": "python",
   "name": "python3"
  },
  "language_info": {
   "codemirror_mode": {
    "name": "ipython",
    "version": 3
   },
   "file_extension": ".py",
   "mimetype": "text/x-python",
   "name": "python",
   "nbconvert_exporter": "python",
   "pygments_lexer": "ipython3",
   "version": "3.8.5"
  }
 },
 "nbformat": 4,
 "nbformat_minor": 5
}
