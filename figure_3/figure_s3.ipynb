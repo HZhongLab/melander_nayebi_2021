{
 "cells": [
  {
   "cell_type": "code",
   "execution_count": 1,
   "metadata": {},
   "outputs": [],
   "source": [
    "import csv\n",
    "import statsmodels.api as sm\n",
    "import copy\n",
    "import os\n",
    "import sys\n",
    "\n",
    "import matplotlib.pyplot as plt\n",
    "import numpy as np\n",
    "import scipy.io\n",
    "import scipy.stats\n",
    "\n",
    "# matplotlib Paramaters\n",
    "from matplotlib import rc\n",
    "\n",
    "\n",
    "sys.path.append('../src/')\n",
    "from file_io import get_synfiles, load_synfile\n",
    "from binary import get_presence, calc_norm_dens, calc_survival_fraction\n",
    "\n",
    "rc(\"lines\", linewidth=2)\n",
    "rc(\"axes\", lw=1)\n",
    "rc(\"axes.spines\", top=False)\n",
    "rc(\"axes.spines\", right=False)\n",
    "rc(\"xtick.major\", pad=5, width=1, size=5)\n",
    "rc(\"ytick.major\", pad=5, width=1, size=5)\n",
    "rc(\"font\", size=20)"
   ]
  },
  {
   "cell_type": "code",
   "execution_count": 2,
   "metadata": {},
   "outputs": [],
   "source": [
    "# Returns the average value of synapses between the 40th and 60th percentile of all synapses on a given day\n",
    "\n",
    "def get_avg(syn_by_day):\n",
    "    qr = np.nanpercentile(syn_by_day, q=[40,60], interpolation=\"nearest\", axis=0).T\n",
    "    syn_sorted = np.sort(syn_by_day, axis=0)\n",
    "\n",
    "    avg = []\n",
    "\n",
    "    for i, q in enumerate(qr):\n",
    "        syn_day = syn_sorted[:, i]\n",
    "        gt = syn_day[syn_day >= q[0]]\n",
    "        lt = gt[gt <= q[1]]\n",
    "        avg.append(np.nanmean(lt))\n",
    "\n",
    "    avg = np.array(avg)\n",
    "    return avg"
   ]
  },
  {
   "cell_type": "markdown",
   "metadata": {},
   "source": [
    "# Figure S3A,B"
   ]
  },
  {
   "cell_type": "markdown",
   "metadata": {},
   "source": [
    "Differential bleaching of red and green channel signals over the course of 1-month"
   ]
  },
  {
   "cell_type": "code",
   "execution_count": 3,
   "metadata": {},
   "outputs": [
    {
     "name": "stderr",
     "output_type": "stream",
     "text": [
      "<ipython-input-3-aff5a3dc3e6a>:106: MatplotlibDeprecationWarning: savefig() got unexpected keyword argument \"background\" which is no longer supported as of 3.3 and will become an error two minor releases later\n",
      "  plt.savefig('/mnt/c/Users/Joshua Melander/Desktop/s3AB.svg',dpi=100,format='svg',background='transparent')\n"
     ]
    },
    {
     "data": {
      "image/png": "[encoded data removed]",
      "text/plain": [
       "<Figure size 720x216 with 2 Axes>"
      ]
     },
     "metadata": {
      "needs_background": "light"
     },
     "output_type": "display_data"
    }
   ],
   "source": [
    "gpath = \"../data/weights_by_dendrite/all_raw_pyr_green/\"\n",
    "gfiles = [f for f in os.listdir(gpath) if f.endswith('.npy')]\n",
    "\n",
    "rpath = '../data/weights_by_dendrite/all_raw_pyr_red/'\n",
    "rfiles = [f for f in os.listdir(rpath) if f.endswith('.npy')]\n",
    "\n",
    "pyr_r = []\n",
    "pyr_g = []\n",
    "\n",
    "for f in rfiles:\n",
    "    pyr_r.append(np.load(os.path.join(rpath,f)))\n",
    "    pyr_g.append(np.load(os.path.join(gpath,f)))\n",
    "\n",
    "gms = []\n",
    "rms = []\n",
    "\n",
    "for r,g in zip(pyr_r,pyr_g):\n",
    "    g[g==0] = np.nan\n",
    "    r[r==0] = np.nan\n",
    "    \n",
    "    gm = get_avg(g)\n",
    "    rm = get_avg(r)\n",
    "\n",
    "    \n",
    "    gm = gm/gm[0]  \n",
    "    rm = rm/rm[0]\n",
    "    rms.append(rm)\n",
    "    gms.append(gm)\n",
    "    \n",
    "pyr_rms=np.array(rms)[:,:7]\n",
    "pyr_gms = np.array(gms)[:,:7]\n",
    "\n",
    "\n",
    "\n",
    "gpath = \"../data/weights_by_dendrite/all_raw_pv_green/\"\n",
    "gfiles = [f for f in os.listdir(gpath) if f.endswith('.npy')]\n",
    "\n",
    "rpath = '../data/weights_by_dendrite/all_raw_pv_red/'\n",
    "rfiles = [f for f in os.listdir(rpath) if f.endswith('.npy')]\n",
    "\n",
    "pv_r = []\n",
    "pv_g = []\n",
    "\n",
    "for f in rfiles:\n",
    "    pv_r.append(np.load(os.path.join(rpath,f)))\n",
    "    pv_g.append(np.load(os.path.join(gpath,f)))\n",
    "\n",
    "gms = []\n",
    "rms = []\n",
    "\n",
    "for r,g in zip(pv_r,pv_g):\n",
    "    g[g==0] = np.nan\n",
    "    r[r==0] = np.nan\n",
    "\n",
    "    gm = get_avg(g)\n",
    "    rm = get_avg(r)\n",
    "\n",
    "    \n",
    "    gm = gm/gm[0]  \n",
    "    rm = rm/rm[0]\n",
    "\n",
    "    \n",
    "    rms.append(rm[:7])\n",
    "    gms.append(gm[:7])\n",
    "    \n",
    "pv_rms=np.array(rms)\n",
    "pv_gms = np.array(gms)\n",
    "\n",
    "\n",
    "f,a = plt.subplots(1,2)\n",
    "f.set_size_inches(10,3)\n",
    "\n",
    "a[0].errorbar(x=range(7),y=np.mean(pyr_gms,axis=0),yerr=scipy.stats.sem(pyr_gms,axis=0),color='g')\n",
    "a[0].errorbar(x=range(7),y=np.mean(pyr_rms,axis=0),yerr=scipy.stats.sem(pyr_gms,axis=0),color='r')\n",
    "\n",
    "a[0].spines['left'].set_position(('data', 0))\n",
    "a[0].spines['bottom'].set_position(('data', 0.6))\n",
    "\n",
    "a[1].errorbar(x=range(7),y=np.mean(pv_gms,axis=0),yerr=scipy.stats.sem(pv_gms,axis=0),color='g')\n",
    "a[1].errorbar(x=range(7),y=np.mean(pv_rms,axis=0),yerr=scipy.stats.sem(pv_gms,axis=0),color='r')\n",
    "\n",
    "a[1].spines['left'].set_position(('data', 0))\n",
    "a[1].spines['bottom'].set_position(('data', 0.6))\n",
    "\n",
    "a[0].set_xlabel('Days')\n",
    "a[0].set_ylim(0.6,1.4)\n",
    "a[0].axhline(1,color='black',linestyle='--')\n",
    "\n",
    "a[1].set_xlabel('Days')\n",
    "a[1].set_ylim(0.6,1.4)\n",
    "a[1].axhline(1,color='black',linestyle='--')\n",
    "\n",
    "a[0].set_yticks([0.6,1,1.4])\n",
    "a[1].set_yticks([0.6,1,1.4])\n",
    "\n",
    "a[1].set_xticks([0,2,4,6])\n",
    "a[1].set_xticklabels([0,8,16,24])\n",
    "a[1].set_xlabel('Days')\n",
    "a[0].set_xticks([0,2,4,6])\n",
    "a[0].set_xticklabels([0,8,16,24])\n",
    "a[0].set_xlabel('Days')\n",
    "\n",
    "a[0].set_title('Pyr')\n",
    "a[1].set_title('PV')\n",
    "# f.tight_layout()\n",
    "plt.savefig('/mnt/c/Users/Joshua Melander/Desktop/s3AB.svg',dpi=100,format='svg',background='transparent')"
   ]
  },
  {
   "cell_type": "markdown",
   "metadata": {},
   "source": [
    "# Figure S3C,D"
   ]
  },
  {
   "cell_type": "markdown",
   "metadata": {},
   "source": [
    "Green/Red ratio is prone to artifacts due to differential bleaching "
   ]
  },
  {
   "cell_type": "code",
   "execution_count": 4,
   "metadata": {},
   "outputs": [
    {
     "name": "stderr",
     "output_type": "stream",
     "text": [
      "<ipython-input-4-14c4c188c9ad>:61: MatplotlibDeprecationWarning: savefig() got unexpected keyword argument \"background\" which is no longer supported as of 3.3 and will become an error two minor releases later\n",
      "  plt.savefig('/mnt/c/Users/Joshua Melander/Desktop/s3CD.svg',dpi=100,format='svg',background='transparent')\n"
     ]
    },
    {
     "data": {
      "image/png": "[encoded data removed]",
      "text/plain": [
       "<Figure size 720x216 with 2 Axes>"
      ]
     },
     "metadata": {
      "needs_background": "light"
     },
     "output_type": "display_data"
    }
   ],
   "source": [
    "gr_ms = []\n",
    "for g,r in zip(pyr_g,pyr_r):\n",
    "    g[g==0] = np.nan\n",
    "    r[g==0] = np.nan\n",
    "    \n",
    "    gr = g / r\n",
    "\n",
    "    avg = get_avg(gr)\n",
    "    grm = avg/avg[0]\n",
    "    \n",
    "    gr_ms.append(grm)\n",
    "    \n",
    "gr_ms = np.array(gr_ms)[:,:7]\n",
    "gms = gr_ms\n",
    "\n",
    "f,a = plt.subplots(1,2,sharey=True)\n",
    "f.set_size_inches(10,3)\n",
    "\n",
    "a[0].errorbar(x=range(7),y=np.mean(gms,axis=0),yerr=scipy.stats.sem(gms,axis=0),color='k')\n",
    "a[0].spines['left'].set_position(('data', 0))\n",
    "a[0].spines['bottom'].set_position(('data', 0.6))\n",
    "\n",
    "a[0].set_yticks([0.6,1,1.4])\n",
    "a[0].set_xticks(range(7))\n",
    "a[0].set_ylim(0.6,1.4)\n",
    "\n",
    "gr_ms = []\n",
    "for g,r in zip(pv_g,pv_r):\n",
    "    g[g==0] = np.nan\n",
    "    r[g==0] = np.nan\n",
    "    \n",
    "    gr = g / r\n",
    "#     print(gr.shape)\n",
    "\n",
    "    avg = get_avg(gr)\n",
    "    grm = avg/avg[0]\n",
    "    \n",
    "    gr_ms.append(grm[:7])\n",
    "gms = gr_ms\n",
    "    \n",
    "gr_ms = np.array(gr_ms)\n",
    "a[1].errorbar(x=range(7),y=np.mean(gms,axis=0),yerr=scipy.stats.sem(gms,axis=0),color='k')\n",
    "a[1].spines['left'].set_position(('data', 0))\n",
    "a[1].spines['bottom'].set_position(('data', 0.6))\n",
    "\n",
    "a[1].set_yticks([0.6,1,1.4])\n",
    "a[1].set_xticks(range(7))\n",
    "a[1].set_ylim(0.6,1.4)\n",
    "\n",
    "a[0].axhline(y=1,color='black',ls='--')\n",
    "a[1].axhline(y=1,color='black',ls='--')\n",
    "\n",
    "days = [0,8,16,24]\n",
    "a[0].set_xticks([0,2,4,6])\n",
    "a[0].set_xticklabels(days)\n",
    "a[1].set_xticks([0,2,4,6])\n",
    "a[1].set_xticklabels(days)\n",
    "a[0].set_title('Pyramidal')\n",
    "a[1].set_title('PV')\n",
    "\n",
    "plt.savefig('/mnt/c/Users/Joshua Melander/Desktop/s3CD.svg',dpi=100,format='svg',background='transparent')\n"
   ]
  },
  {
   "cell_type": "code",
   "execution_count": null,
   "metadata": {},
   "outputs": [],
   "source": []
  },
  {
   "cell_type": "code",
   "execution_count": null,
   "metadata": {},
   "outputs": [],
   "source": []
  },
  {
   "cell_type": "code",
   "execution_count": null,
   "metadata": {},
   "outputs": [],
   "source": []
  }
 ],
 "metadata": {
  "kernelspec": {
   "display_name": "Python 3",
   "language": "python",
   "name": "python3"
  },
  "language_info": {
   "codemirror_mode": {
    "name": "ipython",
    "version": 3
   },
   "file_extension": ".py",
   "mimetype": "text/x-python",
   "name": "python",
   "nbconvert_exporter": "python",
   "pygments_lexer": "ipython3",
   "version": "3.8.5"
  }
 },
 "nbformat": 4,
 "nbformat_minor": 4
}
