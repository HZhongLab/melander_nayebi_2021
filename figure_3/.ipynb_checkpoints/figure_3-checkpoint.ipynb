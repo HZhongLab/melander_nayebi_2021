{
 "cells": [
  {
   "cell_type": "code",
   "execution_count": 1,
   "id": "vietnamese-president",
   "metadata": {},
   "outputs": [],
   "source": [
    "import csv\n",
    "import statsmodels.api as sm\n",
    "import copy\n",
    "import os\n",
    "import sys\n",
    "\n",
    "import matplotlib.pyplot as plt\n",
    "import numpy as np\n",
    "import scipy.io\n",
    "import scipy.stats\n",
    "\n",
    "# matplotlib Paramaters\n",
    "from matplotlib import rc\n",
    "\n",
    "\n",
    "sys.path.append('../src/')\n",
    "from file_io import get_synfiles, load_synfile\n",
    "from binary import get_presence, calc_norm_dens, calc_survival_fraction"
   ]
  },
  {
   "cell_type": "code",
   "execution_count": 2,
   "id": "looking-atmosphere",
   "metadata": {},
   "outputs": [],
   "source": [
    "rc(\"lines\", linewidth=2)\n",
    "rc(\"axes\", lw=1)\n",
    "rc(\"axes.spines\", top=False)\n",
    "rc(\"axes.spines\", right=False)\n",
    "rc(\"xtick.major\", pad=5, width=1, size=5)\n",
    "rc(\"ytick.major\", pad=5, width=1, size=5)\n",
    "rc(\"font\", size=20)"
   ]
  },
  {
   "cell_type": "code",
   "execution_count": 3,
   "id": "dietary-battlefield",
   "metadata": {},
   "outputs": [],
   "source": [
    "# Path to raw data\n",
    "DATAPATH = \"/mnt/c/Users/Joshua Melander/OHSU/lesoin_data/\""
   ]
  },
  {
   "cell_type": "markdown",
   "id": "neural-ancient",
   "metadata": {},
   "source": [
    "# Figure 3C: Normalized density"
   ]
  },
  {
   "cell_type": "code",
   "execution_count": 6,
   "id": "curious-document",
   "metadata": {},
   "outputs": [
    {
     "name": "stdout",
     "output_type": "stream",
     "text": [
      "Loaded 14 synfiles from /mnt/c/Users/Joshua Melander/OHSU/lesoin_data/longitudinal/synfiles/pyr/\n",
      "Pyr Dend N: 14\n",
      "Binarizing /mnt/c/Users/Joshua Melander/OHSU/lesoin_data/longitudinal/synfiles/pyr/CLUSTERED_final_JBMai003_newbg.syn.mat\n",
      "Binarizing /mnt/c/Users/Joshua Melander/OHSU/lesoin_data/longitudinal/synfiles/pyr/CLUSTERED_final_JBMai010_newbg.syn.mat\n",
      "Binarizing /mnt/c/Users/Joshua Melander/OHSU/lesoin_data/longitudinal/synfiles/pyr/CLUSTERED_final_JBMbe003_newbg.syn.mat\n",
      "Binarizing /mnt/c/Users/Joshua Melander/OHSU/lesoin_data/longitudinal/synfiles/pyr/CLUSTERED_final_JBMbe005_newbg.syn.mat\n",
      "Binarizing /mnt/c/Users/Joshua Melander/OHSU/lesoin_data/longitudinal/synfiles/pyr/CLUSTERED_final_JBMcs002_newbg.syn.mat\n",
      "Binarizing /mnt/c/Users/Joshua Melander/OHSU/lesoin_data/longitudinal/synfiles/pyr/CLUSTERED_final_JBMcs003_newbg.syn.mat\n",
      "Binarizing /mnt/c/Users/Joshua Melander/OHSU/lesoin_data/longitudinal/synfiles/pyr/CLUSTERED_final_JBMcs005_newbg.syn.mat\n",
      "Binarizing /mnt/c/Users/Joshua Melander/OHSU/lesoin_data/longitudinal/synfiles/pyr/CLUSTERED_final_JBMcs006_newbg.syn.mat\n",
      "Binarizing /mnt/c/Users/Joshua Melander/OHSU/lesoin_data/longitudinal/synfiles/pyr/CLUSTERED_final_JBMcs007_newbg.syn.mat\n",
      "Binarizing /mnt/c/Users/Joshua Melander/OHSU/lesoin_data/longitudinal/synfiles/pyr/CLUSTERED_final_JBMct001_newbg.syn.mat\n",
      "Binarizing /mnt/c/Users/Joshua Melander/OHSU/lesoin_data/longitudinal/synfiles/pyr/CLUSTERED_final_JBMct003_newbg.syn.mat\n",
      "Binarizing /mnt/c/Users/Joshua Melander/OHSU/lesoin_data/longitudinal/synfiles/pyr/CLUSTERED_final_JBMct007_newbg.syn.mat\n",
      "Binarizing /mnt/c/Users/Joshua Melander/OHSU/lesoin_data/longitudinal/synfiles/pyr/CLUSTERED_final_JBMct008_newbg.syn.mat\n",
      "Binarizing /mnt/c/Users/Joshua Melander/OHSU/lesoin_data/longitudinal/synfiles/pyr/CLUSTERED_final_JBMct010_newbg.syn.mat\n",
      "Loaded 21 synfiles from /mnt/c/Users/Joshua Melander/OHSU/lesoin_data/longitudinal/synfiles/pv/\n",
      "[]\n",
      "PV Dend N: 21\n",
      "Binarizing /mnt/c/Users/Joshua Melander/OHSU/lesoin_data/longitudinal/synfiles/pv/CLUSTERED_final_JBMah001_newbg.syn.mat\n",
      "Binarizing /mnt/c/Users/Joshua Melander/OHSU/lesoin_data/longitudinal/synfiles/pv/CLUSTERED_final_JBMah002_newbg.syn.mat\n",
      "Binarizing /mnt/c/Users/Joshua Melander/OHSU/lesoin_data/longitudinal/synfiles/pv/CLUSTERED_final_JBMah007_newbg.syn.mat\n",
      "Binarizing /mnt/c/Users/Joshua Melander/OHSU/lesoin_data/longitudinal/synfiles/pv/CLUSTERED_final_JBMak009_newbg.syn.mat\n",
      "Binarizing /mnt/c/Users/Joshua Melander/OHSU/lesoin_data/longitudinal/synfiles/pv/CLUSTERED_final_JBMak011_newbg.syn.mat\n",
      "Binarizing /mnt/c/Users/Joshua Melander/OHSU/lesoin_data/longitudinal/synfiles/pv/CLUSTERED_final_JBMbr001_newbg.syn.mat\n",
      "Binarizing /mnt/c/Users/Joshua Melander/OHSU/lesoin_data/longitudinal/synfiles/pv/CLUSTERED_final_JBMbr007_newbg.syn.mat\n",
      "Binarizing /mnt/c/Users/Joshua Melander/OHSU/lesoin_data/longitudinal/synfiles/pv/CLUSTERED_final_JBMbr010_newbg.syn.mat\n",
      "Binarizing /mnt/c/Users/Joshua Melander/OHSU/lesoin_data/longitudinal/synfiles/pv/CLUSTERED_final_JBMcq001_newbg.syn.mat\n",
      "Binarizing /mnt/c/Users/Joshua Melander/OHSU/lesoin_data/longitudinal/synfiles/pv/CLUSTERED_final_JBMcq002_newbg.syn.mat\n",
      "Binarizing /mnt/c/Users/Joshua Melander/OHSU/lesoin_data/longitudinal/synfiles/pv/CLUSTERED_final_JBMcq004_newbg.syn.mat\n",
      "Binarizing /mnt/c/Users/Joshua Melander/OHSU/lesoin_data/longitudinal/synfiles/pv/CLUSTERED_final_JBMcq006_newbg.syn.mat\n",
      "Binarizing /mnt/c/Users/Joshua Melander/OHSU/lesoin_data/longitudinal/synfiles/pv/CLUSTERED_final_JBMcq011_newbg.syn.mat\n",
      "Binarizing /mnt/c/Users/Joshua Melander/OHSU/lesoin_data/longitudinal/synfiles/pv/CLUSTERED_final_JBMcr002_newbg.syn.mat\n",
      "Binarizing /mnt/c/Users/Joshua Melander/OHSU/lesoin_data/longitudinal/synfiles/pv/CLUSTERED_final_JBMcr004_newbg.syn.mat\n",
      "Binarizing /mnt/c/Users/Joshua Melander/OHSU/lesoin_data/longitudinal/synfiles/pv/CLUSTERED_final_JBMcv003_newbg.syn.mat\n",
      "Binarizing /mnt/c/Users/Joshua Melander/OHSU/lesoin_data/longitudinal/synfiles/pv/CLUSTERED_final_JBMcv006_newbg.syn.mat\n",
      "Binarizing /mnt/c/Users/Joshua Melander/OHSU/lesoin_data/longitudinal/synfiles/pv/CLUSTERED_final_JBMcv007_newbg.syn.mat\n",
      "Binarizing /mnt/c/Users/Joshua Melander/OHSU/lesoin_data/longitudinal/synfiles/pv/CLUSTERED_final_JBMcv009_newbg.syn.mat\n",
      "Binarizing /mnt/c/Users/Joshua Melander/OHSU/lesoin_data/longitudinal/synfiles/pv/CLUSTERED_final_JBMcv011_newbg.syn.mat\n",
      "Binarizing /mnt/c/Users/Joshua Melander/OHSU/lesoin_data/longitudinal/synfiles/pv/CLUSTERED_final_JBMdh010_newbg.syn.mat\n"
     ]
    },
    {
     "data": {
      "image/png": "[encoded data removed]",
      "text/plain": [
       "<Figure size 432x288 with 1 Axes>"
      ]
     },
     "metadata": {
      "needs_background": "light"
     },
     "output_type": "display_data"
    }
   ],
   "source": [
    "f,a = plt.subplots(1)\n",
    "\n",
    "pyr_path = os.path.join(DATAPATH, \"longitudinal/synfiles/pyr/\")\n",
    "paths = get_synfiles(pyr_path)\n",
    "norm_dens_agg = []\n",
    "print('Pyr Dend N: {}'.format(len(paths)))\n",
    "for path in paths:\n",
    "    print('Binarizing {}'.format(path))\n",
    "    data = load_synfile(path)\n",
    "    binary = get_presence(data)\n",
    "    norm_dens = calc_norm_dens(binary)\n",
    "    norm_dens_agg.append(norm_dens)\n",
    "    a.plot(norm_dens,color='blue',linewidth=0.2)\n",
    "\n",
    "# print(norm_dens_agg)\n",
    "a.errorbar(x=range(8),y=np.nanmean(norm_dens_agg,axis=0),yerr=scipy.stats.sem(norm_dens_agg,axis=0,nan_policy='omit'),color='b',linewidth=3)\n",
    "\n",
    "\n",
    "\n",
    "pv_path = os.path.join(DATAPATH, \"longitudinal/synfiles/pv/\")\n",
    "paths = get_synfiles(pv_path)\n",
    "norm_dens_agg = []\n",
    "print(norm_dens_agg)\n",
    "\n",
    "print('PV Dend N: {}'.format(len(paths)))\n",
    "for path in paths:\n",
    "    print('Binarizing {}'.format(path))\n",
    "    data = load_synfile(path)\n",
    "    binary = get_presence(data)\n",
    "    norm_dens = calc_norm_dens(binary)\n",
    "    norm_dens_agg.append(norm_dens)\n",
    "    a.plot(norm_dens,color='red',linewidth=0.2)\n",
    "\n",
    "\n",
    "\n",
    "a.errorbar(x=range(8),y=np.nanmean(norm_dens_agg,axis=0),yerr=scipy.stats.sem(norm_dens_agg,axis=0,nan_policy='omit'),color='r',linewidth=3)\n",
    "a.set_ylim(0.5,1.5)\n",
    "plt.show()"
   ]
  },
  {
   "cell_type": "markdown",
   "id": "ordered-moral",
   "metadata": {},
   "source": [
    "# Figure 3D: Survival fraction"
   ]
  },
  {
   "cell_type": "code",
   "execution_count": 5,
   "id": "selected-crime",
   "metadata": {},
   "outputs": [
    {
     "name": "stdout",
     "output_type": "stream",
     "text": [
      "Loaded 14 synfiles from /mnt/c/Users/Joshua Melander/OHSU/lesoin_data/longitudinal/synfiles/pyr/\n",
      "Pyr Dend N: 14\n",
      "Binarizing /mnt/c/Users/Joshua Melander/OHSU/lesoin_data/longitudinal/synfiles/pyr/CLUSTERED_final_JBMai003_newbg.syn.mat\n",
      "Binarizing /mnt/c/Users/Joshua Melander/OHSU/lesoin_data/longitudinal/synfiles/pyr/CLUSTERED_final_JBMai010_newbg.syn.mat\n",
      "Binarizing /mnt/c/Users/Joshua Melander/OHSU/lesoin_data/longitudinal/synfiles/pyr/CLUSTERED_final_JBMbe003_newbg.syn.mat\n",
      "Binarizing /mnt/c/Users/Joshua Melander/OHSU/lesoin_data/longitudinal/synfiles/pyr/CLUSTERED_final_JBMbe005_newbg.syn.mat\n",
      "Binarizing /mnt/c/Users/Joshua Melander/OHSU/lesoin_data/longitudinal/synfiles/pyr/CLUSTERED_final_JBMcs002_newbg.syn.mat\n",
      "Binarizing /mnt/c/Users/Joshua Melander/OHSU/lesoin_data/longitudinal/synfiles/pyr/CLUSTERED_final_JBMcs003_newbg.syn.mat\n",
      "Binarizing /mnt/c/Users/Joshua Melander/OHSU/lesoin_data/longitudinal/synfiles/pyr/CLUSTERED_final_JBMcs005_newbg.syn.mat\n",
      "Binarizing /mnt/c/Users/Joshua Melander/OHSU/lesoin_data/longitudinal/synfiles/pyr/CLUSTERED_final_JBMcs006_newbg.syn.mat\n",
      "Binarizing /mnt/c/Users/Joshua Melander/OHSU/lesoin_data/longitudinal/synfiles/pyr/CLUSTERED_final_JBMcs007_newbg.syn.mat\n",
      "Binarizing /mnt/c/Users/Joshua Melander/OHSU/lesoin_data/longitudinal/synfiles/pyr/CLUSTERED_final_JBMct001_newbg.syn.mat\n",
      "Binarizing /mnt/c/Users/Joshua Melander/OHSU/lesoin_data/longitudinal/synfiles/pyr/CLUSTERED_final_JBMct003_newbg.syn.mat\n",
      "Binarizing /mnt/c/Users/Joshua Melander/OHSU/lesoin_data/longitudinal/synfiles/pyr/CLUSTERED_final_JBMct007_newbg.syn.mat\n",
      "Binarizing /mnt/c/Users/Joshua Melander/OHSU/lesoin_data/longitudinal/synfiles/pyr/CLUSTERED_final_JBMct008_newbg.syn.mat\n",
      "Binarizing /mnt/c/Users/Joshua Melander/OHSU/lesoin_data/longitudinal/synfiles/pyr/CLUSTERED_final_JBMct010_newbg.syn.mat\n",
      "N=\n",
      "594\n",
      "Loaded 21 synfiles from /mnt/c/Users/Joshua Melander/OHSU/lesoin_data/longitudinal/synfiles/pv/\n",
      "PV Dend N: 21\n",
      "Binarizing /mnt/c/Users/Joshua Melander/OHSU/lesoin_data/longitudinal/synfiles/pv/CLUSTERED_final_JBMah001_newbg.syn.mat\n",
      "Binarizing /mnt/c/Users/Joshua Melander/OHSU/lesoin_data/longitudinal/synfiles/pv/CLUSTERED_final_JBMah002_newbg.syn.mat\n",
      "Binarizing /mnt/c/Users/Joshua Melander/OHSU/lesoin_data/longitudinal/synfiles/pv/CLUSTERED_final_JBMah007_newbg.syn.mat\n",
      "Binarizing /mnt/c/Users/Joshua Melander/OHSU/lesoin_data/longitudinal/synfiles/pv/CLUSTERED_final_JBMak009_newbg.syn.mat\n",
      "Binarizing /mnt/c/Users/Joshua Melander/OHSU/lesoin_data/longitudinal/synfiles/pv/CLUSTERED_final_JBMak011_newbg.syn.mat\n",
      "Binarizing /mnt/c/Users/Joshua Melander/OHSU/lesoin_data/longitudinal/synfiles/pv/CLUSTERED_final_JBMbr001_newbg.syn.mat\n",
      "Binarizing /mnt/c/Users/Joshua Melander/OHSU/lesoin_data/longitudinal/synfiles/pv/CLUSTERED_final_JBMbr007_newbg.syn.mat\n",
      "Binarizing /mnt/c/Users/Joshua Melander/OHSU/lesoin_data/longitudinal/synfiles/pv/CLUSTERED_final_JBMbr010_newbg.syn.mat\n",
      "Binarizing /mnt/c/Users/Joshua Melander/OHSU/lesoin_data/longitudinal/synfiles/pv/CLUSTERED_final_JBMcq001_newbg.syn.mat\n",
      "Binarizing /mnt/c/Users/Joshua Melander/OHSU/lesoin_data/longitudinal/synfiles/pv/CLUSTERED_final_JBMcq002_newbg.syn.mat\n",
      "Binarizing /mnt/c/Users/Joshua Melander/OHSU/lesoin_data/longitudinal/synfiles/pv/CLUSTERED_final_JBMcq004_newbg.syn.mat\n",
      "Binarizing /mnt/c/Users/Joshua Melander/OHSU/lesoin_data/longitudinal/synfiles/pv/CLUSTERED_final_JBMcq006_newbg.syn.mat\n",
      "Binarizing /mnt/c/Users/Joshua Melander/OHSU/lesoin_data/longitudinal/synfiles/pv/CLUSTERED_final_JBMcq011_newbg.syn.mat\n",
      "Binarizing /mnt/c/Users/Joshua Melander/OHSU/lesoin_data/longitudinal/synfiles/pv/CLUSTERED_final_JBMcr002_newbg.syn.mat\n",
      "Binarizing /mnt/c/Users/Joshua Melander/OHSU/lesoin_data/longitudinal/synfiles/pv/CLUSTERED_final_JBMcr004_newbg.syn.mat\n",
      "Binarizing /mnt/c/Users/Joshua Melander/OHSU/lesoin_data/longitudinal/synfiles/pv/CLUSTERED_final_JBMcv003_newbg.syn.mat\n",
      "Binarizing /mnt/c/Users/Joshua Melander/OHSU/lesoin_data/longitudinal/synfiles/pv/CLUSTERED_final_JBMcv006_newbg.syn.mat\n",
      "Binarizing /mnt/c/Users/Joshua Melander/OHSU/lesoin_data/longitudinal/synfiles/pv/CLUSTERED_final_JBMcv007_newbg.syn.mat\n",
      "Binarizing /mnt/c/Users/Joshua Melander/OHSU/lesoin_data/longitudinal/synfiles/pv/CLUSTERED_final_JBMcv009_newbg.syn.mat\n",
      "Binarizing /mnt/c/Users/Joshua Melander/OHSU/lesoin_data/longitudinal/synfiles/pv/CLUSTERED_final_JBMcv011_newbg.syn.mat\n",
      "Binarizing /mnt/c/Users/Joshua Melander/OHSU/lesoin_data/longitudinal/synfiles/pv/CLUSTERED_final_JBMdh010_newbg.syn.mat\n",
      "683\n",
      "Day 6 Ranksum:  RanksumsResult(statistic=4.091117805436454, pvalue=4.29298977422107e-05)\n",
      "Mean Pyr Day 6 0.7712880960728106\n",
      "SEM Pyr Day 6 0.024619732068240845\n",
      "Mean PV Day 6 0.9292672183906735\n",
      "SEM PV Day 6 0.012436487753341822\n"
     ]
    },
    {
     "data": {
      "image/png": "[encoded data removed]",
      "text/plain": [
       "<Figure size 432x288 with 1 Axes>"
      ]
     },
     "metadata": {
      "needs_background": "light"
     },
     "output_type": "display_data"
    }
   ],
   "source": [
    "f,a = plt.subplots(1)\n",
    "\n",
    "pyr_path = os.path.join(DATAPATH, \"longitudinal/synfiles/pyr/\")\n",
    "paths = get_synfiles(pyr_path)\n",
    "sf_agg = []\n",
    "print('Pyr Dend N: {}'.format(len(paths)))\n",
    "\n",
    "n_pyr_syn = 0\n",
    "\n",
    "pyr_fracts = []\n",
    "for path in paths:\n",
    "    print('Binarizing {}'.format(path))\n",
    "    data = load_synfile(path)\n",
    "    binary = get_presence(data)\n",
    "    \n",
    "    n = np.sum(binary[:,0])\n",
    "    n_pyr_syn += n\n",
    "    sf = calc_survival_fraction(binary)\n",
    "    sf_agg.append(sf)\n",
    "    pyr_fracts.append(sf[6])\n",
    "    a.plot(sf,color='blue',linewidth=0.2)\n",
    "a.errorbar(x=range(8),y=np.nanmean(sf_agg,axis=0),yerr=scipy.stats.sem(sf_agg,axis=0,nan_policy='omit'),color='b',linewidth=3)\n",
    "\n",
    "print('N=')\n",
    "print(np.sum(n_pyr_syn))\n",
    "pv_path = os.path.join(DATAPATH, \"longitudinal/synfiles/pv/\")\n",
    "\n",
    "n_pv_syn = 0\n",
    "\n",
    "\n",
    "\n",
    "\n",
    "paths = get_synfiles(pv_path)\n",
    "sf_agg = []\n",
    "pv_fracts= []\n",
    "print('PV Dend N: {}'.format(len(paths)))\n",
    "for path in paths:\n",
    "    print('Binarizing {}'.format(path))\n",
    "    data = load_synfile(path)\n",
    "    binary = get_presence(data)\n",
    "    n_pv_syn += np.sum(binary[:,0])\n",
    "    sf = calc_survival_fraction(binary)\n",
    "    sf_agg.append(sf)\n",
    "    pv_fracts.append(sf[6])\n",
    "    a.plot(sf,color='red',linewidth=0.2)\n",
    "    \n",
    "print(n_pv_syn)\n",
    "\n",
    "a.errorbar(x=range(8),y=np.nanmean(sf_agg,axis=0),yerr=scipy.stats.sem(sf_agg,axis=0,nan_policy='omit'),color='r',linewidth=3)\n",
    "a.set_ylim(0,1.1)\n",
    "print('Day 6 Ranksum: ',scipy.stats.ranksums(pv_fracts,pyr_fracts))\n",
    "print('Mean Pyr Day 6 {}'.format(np.mean(pyr_fracts)))\n",
    "print('SEM Pyr Day 6 {}'.format(scipy.stats.sem(pyr_fracts)))\n",
    "print('Mean PV Day 6 {}'.format(np.mean(pv_fracts)))\n",
    "print('SEM PV Day 6 {}'.format(scipy.stats.sem(pv_fracts)))\n",
    "\n",
    "plt.savefig('/mnt/c/Users/Joshua Melander/Desktop/3D.svg',dpi=100,format='svg')"
   ]
  },
  {
   "cell_type": "markdown",
   "id": "french-knitting",
   "metadata": {},
   "source": [
    "# Figure 3E: Daily dynamics"
   ]
  },
  {
   "cell_type": "code",
   "execution_count": 6,
   "id": "moral-diana",
   "metadata": {},
   "outputs": [
    {
     "name": "stdout",
     "output_type": "stream",
     "text": [
      "Loaded 14 synfiles from /mnt/c/Users/Joshua Melander/OHSU/lesoin_data/longitudinal/synfiles/pyr/\n",
      "Loaded 21 synfiles from /mnt/c/Users/Joshua Melander/OHSU/lesoin_data/longitudinal/synfiles/pv/\n"
     ]
    }
   ],
   "source": [
    "DATAPATH = '/mnt/c/Users/Joshua Melander/OHSU/lesoin_data/'\n",
    "\n",
    "pyr_dends = []\n",
    "pv_dends = []\n",
    "\n",
    "PYR_PATH = os.path.join(DATAPATH, \"longitudinal/synfiles/pyr/\")\n",
    "paths = get_synfiles(PYR_PATH)\n",
    "\n",
    "for path in paths:\n",
    "    data = load_synfile(path)\n",
    "    binary = get_presence(data)\n",
    "        \n",
    "    pyr_dends.append(binary)\n",
    "    \n",
    "PV_PATH = os.path.join(DATAPATH, \"longitudinal/synfiles/pv/\")\n",
    "paths = get_synfiles(PV_PATH)\n",
    "\n",
    "for path in paths:\n",
    "    data = load_synfile(path)\n",
    "    binary = get_presence(data)\n",
    "        \n",
    "    pv_dends.append(binary)"
   ]
  },
  {
   "cell_type": "code",
   "execution_count": 7,
   "id": "durable-movie",
   "metadata": {},
   "outputs": [],
   "source": [
    "pyr_adds = []\n",
    "pyr_elims = []\n",
    "\n",
    "for i, dend in enumerate(pyr_dends):\n",
    "    n_syn = np.sum(dend,axis=0)\n",
    "    diff = np.diff(dend,axis=1)\n",
    "    \n",
    "    additions = np.sum(diff==1,axis=0)\n",
    "    eliminations = np.sum(diff==-1,axis=0)\n",
    "    \n",
    "    fract_add = additions/n_syn[1:]\n",
    "    fract_elim = eliminations/n_syn[:-1]\n",
    "    \n",
    "    avg_fract_add = np.mean(fract_add)\n",
    "    avg_fract_elim = np.mean(fract_elim)\n",
    "    \n",
    "    pyr_adds.append(avg_fract_add)\n",
    "    pyr_elims.append(avg_fract_elim)\n",
    "    \n",
    "pyr_adds = np.array(pyr_adds)\n",
    "pyr_elims = np.array(pyr_elims)\n",
    "pyr_dynamic = pyr_adds + pyr_elims"
   ]
  },
  {
   "cell_type": "code",
   "execution_count": 8,
   "id": "remarkable-history",
   "metadata": {},
   "outputs": [],
   "source": [
    "pv_adds = []\n",
    "pv_elims = []\n",
    "\n",
    "for i, dend in enumerate(pv_dends):\n",
    "    n_syn = np.sum(dend,axis=0)\n",
    "    diff = np.diff(dend,axis=1)\n",
    "    \n",
    "    additions = np.sum(diff==1,axis=0)\n",
    "    eliminations = np.sum(diff==-1,axis=0)\n",
    "    \n",
    "    fract_add = additions/n_syn[1:]\n",
    "    fract_elim = eliminations/n_syn[:-1]\n",
    "    \n",
    "    avg_fract_add = np.mean(fract_add)\n",
    "    avg_fract_elim = np.mean(fract_elim)\n",
    "    \n",
    "    pv_adds.append(avg_fract_add)\n",
    "    pv_elims.append(avg_fract_elim)\n",
    "    \n",
    "pv_adds = np.array(pv_adds)\n",
    "pv_elims = np.array(pv_elims)\n",
    "pv_dynamic = pv_adds +pv_elims"
   ]
  },
  {
   "cell_type": "code",
   "execution_count": 11,
   "id": "cubic-specific",
   "metadata": {},
   "outputs": [
    {
     "name": "stdout",
     "output_type": "stream",
     "text": [
      "Pyr mean:  0.1172389867007078\n",
      "PV mean:  0.02948326603921986\n",
      "Pyr SEM: 0.009780679885502904\n",
      "PV SEM: 0.0038863274453907522\n"
     ]
    }
   ],
   "source": [
    "print('Pyr mean: ',pyr_dynamic.mean())\n",
    "print('PV mean: ',pv_dynamic.mean())\n",
    "\n",
    "print('Pyr SEM:',scipy.stats.sem(pyr_dynamic))\n",
    "print('PV SEM:',scipy.stats.sem(pv_dynamic))"
   ]
  },
  {
   "cell_type": "code",
   "execution_count": 12,
   "id": "amino-details",
   "metadata": {},
   "outputs": [
    {
     "name": "stdout",
     "output_type": "stream",
     "text": [
      "RanksumsResult(statistic=4.815060462365538, pvalue=1.4715532747260245e-06)\n"
     ]
    },
    {
     "data": {
      "image/png": "[encoded data removed]",
      "text/plain": [
       "<Figure size 216x324 with 1 Axes>"
      ]
     },
     "metadata": {
      "needs_background": "light"
     },
     "output_type": "display_data"
    }
   ],
   "source": [
    "f,a = plt.subplots(1)\n",
    "f.set_size_inches(3,4.5)\n",
    "a.plot(np.ones(pyr_dynamic.shape),pyr_dynamic,'bo',markersize=10,fillstyle='none')\n",
    "a.plot(np.ones(pv_dynamic.shape)*1.5,pv_dynamic,'ro',markersize=10,fillstyle='none')\n",
    "\n",
    "a.plot(1,np.mean(pyr_dynamic),'k+',ms=20)\n",
    "a.plot(1.5,np.mean(pv_dynamic),'k+',ms=20)\n",
    "\n",
    "a.set_xlim(0.9,1.6)\n",
    "a.set_yticks([0,.1,.2])\n",
    "\n",
    "print(scipy.stats.ranksums(pyr_dynamic,pv_dynamic))"
   ]
  },
  {
   "cell_type": "markdown",
   "id": "valid-diary",
   "metadata": {},
   "source": [
    "# Figure 3F: Weakest to strongest survival fractions"
   ]
  },
  {
   "cell_type": "code",
   "execution_count": 13,
   "id": "sixth-values",
   "metadata": {},
   "outputs": [],
   "source": [
    "DATAPATH = \"/mnt/c/Users/Joshua Melander/OHSU/lesoin_data/longitudinal/weights/norm_weights/\"\n",
    "files = os.listdir(DATAPATH)\n",
    "\n",
    "pyr_weights = []\n",
    "pv_weights = []\n",
    "\n",
    "for f in files:\n",
    "    if 'pyr' in f:\n",
    "        w = np.load(os.path.join(DATAPATH,f))\n",
    "        pyr_weights.append(w)\n",
    "    if 'pv' in f:\n",
    "        w = np.load(os.path.join(DATAPATH,f))\n",
    "        pv_weights.append(w[:,:7])\n",
    "\n",
    "pyr_weights = np.concatenate(pyr_weights,axis=0)\n",
    "pv_weights = np.concatenate(pv_weights,axis=0)"
   ]
  },
  {
   "cell_type": "markdown",
   "id": "medical-serbia",
   "metadata": {},
   "source": [
    "### Pyramidal"
   ]
  },
  {
   "cell_type": "code",
   "execution_count": 14,
   "id": "herbal-voltage",
   "metadata": {},
   "outputs": [
    {
     "name": "stdout",
     "output_type": "stream",
     "text": [
      "(124, 7)\n",
      "0.5\n",
      "(124, 7)\n",
      "0.6129032258064516\n",
      "(124, 7)\n",
      "0.8064516129032258\n",
      "(124, 7)\n",
      "0.9758064516129032\n"
     ]
    },
    {
     "data": {
      "text/plain": [
       "[Text(0, 0, '0'), Text(2, 0, '8'), Text(4, 0, '16'), Text(6, 0, '24')]"
      ]
     },
     "execution_count": 14,
     "metadata": {},
     "output_type": "execute_result"
    },
    {
     "data": {
      "image/png": "[encoded data removed]",
      "text/plain": [
       "<Figure size 360x360 with 1 Axes>"
      ]
     },
     "metadata": {
      "needs_background": "light"
     },
     "output_type": "display_data"
    }
   ],
   "source": [
    "t_0 = pyr_weights[:,0]\n",
    "sort_idxs = np.argsort(t_0)\n",
    "pyr_sort = pyr_weights[sort_idxs,:7]\n",
    "pyr_sort = pyr_sort[pyr_sort[:,0]>0]\n",
    "\n",
    "n_syn = pyr_sort.shape[0]\n",
    "quart = int(n_syn/4)\n",
    "\n",
    "f,a = plt.subplots(1)\n",
    "f.set_size_inches(5,5)\n",
    "for i, quartile in enumerate(np.arange(0,n_syn,quart)):\n",
    "    weights = pyr_sort[quartile:(quartile+quart)]\n",
    "    binary = weights>0\n",
    "    print(binary.shape)\n",
    "    sf = np.mean(binary,axis=0)\n",
    "    \n",
    "    print(sf[6])\n",
    "    a.plot(np.mean(binary,axis=0))\n",
    "\n",
    "a.set_ylim(0,1.1)\n",
    "a.set_xticks([0,2,4,6])\n",
    "a.set_xticklabels([0,8,16,24])"
   ]
  },
  {
   "cell_type": "markdown",
   "id": "current-camcorder",
   "metadata": {},
   "source": [
    "### PV+"
   ]
  },
  {
   "cell_type": "code",
   "execution_count": 16,
   "id": "waiting-liquid",
   "metadata": {},
   "outputs": [
    {
     "name": "stdout",
     "output_type": "stream",
     "text": [
      "(104, 7)\n",
      "0.7692307692307693\n",
      "(104, 7)\n",
      "0.9230769230769231\n",
      "(104, 7)\n",
      "0.9807692307692307\n",
      "(104, 7)\n",
      "1.0\n"
     ]
    },
    {
     "data": {
      "text/plain": [
       "[Text(0, 0, '0'), Text(2, 0, '8'), Text(4, 0, '16'), Text(6, 0, '24')]"
      ]
     },
     "execution_count": 16,
     "metadata": {},
     "output_type": "execute_result"
    },
    {
     "data": {
      "image/png": "[encoded data removed]",
      "text/plain": [
       "<Figure size 360x360 with 1 Axes>"
      ]
     },
     "metadata": {
      "needs_background": "light"
     },
     "output_type": "display_data"
    }
   ],
   "source": [
    "t_0 = pv_weights[:,0]\n",
    "sort_idxs = np.argsort(t_0)\n",
    "pv_sort = pv_weights[sort_idxs,:]\n",
    "pv_sort = pv_sort[pv_sort[:,0]>0]\n",
    "\n",
    "n_syn = pv_sort.shape[0]\n",
    "quart = int(n_syn/4)\n",
    "\n",
    "f,a = plt.subplots(1)\n",
    "f.set_size_inches(5,5)\n",
    "\n",
    "for i, quartile in enumerate(np.arange(0,n_syn,quart)):\n",
    "    weights = pv_sort[quartile:(quartile+quart)]\n",
    "    binary = weights>0\n",
    "    print(binary.shape)\n",
    "    sf = np.mean(binary,axis=0)\n",
    "    \n",
    "    print(sf[6])\n",
    "    a.plot(np.mean(binary,axis=0))\n",
    "\n",
    "a.set_ylim(0,1.1)\n",
    "a.set_xticks([0,2,4,6])\n",
    "a.set_xticklabels([0,8,16,24])\n",
    "\n"
   ]
  },
  {
   "cell_type": "markdown",
   "id": "british-ozone",
   "metadata": {},
   "source": [
    "# Figure 3G: Newborn vs pre-existing synapse survival"
   ]
  },
  {
   "cell_type": "code",
   "execution_count": 17,
   "id": "ruled-consideration",
   "metadata": {},
   "outputs": [
    {
     "name": "stdout",
     "output_type": "stream",
     "text": [
      "Loaded 14 synfiles from /mnt/c/Users/Joshua Melander/OHSU/lesoin_data/longitudinal/synfiles/pyr/\n",
      "552\n",
      "73\n",
      "Loaded 21 synfiles from /mnt/c/Users/Joshua Melander/OHSU/lesoin_data/longitudinal/synfiles/pv/\n",
      "441\n",
      "14\n"
     ]
    },
    {
     "data": {
      "image/png": "[encoded data removed]",
      "text/plain": [
       "<Figure size 216x324 with 1 Axes>"
      ]
     },
     "metadata": {
      "needs_background": "light"
     },
     "output_type": "display_data"
    }
   ],
   "source": [
    "DATAPATH = '/mnt/c/Users/Joshua Melander/OHSU/lesoin_data/'\n",
    "\n",
    "PYR_PATH = os.path.join(DATAPATH, \"longitudinal/synfiles/pyr/\")\n",
    "paths = get_synfiles(PYR_PATH)\n",
    "\n",
    "agg = []\n",
    "for path in paths:\n",
    "    data = load_synfile(path)\n",
    "    binary = get_presence(data)\n",
    "    agg.append(binary)\n",
    "\n",
    "agg = np.concatenate(agg,axis=0)\n",
    "\n",
    "\n",
    "d0s = []\n",
    "d1s = []\n",
    "d2s = []\n",
    "\n",
    "for syn in agg:\n",
    "    if (syn[0]==1) and (syn[1]==1):\n",
    "        d0s.append(syn)\n",
    "    elif (syn[0]==0) and (syn[1]==1):\n",
    "        d1s.append(syn)\n",
    "    elif (syn[1]==0) and (syn[2] == 1):\n",
    "        d2s.append(syn)\n",
    "        \n",
    "pre_existing = np.vstack(d0s)[:,1:-1]\n",
    "\n",
    "d1s = np.vstack(d1s)[:,1:-1]\n",
    "d2s = np.vstack(d2s)[:,2:]\n",
    "newborns = np.vstack([d1s,d2s])\n",
    "\n",
    "print(pre_existing.shape[0])\n",
    "print(newborns.shape[0])\n",
    "\n",
    "sf_pre = calc_survival_fraction(pre_existing)\n",
    "sf_new = calc_survival_fraction(newborns)\n",
    "\n",
    "f,a = plt.subplots(1)\n",
    "f.set_size_inches(3,4.5)\n",
    "\n",
    "a.plot(sf_new,linestyle='--',color='blue')\n",
    "a.plot(sf_pre,linestyle='-',color='blue')\n",
    "\n",
    "PV_PATH = os.path.join(DATAPATH, \"longitudinal/synfiles/pv/\")\n",
    "paths = get_synfiles(PV_PATH)\n",
    "\n",
    "agg = []\n",
    "for path in paths:\n",
    "    data = load_synfile(path)\n",
    "    binary = get_presence(data)\n",
    "    if binary.shape[1]==8:\n",
    "        agg.append(binary)\n",
    "\n",
    "agg = np.concatenate(agg,axis=0)\n",
    "\n",
    "\n",
    "d0s = []\n",
    "d1s = []\n",
    "d2s = []\n",
    "\n",
    "for syn in agg:\n",
    "    if (syn[0]==1) and (syn[1]==1):\n",
    "        d0s.append(syn)\n",
    "    elif (syn[0]==0) and (syn[1]==1):\n",
    "        d1s.append(syn)\n",
    "    elif (syn[1]==0) and (syn[2] == 1):\n",
    "        d2s.append(syn)\n",
    "        \n",
    "pre_existing = np.vstack(d0s)[:,1:-1]\n",
    "\n",
    "d1s = np.vstack(d1s)[:,1:-1]\n",
    "d2s = np.vstack(d2s)[:,2:]\n",
    "newborns = np.vstack([d1s,d2s])\n",
    "\n",
    "print(pre_existing.shape[0])\n",
    "print(newborns.shape[0])\n",
    "sf_pre = calc_survival_fraction(pre_existing)\n",
    "sf_new = calc_survival_fraction(newborns)\n",
    "\n",
    "a.plot(sf_new,linestyle='--',color='red')\n",
    "a.plot(sf_pre,linestyle='-',color='red')\n",
    "\n",
    "a.set_ylim(0,1.1)\n",
    "a.spines['left'].set_position(('data', 0))\n",
    "a.spines['bottom'].set_position(('data', 0))\n",
    "a.set_ylabel('SF')\n",
    "a.set_xlabel('Days')\n",
    "a.set_xticks([0,1,2,3,4,5])\n",
    "a.set_xticklabels([0,4,8,12,16,20])\n",
    "a.axhline(y=1,alpha=0.3,color='black',linestyle='--')\n",
    "plt.show()"
   ]
  }
 ],
 "metadata": {
  "kernelspec": {
   "display_name": "Python 3",
   "language": "python",
   "name": "python3"
  },
  "language_info": {
   "codemirror_mode": {
    "name": "ipython",
    "version": 3
   },
   "file_extension": ".py",
   "mimetype": "text/x-python",
   "name": "python",
   "nbconvert_exporter": "python",
   "pygments_lexer": "ipython3",
   "version": "3.8.5"
  }
 },
 "nbformat": 4,
 "nbformat_minor": 5
}
